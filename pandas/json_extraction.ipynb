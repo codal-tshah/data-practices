{
  "nbformat": 4,
  "nbformat_minor": 0,
  "metadata": {
    "colab": {
      "provenance": []
    },
    "kernelspec": {
      "name": "python3",
      "display_name": "Python 3"
    },
    "language_info": {
      "name": "python"
    }
  },
  "cells": [
    {
      "cell_type": "code",
      "execution_count": null,
      "metadata": {
        "colab": {
          "base_uri": "https://localhost:8080/",
          "height": 211
        },
        "id": "w593Gin3iT2v",
        "outputId": "1406f879-7694-49c6-d08c-0884a6609ede"
      },
      "outputs": [
        {
          "output_type": "error",
          "ename": "TypeError",
          "evalue": "read_json() got an unexpected keyword argument 'header'",
          "traceback": [
            "\u001b[0;31m---------------------------------------------------------------------------\u001b[0m",
            "\u001b[0;31mTypeError\u001b[0m                                 Traceback (most recent call last)",
            "\u001b[0;32m<ipython-input-8-f1e149f99238>\u001b[0m in \u001b[0;36m<cell line: 3>\u001b[0;34m()\u001b[0m\n\u001b[1;32m      1\u001b[0m \u001b[0;32mimport\u001b[0m \u001b[0mpandas\u001b[0m \u001b[0;32mas\u001b[0m \u001b[0mpd\u001b[0m\u001b[0;34m\u001b[0m\u001b[0;34m\u001b[0m\u001b[0m\n\u001b[1;32m      2\u001b[0m \u001b[0;34m\u001b[0m\u001b[0m\n\u001b[0;32m----> 3\u001b[0;31m \u001b[0mdf\u001b[0m \u001b[0;34m=\u001b[0m \u001b[0mpd\u001b[0m\u001b[0;34m.\u001b[0m\u001b[0mread_json\u001b[0m\u001b[0;34m(\u001b[0m\u001b[0;34m'/content/drive/MyDrive/data_practices/pandas/data/umang.json'\u001b[0m\u001b[0;34m,\u001b[0m \u001b[0mheader\u001b[0m\u001b[0;34m=\u001b[0m\u001b[0;32mTrue\u001b[0m\u001b[0;34m)\u001b[0m\u001b[0;34m\u001b[0m\u001b[0;34m\u001b[0m\u001b[0m\n\u001b[0m\u001b[1;32m      4\u001b[0m \u001b[0;34m\u001b[0m\u001b[0m\n\u001b[1;32m      5\u001b[0m \u001b[0;31m# print(df.to_string())\u001b[0m\u001b[0;34m\u001b[0m\u001b[0;34m\u001b[0m\u001b[0m\n",
            "\u001b[0;31mTypeError\u001b[0m: read_json() got an unexpected keyword argument 'header'"
          ]
        }
      ],
      "source": [
        "import pandas as pd\n",
        "\n",
        "df = pd.read_json('/content/drive/MyDrive/data_practices/pandas/data/umang.json')\n",
        "\n",
        "# print(df.to_string())"
      ]
    },
    {
      "cell_type": "code",
      "source": [
        "columns = list(df.iloc[0].keys())\n",
        "\n",
        "# Create a DataFrame with the extracted column names\n",
        "df = pd.DataFrame(df.values[1:], columns=columns)\n",
        "\n",
        "# Display the DataFrame\n",
        "print(df)"
      ],
      "metadata": {
        "colab": {
          "base_uri": "https://localhost:8080/"
        },
        "id": "jCu0KEKQkIUv",
        "outputId": "b597d762-b84f-4525-8828-a36addf2c8ca"
      },
      "execution_count": null,
      "outputs": [
        {
          "output_type": "stream",
          "name": "stdout",
          "text": [
            "                                             products total skip limit\n",
            "0   {'id': 2, 'title': 'iPhone X', 'description': ...   100    0    30\n",
            "1   {'id': 3, 'title': 'Samsung Universe 9', 'desc...   100    0    30\n",
            "2   {'id': 4, 'title': 'OPPOF19', 'description': '...   100    0    30\n",
            "3   {'id': 5, 'title': 'Huawei P30', 'description'...   100    0    30\n",
            "4   {'id': 6, 'title': 'MacBook Pro', 'description...   100    0    30\n",
            "5   {'id': 7, 'title': 'Samsung Galaxy Book', 'des...   100    0    30\n",
            "6   {'id': 8, 'title': 'Microsoft Surface Laptop 4...   100    0    30\n",
            "7   {'id': 9, 'title': 'Infinix INBOOK', 'descript...   100    0    30\n",
            "8   {'id': 10, 'title': 'HP Pavilion 15-DK1056WM',...   100    0    30\n",
            "9   {'id': 11, 'title': 'perfume Oil', 'descriptio...   100    0    30\n",
            "10  {'id': 12, 'title': 'Brown Perfume', 'descript...   100    0    30\n",
            "11  {'id': 13, 'title': 'Fog Scent Xpressio Perfum...   100    0    30\n",
            "12  {'id': 14, 'title': 'Non-Alcoholic Concentrate...   100    0    30\n",
            "13  {'id': 15, 'title': 'Eau De Perfume Spray', 'd...   100    0    30\n",
            "14  {'id': 16, 'title': 'Hyaluronic Acid Serum', '...   100    0    30\n",
            "15  {'id': 17, 'title': 'Tree Oil 30ml', 'descript...   100    0    30\n",
            "16  {'id': 18, 'title': 'Oil Free Moisturizer 100m...   100    0    30\n",
            "17  {'id': 19, 'title': 'Skin Beauty Serum.', 'des...   100    0    30\n",
            "18  {'id': 20, 'title': 'Freckle Treatment Cream- ...   100    0    30\n",
            "19  {'id': 21, 'title': '- Daal Masoor 500 grams',...   100    0    30\n",
            "20  {'id': 22, 'title': 'Elbow Macaroni - 400 gm',...   100    0    30\n",
            "21  {'id': 23, 'title': 'Orange Essence Food Flavo...   100    0    30\n",
            "22  {'id': 24, 'title': 'cereals muesli fruit nuts...   100    0    30\n",
            "23  {'id': 25, 'title': 'Gulab Powder 50 Gram', 'd...   100    0    30\n",
            "24  {'id': 26, 'title': 'Plant Hanger For Home', '...   100    0    30\n",
            "25  {'id': 27, 'title': 'Flying Wooden Bird', 'des...   100    0    30\n",
            "26  {'id': 28, 'title': '3D Embellishment Art Lamp...   100    0    30\n",
            "27  {'id': 29, 'title': 'Handcraft Chinese style',...   100    0    30\n",
            "28  {'id': 30, 'title': 'Key Holder', 'description...   100    0    30\n"
          ]
        }
      ]
    },
    {
      "cell_type": "code",
      "source": [
        "print(df.to_string())"
      ],
      "metadata": {
        "colab": {
          "base_uri": "https://localhost:8080/"
        },
        "id": "RW3Ucv7ZipEK",
        "outputId": "d3f7af45-cd5e-4c0d-a97f-653332e9d428"
      },
      "execution_count": null,
      "outputs": [
        {
          "output_type": "stream",
          "name": "stdout",
          "text": [
            "                                                                                                                                                                                                                                                                                                                                                                                                                                                                                                                                                                                                                                                                                                                          products  total  skip  limit\n",
            "0                                                                                                                                               {'id': 1, 'title': 'iPhone 9', 'description': 'An apple mobile which is nothing like apple', 'price': 549, 'discountPercentage': 12.96, 'rating': 4.69, 'stock': 94, 'brand': 'Apple', 'category': 'smartphones', 'thumbnail': 'https://cdn.dummyjson.com/product-images/1/thumbnail.jpg', 'images': ['https://cdn.dummyjson.com/product-images/1/1.jpg', 'https://cdn.dummyjson.com/product-images/1/2.jpg', 'https://cdn.dummyjson.com/product-images/1/3.jpg', 'https://cdn.dummyjson.com/product-images/1/4.jpg', 'https://cdn.dummyjson.com/product-images/1/thumbnail.jpg']}    100     0     30\n",
            "1                                                                                                                                         {'id': 2, 'title': 'iPhone X', 'description': 'SIM-Free, Model A19211 6.5-inch Super Retina HD display with OLED technology A12 Bionic chip with ...', 'price': 899, 'discountPercentage': 17.94, 'rating': 4.44, 'stock': 34, 'brand': 'Apple', 'category': 'smartphones', 'thumbnail': 'https://cdn.dummyjson.com/product-images/2/thumbnail.jpg', 'images': ['https://cdn.dummyjson.com/product-images/2/1.jpg', 'https://cdn.dummyjson.com/product-images/2/2.jpg', 'https://cdn.dummyjson.com/product-images/2/3.jpg', 'https://cdn.dummyjson.com/product-images/2/thumbnail.jpg']}    100     0     30\n",
            "2                                                                                                                                                                                                                                                                                                                                       {'id': 3, 'title': 'Samsung Universe 9', 'description': 'Samsung's new variant which goes beyond Galaxy to the Universe', 'price': 1249, 'discountPercentage': 15.46, 'rating': 4.09, 'stock': 36, 'brand': 'Samsung', 'category': 'smartphones', 'thumbnail': 'https://cdn.dummyjson.com/product-images/3/thumbnail.jpg', 'images': ['https://cdn.dummyjson.com/product-images/3/1.jpg']}    100     0     30\n",
            "3                                                                                                                                             {'id': 4, 'title': 'OPPOF19', 'description': 'OPPO F19 is officially announced on April 2021.', 'price': 280, 'discountPercentage': 17.91, 'rating': 4.3, 'stock': 123, 'brand': 'OPPO', 'category': 'smartphones', 'thumbnail': 'https://cdn.dummyjson.com/product-images/4/thumbnail.jpg', 'images': ['https://cdn.dummyjson.com/product-images/4/1.jpg', 'https://cdn.dummyjson.com/product-images/4/2.jpg', 'https://cdn.dummyjson.com/product-images/4/3.jpg', 'https://cdn.dummyjson.com/product-images/4/4.jpg', 'https://cdn.dummyjson.com/product-images/4/thumbnail.jpg']}    100     0     30\n",
            "4                                                                                                                                                                     {'id': 5, 'title': 'Huawei P30', 'description': 'Huawei’s re-badged P30 Pro New Edition was officially unveiled yesterday in Germany and now the device has made its way to the UK.', 'price': 499, 'discountPercentage': 10.58, 'rating': 4.09, 'stock': 32, 'brand': 'Huawei', 'category': 'smartphones', 'thumbnail': 'https://cdn.dummyjson.com/product-images/5/thumbnail.jpg', 'images': ['https://cdn.dummyjson.com/product-images/5/1.jpg', 'https://cdn.dummyjson.com/product-images/5/2.jpg', 'https://cdn.dummyjson.com/product-images/5/3.jpg']}    100     0     30\n",
            "5                                                                                                                                                                         {'id': 6, 'title': 'MacBook Pro', 'description': 'MacBook Pro 2021 with mini-LED display may launch between September, November', 'price': 1749, 'discountPercentage': 11.02, 'rating': 4.57, 'stock': 83, 'brand': 'Apple', 'category': 'laptops', 'thumbnail': 'https://cdn.dummyjson.com/product-images/6/thumbnail.png', 'images': ['https://cdn.dummyjson.com/product-images/6/1.png', 'https://cdn.dummyjson.com/product-images/6/2.jpg', 'https://cdn.dummyjson.com/product-images/6/3.png', 'https://cdn.dummyjson.com/product-images/6/4.jpg']}    100     0     30\n",
            "6                                                                                                                                                   {'id': 7, 'title': 'Samsung Galaxy Book', 'description': 'Samsung Galaxy Book S (2020) Laptop With Intel Lakefield Chip, 8GB of RAM Launched', 'price': 1499, 'discountPercentage': 4.15, 'rating': 4.25, 'stock': 50, 'brand': 'Samsung', 'category': 'laptops', 'thumbnail': 'https://cdn.dummyjson.com/product-images/7/thumbnail.jpg', 'images': ['https://cdn.dummyjson.com/product-images/7/1.jpg', 'https://cdn.dummyjson.com/product-images/7/2.jpg', 'https://cdn.dummyjson.com/product-images/7/3.jpg', 'https://cdn.dummyjson.com/product-images/7/thumbnail.jpg']}    100     0     30\n",
            "7                                                  {'id': 8, 'title': 'Microsoft Surface Laptop 4', 'description': 'Style and speed. Stand out on HD video calls backed by Studio Mics. Capture ideas on the vibrant touchscreen.', 'price': 1499, 'discountPercentage': 10.23, 'rating': 4.43, 'stock': 68, 'brand': 'Microsoft Surface', 'category': 'laptops', 'thumbnail': 'https://cdn.dummyjson.com/product-images/8/thumbnail.jpg', 'images': ['https://cdn.dummyjson.com/product-images/8/1.jpg', 'https://cdn.dummyjson.com/product-images/8/2.jpg', 'https://cdn.dummyjson.com/product-images/8/3.jpg', 'https://cdn.dummyjson.com/product-images/8/4.jpg', 'https://cdn.dummyjson.com/product-images/8/thumbnail.jpg']}    100     0     30\n",
            "8                                                                                                                 {'id': 9, 'title': 'Infinix INBOOK', 'description': 'Infinix Inbook X1 Ci3 10th 8GB 256GB 14 Win10 Grey – 1 Year Warranty', 'price': 1099, 'discountPercentage': 11.83, 'rating': 4.54, 'stock': 96, 'brand': 'Infinix', 'category': 'laptops', 'thumbnail': 'https://cdn.dummyjson.com/product-images/9/thumbnail.jpg', 'images': ['https://cdn.dummyjson.com/product-images/9/1.jpg', 'https://cdn.dummyjson.com/product-images/9/2.png', 'https://cdn.dummyjson.com/product-images/9/3.png', 'https://cdn.dummyjson.com/product-images/9/4.jpg', 'https://cdn.dummyjson.com/product-images/9/thumbnail.jpg']}    100     0     30\n",
            "9                                                                                                                     {'id': 10, 'title': 'HP Pavilion 15-DK1056WM', 'description': 'HP Pavilion 15-DK1056WM Gaming Laptop 10th Gen Core i5, 8GB, 256GB SSD, GTX 1650 4GB, Windows 10', 'price': 1099, 'discountPercentage': 6.18, 'rating': 4.43, 'stock': 89, 'brand': 'HP Pavilion', 'category': 'laptops', 'thumbnail': 'https://cdn.dummyjson.com/product-images/10/thumbnail.jpeg', 'images': ['https://cdn.dummyjson.com/product-images/10/1.jpg', 'https://cdn.dummyjson.com/product-images/10/2.jpg', 'https://cdn.dummyjson.com/product-images/10/3.jpg', 'https://cdn.dummyjson.com/product-images/10/thumbnail.jpeg']}    100     0     30\n",
            "10                                                                                                                          {'id': 11, 'title': 'perfume Oil', 'description': 'Mega Discount, Impression of Acqua Di Gio by GiorgioArmani concentrated attar perfume Oil', 'price': 13, 'discountPercentage': 8.4, 'rating': 4.26, 'stock': 65, 'brand': 'Impression of Acqua Di Gio', 'category': 'fragrances', 'thumbnail': 'https://cdn.dummyjson.com/product-images/11/thumbnail.jpg', 'images': ['https://cdn.dummyjson.com/product-images/11/1.jpg', 'https://cdn.dummyjson.com/product-images/11/2.jpg', 'https://cdn.dummyjson.com/product-images/11/3.jpg', 'https://cdn.dummyjson.com/product-images/11/thumbnail.jpg']}    100     0     30\n",
            "11                                                                                                                   {'id': 12, 'title': 'Brown Perfume', 'description': 'Royal_Mirage Sport Brown Perfume for Men & Women - 120ml', 'price': 40, 'discountPercentage': 15.66, 'rating': 4, 'stock': 52, 'brand': 'Royal_Mirage', 'category': 'fragrances', 'thumbnail': 'https://cdn.dummyjson.com/product-images/12/thumbnail.jpg', 'images': ['https://cdn.dummyjson.com/product-images/12/1.jpg', 'https://cdn.dummyjson.com/product-images/12/2.jpg', 'https://cdn.dummyjson.com/product-images/12/3.png', 'https://cdn.dummyjson.com/product-images/12/4.jpg', 'https://cdn.dummyjson.com/product-images/12/thumbnail.jpg']}    100     0     30\n",
            "12                                                 {'id': 13, 'title': 'Fog Scent Xpressio Perfume', 'description': 'Product details of Best Fog Scent Xpressio Perfume 100ml For Men cool long lasting perfumes for Men', 'price': 13, 'discountPercentage': 8.14, 'rating': 4.59, 'stock': 61, 'brand': 'Fog Scent Xpressio', 'category': 'fragrances', 'thumbnail': 'https://cdn.dummyjson.com/product-images/13/thumbnail.webp', 'images': ['https://cdn.dummyjson.com/product-images/13/1.jpg', 'https://cdn.dummyjson.com/product-images/13/2.png', 'https://cdn.dummyjson.com/product-images/13/3.jpg', 'https://cdn.dummyjson.com/product-images/13/4.jpg', 'https://cdn.dummyjson.com/product-images/13/thumbnail.webp']}    100     0     30\n",
            "13                                                                                         {'id': 14, 'title': 'Non-Alcoholic Concentrated Perfume Oil', 'description': 'Original Al Munakh® by Mahal Al Musk | Our Impression of Climate | 6ml Non-Alcoholic Concentrated Perfume Oil', 'price': 120, 'discountPercentage': 15.6, 'rating': 4.21, 'stock': 114, 'brand': 'Al Munakh', 'category': 'fragrances', 'thumbnail': 'https://cdn.dummyjson.com/product-images/14/thumbnail.jpg', 'images': ['https://cdn.dummyjson.com/product-images/14/1.jpg', 'https://cdn.dummyjson.com/product-images/14/2.jpg', 'https://cdn.dummyjson.com/product-images/14/3.jpg', 'https://cdn.dummyjson.com/product-images/14/thumbnail.jpg']}    100     0     30\n",
            "14                                                                                      {'id': 15, 'title': 'Eau De Perfume Spray', 'description': 'Genuine  Al-Rehab spray perfume from UAE/Saudi Arabia/Yemen High Quality', 'price': 30, 'discountPercentage': 10.99, 'rating': 4.7, 'stock': 105, 'brand': 'Lord - Al-Rehab', 'category': 'fragrances', 'thumbnail': 'https://cdn.dummyjson.com/product-images/15/thumbnail.jpg', 'images': ['https://cdn.dummyjson.com/product-images/15/1.jpg', 'https://cdn.dummyjson.com/product-images/15/2.jpg', 'https://cdn.dummyjson.com/product-images/15/3.jpg', 'https://cdn.dummyjson.com/product-images/15/4.jpg', 'https://cdn.dummyjson.com/product-images/15/thumbnail.jpg']}    100     0     30\n",
            "15                                                                {'id': 16, 'title': 'Hyaluronic Acid Serum', 'description': 'L'OrÃ©al Paris introduces Hyaluron Expert Replumping Serum formulated with 1.5% Hyaluronic Acid', 'price': 19, 'discountPercentage': 13.31, 'rating': 4.83, 'stock': 110, 'brand': 'L'Oreal Paris', 'category': 'skincare', 'thumbnail': 'https://cdn.dummyjson.com/product-images/16/thumbnail.jpg', 'images': ['https://cdn.dummyjson.com/product-images/16/1.png', 'https://cdn.dummyjson.com/product-images/16/2.webp', 'https://cdn.dummyjson.com/product-images/16/3.jpg', 'https://cdn.dummyjson.com/product-images/16/4.jpg', 'https://cdn.dummyjson.com/product-images/16/thumbnail.jpg']}    100     0     30\n",
            "16                                                                                                              {'id': 17, 'title': 'Tree Oil 30ml', 'description': 'Tea tree oil contains a number of compounds, including terpinen-4-ol, that have been shown to kill certain bacteria,', 'price': 12, 'discountPercentage': 4.09, 'rating': 4.52, 'stock': 78, 'brand': 'Hemani Tea', 'category': 'skincare', 'thumbnail': 'https://cdn.dummyjson.com/product-images/17/thumbnail.jpg', 'images': ['https://cdn.dummyjson.com/product-images/17/1.jpg', 'https://cdn.dummyjson.com/product-images/17/2.jpg', 'https://cdn.dummyjson.com/product-images/17/3.jpg', 'https://cdn.dummyjson.com/product-images/17/thumbnail.jpg']}    100     0     30\n",
            "17                                     {'id': 18, 'title': 'Oil Free Moisturizer 100ml', 'description': 'Dermive Oil Free Moisturizer with SPF 20 is specifically formulated with ceramides, hyaluronic acid & sunscreen.', 'price': 40, 'discountPercentage': 13.1, 'rating': 4.5600000000000005, 'stock': 88, 'brand': 'Dermive', 'category': 'skincare', 'thumbnail': 'https://cdn.dummyjson.com/product-images/18/thumbnail.jpg', 'images': ['https://cdn.dummyjson.com/product-images/18/1.jpg', 'https://cdn.dummyjson.com/product-images/18/2.jpg', 'https://cdn.dummyjson.com/product-images/18/3.jpg', 'https://cdn.dummyjson.com/product-images/18/4.jpg', 'https://cdn.dummyjson.com/product-images/18/thumbnail.jpg']}    100     0     30\n",
            "18                                                                                                                                    {'id': 19, 'title': 'Skin Beauty Serum.', 'description': 'Product name: rorec collagen hyaluronic acid white face serum riceNet weight: 15 m', 'price': 46, 'discountPercentage': 10.68, 'rating': 4.42, 'stock': 54, 'brand': 'ROREC White Rice', 'category': 'skincare', 'thumbnail': 'https://cdn.dummyjson.com/product-images/19/thumbnail.jpg', 'images': ['https://cdn.dummyjson.com/product-images/19/1.jpg', 'https://cdn.dummyjson.com/product-images/19/2.jpg', 'https://cdn.dummyjson.com/product-images/19/3.png', 'https://cdn.dummyjson.com/product-images/19/thumbnail.jpg']}    100     0     30\n",
            "19  {'id': 20, 'title': 'Freckle Treatment Cream- 15gm', 'description': 'Fair & Clear is Pakistan's only pure Freckle cream which helpsfade Freckles, Darkspots and pigments. Mercury level is 0%, so there are no side effects.', 'price': 70, 'discountPercentage': 16.99, 'rating': 4.06, 'stock': 140, 'brand': 'Fair & Clear', 'category': 'skincare', 'thumbnail': 'https://cdn.dummyjson.com/product-images/20/thumbnail.jpg', 'images': ['https://cdn.dummyjson.com/product-images/20/1.jpg', 'https://cdn.dummyjson.com/product-images/20/2.jpg', 'https://cdn.dummyjson.com/product-images/20/3.jpg', 'https://cdn.dummyjson.com/product-images/20/4.jpg', 'https://cdn.dummyjson.com/product-images/20/thumbnail.jpg']}    100     0     30\n",
            "20                                                                                                                                                                                                          {'id': 21, 'title': '- Daal Masoor 500 grams', 'description': 'Fine quality Branded Product Keep in a cool and dry place', 'price': 20, 'discountPercentage': 4.8100000000000005, 'rating': 4.44, 'stock': 133, 'brand': 'Saaf & Khaas', 'category': 'groceries', 'thumbnail': 'https://cdn.dummyjson.com/product-images/21/thumbnail.png', 'images': ['https://cdn.dummyjson.com/product-images/21/1.png', 'https://cdn.dummyjson.com/product-images/21/2.jpg', 'https://cdn.dummyjson.com/product-images/21/3.jpg']}    100     0     30\n",
            "21                                                                                                                                                                                                                   {'id': 22, 'title': 'Elbow Macaroni - 400 gm', 'description': 'Product details of Bake Parlor Big Elbow Macaroni - 400 gm', 'price': 14, 'discountPercentage': 15.58, 'rating': 4.57, 'stock': 146, 'brand': 'Bake Parlor Big', 'category': 'groceries', 'thumbnail': 'https://cdn.dummyjson.com/product-images/22/thumbnail.jpg', 'images': ['https://cdn.dummyjson.com/product-images/22/1.jpg', 'https://cdn.dummyjson.com/product-images/22/2.jpg', 'https://cdn.dummyjson.com/product-images/22/3.jpg']}    100     0     30\n",
            "22                                                                            {'id': 23, 'title': 'Orange Essence Food Flavou', 'description': 'Specifications of Orange Essence Food Flavour For Cakes and Baking Food Item', 'price': 14, 'discountPercentage': 8.04, 'rating': 4.85, 'stock': 26, 'brand': 'Baking Food Items', 'category': 'groceries', 'thumbnail': 'https://cdn.dummyjson.com/product-images/23/thumbnail.jpg', 'images': ['https://cdn.dummyjson.com/product-images/23/1.jpg', 'https://cdn.dummyjson.com/product-images/23/2.jpg', 'https://cdn.dummyjson.com/product-images/23/3.jpg', 'https://cdn.dummyjson.com/product-images/23/4.jpg', 'https://cdn.dummyjson.com/product-images/23/thumbnail.jpg']}    100     0     30\n",
            "23        {'id': 24, 'title': 'cereals muesli fruit nuts', 'description': 'original fauji cereal muesli 250gm box pack original fauji cereals muesli fruit nuts flakes breakfast cereal break fast faujicereals cerels cerel foji fouji', 'price': 46, 'discountPercentage': 16.8, 'rating': 4.94, 'stock': 113, 'brand': 'fauji', 'category': 'groceries', 'thumbnail': 'https://cdn.dummyjson.com/product-images/24/thumbnail.jpg', 'images': ['https://cdn.dummyjson.com/product-images/24/1.jpg', 'https://cdn.dummyjson.com/product-images/24/2.jpg', 'https://cdn.dummyjson.com/product-images/24/3.jpg', 'https://cdn.dummyjson.com/product-images/24/4.jpg', 'https://cdn.dummyjson.com/product-images/24/thumbnail.jpg']}    100     0     30\n",
            "24                                                                                                           {'id': 25, 'title': 'Gulab Powder 50 Gram', 'description': 'Dry Rose Flower Powder Gulab Powder 50 Gram • Treats Wounds', 'price': 70, 'discountPercentage': 13.58, 'rating': 4.87, 'stock': 47, 'brand': 'Dry Rose', 'category': 'groceries', 'thumbnail': 'https://cdn.dummyjson.com/product-images/25/thumbnail.jpg', 'images': ['https://cdn.dummyjson.com/product-images/25/1.png', 'https://cdn.dummyjson.com/product-images/25/2.jpg', 'https://cdn.dummyjson.com/product-images/25/3.png', 'https://cdn.dummyjson.com/product-images/25/4.jpg', 'https://cdn.dummyjson.com/product-images/25/thumbnail.jpg']}    100     0     30\n",
            "25                            {'id': 26, 'title': 'Plant Hanger For Home', 'description': 'Boho Decor Plant Hanger For Home Wall Decoration Macrame Wall Hanging Shelf', 'price': 41, 'discountPercentage': 17.86, 'rating': 4.08, 'stock': 131, 'brand': 'Boho Decor', 'category': 'home-decoration', 'thumbnail': 'https://cdn.dummyjson.com/product-images/26/thumbnail.jpg', 'images': ['https://cdn.dummyjson.com/product-images/26/1.jpg', 'https://cdn.dummyjson.com/product-images/26/2.jpg', 'https://cdn.dummyjson.com/product-images/26/3.jpg', 'https://cdn.dummyjson.com/product-images/26/4.jpg', 'https://cdn.dummyjson.com/product-images/26/5.jpg', 'https://cdn.dummyjson.com/product-images/26/thumbnail.jpg']}    100     0     30\n",
            "26                                             {'id': 27, 'title': 'Flying Wooden Bird', 'description': 'Package Include 6 Birds with Adhesive Tape Shape: 3D Shaped Wooden Birds Material: Wooden MDF, Laminated 3.5mm', 'price': 51, 'discountPercentage': 15.58, 'rating': 4.41, 'stock': 17, 'brand': 'Flying Wooden', 'category': 'home-decoration', 'thumbnail': 'https://cdn.dummyjson.com/product-images/27/thumbnail.webp', 'images': ['https://cdn.dummyjson.com/product-images/27/1.jpg', 'https://cdn.dummyjson.com/product-images/27/2.jpg', 'https://cdn.dummyjson.com/product-images/27/3.jpg', 'https://cdn.dummyjson.com/product-images/27/4.jpg', 'https://cdn.dummyjson.com/product-images/27/thumbnail.webp']}    100     0     30\n",
            "27                                                               {'id': 28, 'title': '3D Embellishment Art Lamp', 'description': '3D led lamp sticker Wall sticker 3d wall art light on/off button  cell operated (included)', 'price': 20, 'discountPercentage': 16.49, 'rating': 4.82, 'stock': 54, 'brand': 'LED Lights', 'category': 'home-decoration', 'thumbnail': 'https://cdn.dummyjson.com/product-images/28/thumbnail.jpg', 'images': ['https://cdn.dummyjson.com/product-images/28/1.jpg', 'https://cdn.dummyjson.com/product-images/28/2.jpg', 'https://cdn.dummyjson.com/product-images/28/3.png', 'https://cdn.dummyjson.com/product-images/28/4.jpg', 'https://cdn.dummyjson.com/product-images/28/thumbnail.jpg']}    100     0     30\n",
            "28                                         {'id': 29, 'title': 'Handcraft Chinese style', 'description': 'Handcraft Chinese style art luxury palace hotel villa mansion home decor ceramic vase with brass fruit plate', 'price': 60, 'discountPercentage': 15.34, 'rating': 4.44, 'stock': 7, 'brand': 'luxury palace', 'category': 'home-decoration', 'thumbnail': 'https://cdn.dummyjson.com/product-images/29/thumbnail.webp', 'images': ['https://cdn.dummyjson.com/product-images/29/1.jpg', 'https://cdn.dummyjson.com/product-images/29/2.jpg', 'https://cdn.dummyjson.com/product-images/29/3.webp', 'https://cdn.dummyjson.com/product-images/29/4.webp', 'https://cdn.dummyjson.com/product-images/29/thumbnail.webp']}    100     0     30\n",
            "29                                                                                                                                                 {'id': 30, 'title': 'Key Holder', 'description': 'Attractive DesignMetallic materialFour key hooksReliable & DurablePremium Quality', 'price': 30, 'discountPercentage': 2.92, 'rating': 4.92, 'stock': 54, 'brand': 'Golden', 'category': 'home-decoration', 'thumbnail': 'https://cdn.dummyjson.com/product-images/30/thumbnail.jpg', 'images': ['https://cdn.dummyjson.com/product-images/30/1.jpg', 'https://cdn.dummyjson.com/product-images/30/2.jpg', 'https://cdn.dummyjson.com/product-images/30/3.jpg', 'https://cdn.dummyjson.com/product-images/30/thumbnail.jpg']}    100     0     30\n"
          ]
        }
      ]
    },
    {
      "cell_type": "code",
      "source": [
        "df1 = pd.DataFrame(df)\n",
        "df1['products'] = df1['products'].apply(lambda x: {'id': x['id'], 'images': x['images']})\n",
        "print(df1)"
      ],
      "metadata": {
        "colab": {
          "base_uri": "https://localhost:8080/"
        },
        "id": "cFKBNiLik5Rf",
        "outputId": "1bb59289-aade-4915-9534-18a5508556a5"
      },
      "execution_count": null,
      "outputs": [
        {
          "output_type": "stream",
          "name": "stdout",
          "text": [
            "                                             products total skip limit\n",
            "0   {'id': 2, 'images': ['https://cdn.dummyjson.co...   100    0    30\n",
            "1   {'id': 3, 'images': ['https://cdn.dummyjson.co...   100    0    30\n",
            "2   {'id': 4, 'images': ['https://cdn.dummyjson.co...   100    0    30\n",
            "3   {'id': 5, 'images': ['https://cdn.dummyjson.co...   100    0    30\n",
            "4   {'id': 6, 'images': ['https://cdn.dummyjson.co...   100    0    30\n",
            "5   {'id': 7, 'images': ['https://cdn.dummyjson.co...   100    0    30\n",
            "6   {'id': 8, 'images': ['https://cdn.dummyjson.co...   100    0    30\n",
            "7   {'id': 9, 'images': ['https://cdn.dummyjson.co...   100    0    30\n",
            "8   {'id': 10, 'images': ['https://cdn.dummyjson.c...   100    0    30\n",
            "9   {'id': 11, 'images': ['https://cdn.dummyjson.c...   100    0    30\n",
            "10  {'id': 12, 'images': ['https://cdn.dummyjson.c...   100    0    30\n",
            "11  {'id': 13, 'images': ['https://cdn.dummyjson.c...   100    0    30\n",
            "12  {'id': 14, 'images': ['https://cdn.dummyjson.c...   100    0    30\n",
            "13  {'id': 15, 'images': ['https://cdn.dummyjson.c...   100    0    30\n",
            "14  {'id': 16, 'images': ['https://cdn.dummyjson.c...   100    0    30\n",
            "15  {'id': 17, 'images': ['https://cdn.dummyjson.c...   100    0    30\n",
            "16  {'id': 18, 'images': ['https://cdn.dummyjson.c...   100    0    30\n",
            "17  {'id': 19, 'images': ['https://cdn.dummyjson.c...   100    0    30\n",
            "18  {'id': 20, 'images': ['https://cdn.dummyjson.c...   100    0    30\n",
            "19  {'id': 21, 'images': ['https://cdn.dummyjson.c...   100    0    30\n",
            "20  {'id': 22, 'images': ['https://cdn.dummyjson.c...   100    0    30\n",
            "21  {'id': 23, 'images': ['https://cdn.dummyjson.c...   100    0    30\n",
            "22  {'id': 24, 'images': ['https://cdn.dummyjson.c...   100    0    30\n",
            "23  {'id': 25, 'images': ['https://cdn.dummyjson.c...   100    0    30\n",
            "24  {'id': 26, 'images': ['https://cdn.dummyjson.c...   100    0    30\n",
            "25  {'id': 27, 'images': ['https://cdn.dummyjson.c...   100    0    30\n",
            "26  {'id': 28, 'images': ['https://cdn.dummyjson.c...   100    0    30\n",
            "27  {'id': 29, 'images': ['https://cdn.dummyjson.c...   100    0    30\n",
            "28  {'id': 30, 'images': ['https://cdn.dummyjson.c...   100    0    30\n"
          ]
        }
      ]
    },
    {
      "cell_type": "code",
      "source": [
        "df2 = df1.drop(columns=['total', 'skip', 'limit'])\n",
        "print(df2)"
      ],
      "metadata": {
        "colab": {
          "base_uri": "https://localhost:8080/"
        },
        "id": "LAzScGCqlfF5",
        "outputId": "58b5f3f0-d26f-4c09-b6a1-11dae4ea7db5"
      },
      "execution_count": null,
      "outputs": [
        {
          "output_type": "stream",
          "name": "stdout",
          "text": [
            "                                             products\n",
            "0   {'id': 2, 'images': ['https://cdn.dummyjson.co...\n",
            "1   {'id': 3, 'images': ['https://cdn.dummyjson.co...\n",
            "2   {'id': 4, 'images': ['https://cdn.dummyjson.co...\n",
            "3   {'id': 5, 'images': ['https://cdn.dummyjson.co...\n",
            "4   {'id': 6, 'images': ['https://cdn.dummyjson.co...\n",
            "5   {'id': 7, 'images': ['https://cdn.dummyjson.co...\n",
            "6   {'id': 8, 'images': ['https://cdn.dummyjson.co...\n",
            "7   {'id': 9, 'images': ['https://cdn.dummyjson.co...\n",
            "8   {'id': 10, 'images': ['https://cdn.dummyjson.c...\n",
            "9   {'id': 11, 'images': ['https://cdn.dummyjson.c...\n",
            "10  {'id': 12, 'images': ['https://cdn.dummyjson.c...\n",
            "11  {'id': 13, 'images': ['https://cdn.dummyjson.c...\n",
            "12  {'id': 14, 'images': ['https://cdn.dummyjson.c...\n",
            "13  {'id': 15, 'images': ['https://cdn.dummyjson.c...\n",
            "14  {'id': 16, 'images': ['https://cdn.dummyjson.c...\n",
            "15  {'id': 17, 'images': ['https://cdn.dummyjson.c...\n",
            "16  {'id': 18, 'images': ['https://cdn.dummyjson.c...\n",
            "17  {'id': 19, 'images': ['https://cdn.dummyjson.c...\n",
            "18  {'id': 20, 'images': ['https://cdn.dummyjson.c...\n",
            "19  {'id': 21, 'images': ['https://cdn.dummyjson.c...\n",
            "20  {'id': 22, 'images': ['https://cdn.dummyjson.c...\n",
            "21  {'id': 23, 'images': ['https://cdn.dummyjson.c...\n",
            "22  {'id': 24, 'images': ['https://cdn.dummyjson.c...\n",
            "23  {'id': 25, 'images': ['https://cdn.dummyjson.c...\n",
            "24  {'id': 26, 'images': ['https://cdn.dummyjson.c...\n",
            "25  {'id': 27, 'images': ['https://cdn.dummyjson.c...\n",
            "26  {'id': 28, 'images': ['https://cdn.dummyjson.c...\n",
            "27  {'id': 29, 'images': ['https://cdn.dummyjson.c...\n",
            "28  {'id': 30, 'images': ['https://cdn.dummyjson.c...\n"
          ]
        }
      ]
    },
    {
      "cell_type": "code",
      "source": [
        "df2.to_json('umang_edited.json', orient='records')"
      ],
      "metadata": {
        "id": "GlHtI0etl27T"
      },
      "execution_count": null,
      "outputs": []
    },
    {
      "cell_type": "code",
      "source": [
        "import pandas as pd\n",
        "import json\n",
        "\n",
        "# Read the JSON file into a Python object\n",
        "with open('/content/drive/MyDrive/data_practices/pandas/data/umang.json') as f:\n",
        "    json_data = json.load(f)\n",
        "\n",
        "# Extract the column names from the first row of the JSON object\n",
        "columns = list(json_data[0].keys())\n",
        "\n",
        "# Read the JSON object into a DataFrame with the extracted column names\n",
        "df = pd.DataFrame(json_data, columns=columns)\n",
        "\n",
        "# Display the DataFrame\n",
        "print(df)\n"
      ],
      "metadata": {
        "colab": {
          "base_uri": "https://localhost:8080/",
          "height": 211
        },
        "id": "pQpq-YdojTfi",
        "outputId": "167561fb-326d-4254-b7aa-1100e58d9bac"
      },
      "execution_count": null,
      "outputs": [
        {
          "output_type": "error",
          "ename": "KeyError",
          "evalue": "0",
          "traceback": [
            "\u001b[0;31m---------------------------------------------------------------------------\u001b[0m",
            "\u001b[0;31mKeyError\u001b[0m                                  Traceback (most recent call last)",
            "\u001b[0;32m<ipython-input-7-070a58763f68>\u001b[0m in \u001b[0;36m<cell line: 9>\u001b[0;34m()\u001b[0m\n\u001b[1;32m      7\u001b[0m \u001b[0;34m\u001b[0m\u001b[0m\n\u001b[1;32m      8\u001b[0m \u001b[0;31m# Extract the column names from the first row of the JSON object\u001b[0m\u001b[0;34m\u001b[0m\u001b[0;34m\u001b[0m\u001b[0m\n\u001b[0;32m----> 9\u001b[0;31m \u001b[0mcolumns\u001b[0m \u001b[0;34m=\u001b[0m \u001b[0mlist\u001b[0m\u001b[0;34m(\u001b[0m\u001b[0mjson_data\u001b[0m\u001b[0;34m[\u001b[0m\u001b[0;36m0\u001b[0m\u001b[0;34m]\u001b[0m\u001b[0;34m.\u001b[0m\u001b[0mkeys\u001b[0m\u001b[0;34m(\u001b[0m\u001b[0;34m)\u001b[0m\u001b[0;34m)\u001b[0m\u001b[0;34m\u001b[0m\u001b[0;34m\u001b[0m\u001b[0m\n\u001b[0m\u001b[1;32m     10\u001b[0m \u001b[0;34m\u001b[0m\u001b[0m\n\u001b[1;32m     11\u001b[0m \u001b[0;31m# Read the JSON object into a DataFrame with the extracted column names\u001b[0m\u001b[0;34m\u001b[0m\u001b[0;34m\u001b[0m\u001b[0m\n",
            "\u001b[0;31mKeyError\u001b[0m: 0"
          ]
        }
      ]
    },
    {
      "cell_type": "code",
      "source": [],
      "metadata": {
        "id": "MMQLfcnljPJB"
      },
      "execution_count": null,
      "outputs": []
    }
  ]
}