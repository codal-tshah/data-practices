{
  "nbformat": 4,
  "nbformat_minor": 0,
  "metadata": {
    "colab": {
      "provenance": [],
      "mount_file_id": "1wF07Y8y_fCQH_2Ihq7LOEYfY4VSjjLFI",
      "authorship_tag": "ABX9TyPsVn4i5FqR68GhSq21NF31",
      "include_colab_link": true
    },
    "kernelspec": {
      "name": "python3",
      "display_name": "Python 3"
    },
    "language_info": {
      "name": "python"
    }
  },
  "cells": [
    {
      "cell_type": "markdown",
      "metadata": {
        "id": "view-in-github",
        "colab_type": "text"
      },
      "source": [
        "<a href=\"https://colab.research.google.com/github/codal-tshah/data-practices-2024/blob/15_apr/PySpark/Reading_Files.ipynb\" target=\"_parent\"><img src=\"https://colab.research.google.com/assets/colab-badge.svg\" alt=\"Open In Colab\"/></a>"
      ]
    },
    {
      "cell_type": "code",
      "source": [
        "from google.colab import drive\n",
        "drive.mount('/content/drive')"
      ],
      "metadata": {
        "colab": {
          "base_uri": "https://localhost:8080/"
        },
        "id": "deZ7F-HLLJuo",
        "outputId": "29879762-13d7-4a43-d5c7-dba21adb2b43"
      },
      "execution_count": null,
      "outputs": [
        {
          "output_type": "stream",
          "name": "stdout",
          "text": [
            "Mounted at /content/drive\n"
          ]
        }
      ]
    },
    {
      "cell_type": "code",
      "execution_count": null,
      "metadata": {
        "colab": {
          "base_uri": "https://localhost:8080/"
        },
        "id": "FKjf_qm6K7vc",
        "outputId": "9c530953-ee77-47b4-c77b-f67b95e58329"
      },
      "outputs": [
        {
          "output_type": "stream",
          "name": "stdout",
          "text": [
            "Collecting pyspark\n",
            "  Downloading pyspark-3.5.1.tar.gz (317.0 MB)\n",
            "\u001b[2K     \u001b[90m━━━━━━━━━━━━━━━━━━━━━━━━━━━━━━━━━━━━━━━━\u001b[0m \u001b[32m317.0/317.0 MB\u001b[0m \u001b[31m1.3 MB/s\u001b[0m eta \u001b[36m0:00:00\u001b[0m\n",
            "\u001b[?25h  Preparing metadata (setup.py) ... \u001b[?25l\u001b[?25hdone\n",
            "Requirement already satisfied: py4j==0.10.9.7 in /usr/local/lib/python3.10/dist-packages (from pyspark) (0.10.9.7)\n",
            "Building wheels for collected packages: pyspark\n",
            "  Building wheel for pyspark (setup.py) ... \u001b[?25l\u001b[?25hdone\n",
            "  Created wheel for pyspark: filename=pyspark-3.5.1-py2.py3-none-any.whl size=317488491 sha256=a315e611ee99e3c642092ccf86c9846c05e92a83622b1e95d801c2064caf760b\n",
            "  Stored in directory: /root/.cache/pip/wheels/80/1d/60/2c256ed38dddce2fdd93be545214a63e02fbd8d74fb0b7f3a6\n",
            "Successfully built pyspark\n",
            "Installing collected packages: pyspark\n",
            "Successfully installed pyspark-3.5.1\n"
          ]
        }
      ],
      "source": [
        "!pip install pyspark"
      ]
    },
    {
      "cell_type": "code",
      "source": [
        "from pyspark import *\n",
        "from pyspark.sql import DataFrame\n",
        "help(DataFrame.write)"
      ],
      "metadata": {
        "colab": {
          "base_uri": "https://localhost:8080/"
        },
        "id": "1Pd5EnWGLFdx",
        "outputId": "092fdf4c-4cb1-4f38-fd7b-77b9554d3296"
      },
      "execution_count": null,
      "outputs": [
        {
          "output_type": "stream",
          "name": "stdout",
          "text": [
            "Help on property:\n",
            "\n",
            "    Interface for saving the content of the non-streaming :class:`DataFrame` out into external\n",
            "    storage.\n",
            "    \n",
            "    .. versionadded:: 1.4.0\n",
            "    \n",
            "    .. versionchanged:: 3.4.0\n",
            "        Supports Spark Connect.\n",
            "    \n",
            "    Returns\n",
            "    -------\n",
            "    :class:`DataFrameWriter`\n",
            "    \n",
            "    Examples\n",
            "    --------\n",
            "    >>> df = spark.createDataFrame([(2, \"Alice\"), (5, \"Bob\")], schema=[\"age\", \"name\"])\n",
            "    >>> type(df.write)\n",
            "    <class '...readwriter.DataFrameWriter'>\n",
            "    \n",
            "    Write the DataFrame as a table.\n",
            "    \n",
            "    >>> _ = spark.sql(\"DROP TABLE IF EXISTS tab2\")\n",
            "    >>> df.write.saveAsTable(\"tab2\")\n",
            "    >>> _ = spark.sql(\"DROP TABLE tab2\")\n",
            "\n"
          ]
        }
      ]
    },
    {
      "cell_type": "code",
      "source": [
        "from pyspark.context import SparkContext\n",
        "from pyspark.sql.session import SparkSession\n",
        "sc = SparkContext('local')\n",
        "spark = SparkSession(sc)"
      ],
      "metadata": {
        "id": "s9lDY1CZOQAN"
      },
      "execution_count": null,
      "outputs": []
    },
    {
      "cell_type": "code",
      "source": [
        "data=[(1,'milan',56),(2,'rahul',26),(3,'mihir',34),(4,'jay',21)]\n",
        "schema=['id','name','age']\n",
        "df = spark.createDataFrame(data=data,schema=schema)\n",
        "df.show()"
      ],
      "metadata": {
        "colab": {
          "base_uri": "https://localhost:8080/"
        },
        "id": "8qMSpPJmLbQp",
        "outputId": "5efb1f53-bc19-4f87-80d0-5459d34773cc"
      },
      "execution_count": null,
      "outputs": [
        {
          "output_type": "stream",
          "name": "stdout",
          "text": [
            "+---+-----+---+\n",
            "| id| name|age|\n",
            "+---+-----+---+\n",
            "|  1|milan| 56|\n",
            "|  2|rahul| 26|\n",
            "|  3|mihir| 34|\n",
            "|  4|  jay| 21|\n",
            "+---+-----+---+\n",
            "\n"
          ]
        }
      ]
    },
    {
      "cell_type": "code",
      "source": [
        "display(df)"
      ],
      "metadata": {
        "colab": {
          "base_uri": "https://localhost:8080/",
          "height": 34
        },
        "id": "UOtMBPV5LoRb",
        "outputId": "da2dc515-4789-4470-ae49-6fe92c2ecac9"
      },
      "execution_count": null,
      "outputs": [
        {
          "output_type": "display_data",
          "data": {
            "text/plain": [
              "DataFrame[id: bigint, name: string, age: bigint]"
            ]
          },
          "metadata": {}
        }
      ]
    },
    {
      "cell_type": "code",
      "source": [
        "df.write"
      ],
      "metadata": {
        "colab": {
          "base_uri": "https://localhost:8080/"
        },
        "id": "d051YpZ3PFka",
        "outputId": "47167054-a3ab-4cd8-ff9b-78d768b66739"
      },
      "execution_count": null,
      "outputs": [
        {
          "output_type": "execute_result",
          "data": {
            "text/plain": [
              "<pyspark.sql.readwriter.DataFrameWriter at 0x7e180d63fbe0>"
            ]
          },
          "metadata": {},
          "execution_count": 48
        }
      ]
    },
    {
      "cell_type": "code",
      "source": [
        "type(df.write)"
      ],
      "metadata": {
        "colab": {
          "base_uri": "https://localhost:8080/",
          "height": 186
        },
        "id": "2j_5KxrcVopl",
        "outputId": "fc808253-eef0-4622-df56-207e221571d7"
      },
      "execution_count": null,
      "outputs": [
        {
          "output_type": "execute_result",
          "data": {
            "text/plain": [
              "pyspark.sql.readwriter.DataFrameWriter"
            ],
            "text/html": [
              "<div style=\"max-width:800px; border: 1px solid var(--colab-border-color);\"><style>\n",
              "      pre.function-repr-contents {\n",
              "        overflow-x: auto;\n",
              "        padding: 8px 12px;\n",
              "        max-height: 500px;\n",
              "      }\n",
              "\n",
              "      pre.function-repr-contents.function-repr-contents-collapsed {\n",
              "        cursor: pointer;\n",
              "        max-height: 100px;\n",
              "      }\n",
              "    </style>\n",
              "    <pre style=\"white-space: initial; background:\n",
              "         var(--colab-secondary-surface-color); padding: 8px 12px;\n",
              "         border-bottom: 1px solid var(--colab-border-color);\"><b>pyspark.sql.readwriter.DataFrameWriter</b><br/>def __init__(df: &#x27;DataFrame&#x27;)</pre><pre class=\"function-repr-contents function-repr-contents-collapsed\" style=\"\"><a class=\"filepath\" style=\"display:none\" href=\"#\">/usr/local/lib/python3.10/dist-packages/pyspark/sql/readwriter.py</a>Interface used to write a :class:`DataFrame` to external storage systems\n",
              "(e.g. file systems, key-value stores, etc). Use :attr:`DataFrame.write`\n",
              "to access this.\n",
              "\n",
              ".. versionadded:: 1.4.0\n",
              "\n",
              ".. versionchanged:: 3.4.0\n",
              "    Supports Spark Connect.</pre>\n",
              "      <script>\n",
              "      if (google.colab.kernel.accessAllowed && google.colab.files && google.colab.files.view) {\n",
              "        for (const element of document.querySelectorAll('.filepath')) {\n",
              "          element.style.display = 'block'\n",
              "          element.onclick = (event) => {\n",
              "            event.preventDefault();\n",
              "            event.stopPropagation();\n",
              "            google.colab.files.view(element.textContent, 949);\n",
              "          };\n",
              "        }\n",
              "      }\n",
              "      for (const element of document.querySelectorAll('.function-repr-contents')) {\n",
              "        element.onclick = (event) => {\n",
              "          event.preventDefault();\n",
              "          event.stopPropagation();\n",
              "          element.classList.toggle('function-repr-contents-collapsed');\n",
              "        };\n",
              "      }\n",
              "      </script>\n",
              "      </div>"
            ]
          },
          "metadata": {},
          "execution_count": 49
        }
      ]
    },
    {
      "cell_type": "markdown",
      "source": [
        "# **Read CSV FILE**"
      ],
      "metadata": {
        "id": "4c22ZD68daow"
      }
    },
    {
      "cell_type": "code",
      "source": [
        "df.write.csv(path=\"/content/drive/MyDrive/data_practices/pyspark/data/csv_2\",header=True)"
      ],
      "metadata": {
        "id": "NrR4H6XGVrZS"
      },
      "execution_count": null,
      "outputs": []
    },
    {
      "cell_type": "code",
      "source": [
        "df = spark.read.csv(path=\"/content/drive/MyDrive/data_practices/pyspark/data/csv_2\",header=True)\n",
        "df.show()"
      ],
      "metadata": {
        "colab": {
          "base_uri": "https://localhost:8080/"
        },
        "id": "qfE_-L0LWtPH",
        "outputId": "4407eec7-f265-46a0-df69-1c11fda8c3cc"
      },
      "execution_count": null,
      "outputs": [
        {
          "output_type": "stream",
          "name": "stdout",
          "text": [
            "+---+-----+---+\n",
            "| id| name|age|\n",
            "+---+-----+---+\n",
            "|  1|milan| 56|\n",
            "|  2|rahul| 26|\n",
            "|  3|mihir| 34|\n",
            "|  4|  jay| 21|\n",
            "+---+-----+---+\n",
            "\n"
          ]
        }
      ]
    },
    {
      "cell_type": "code",
      "source": [
        "display(spark.read.csv(path=\"/content/drive/MyDrive/data_practices/pyspark/data/csv_2\",header=True))"
      ],
      "metadata": {
        "colab": {
          "base_uri": "https://localhost:8080/",
          "height": 34
        },
        "id": "trixj_OPWbxp",
        "outputId": "c56f702f-bc53-44c5-d6e4-0d3e6d3263ec"
      },
      "execution_count": null,
      "outputs": [
        {
          "output_type": "display_data",
          "data": {
            "text/plain": [
              "DataFrame[id: string, name: string, age: string]"
            ]
          },
          "metadata": {}
        }
      ]
    },
    {
      "cell_type": "code",
      "source": [
        "df.write.csv(path=\"/content/drive/MyDrive/data_practices/pyspark/data/csv_1\",header=True,mode='error')"
      ],
      "metadata": {
        "colab": {
          "base_uri": "https://localhost:8080/",
          "height": 304
        },
        "id": "OHXOEG_CWlt8",
        "outputId": "e81818ab-63f0-490b-e8db-956806ace6f2"
      },
      "execution_count": null,
      "outputs": [
        {
          "output_type": "error",
          "ename": "AnalysisException",
          "evalue": "[PATH_ALREADY_EXISTS] Path file:/content/drive/MyDrive/data_practices/pyspark/data/csv_1 already exists. Set mode as \"overwrite\" to overwrite the existing path.",
          "traceback": [
            "\u001b[0;31m---------------------------------------------------------------------------\u001b[0m",
            "\u001b[0;31mAnalysisException\u001b[0m                         Traceback (most recent call last)",
            "\u001b[0;32m<ipython-input-31-e855f0a4f58c>\u001b[0m in \u001b[0;36m<cell line: 1>\u001b[0;34m()\u001b[0m\n\u001b[0;32m----> 1\u001b[0;31m \u001b[0mdf\u001b[0m\u001b[0;34m.\u001b[0m\u001b[0mwrite\u001b[0m\u001b[0;34m.\u001b[0m\u001b[0mcsv\u001b[0m\u001b[0;34m(\u001b[0m\u001b[0mpath\u001b[0m\u001b[0;34m=\u001b[0m\u001b[0;34m\"/content/drive/MyDrive/data_practices/pyspark/data/csv_1\"\u001b[0m\u001b[0;34m,\u001b[0m\u001b[0mheader\u001b[0m\u001b[0;34m=\u001b[0m\u001b[0;32mTrue\u001b[0m\u001b[0;34m,\u001b[0m\u001b[0mmode\u001b[0m\u001b[0;34m=\u001b[0m\u001b[0;34m'error'\u001b[0m\u001b[0;34m)\u001b[0m\u001b[0;34m\u001b[0m\u001b[0;34m\u001b[0m\u001b[0m\n\u001b[0m",
            "\u001b[0;32m/usr/local/lib/python3.10/dist-packages/pyspark/sql/readwriter.py\u001b[0m in \u001b[0;36mcsv\u001b[0;34m(self, path, mode, compression, sep, quote, escape, header, nullValue, escapeQuotes, quoteAll, dateFormat, timestampFormat, ignoreLeadingWhiteSpace, ignoreTrailingWhiteSpace, charToEscapeQuoteEscaping, encoding, emptyValue, lineSep)\u001b[0m\n\u001b[1;32m   1862\u001b[0m             \u001b[0mlineSep\u001b[0m\u001b[0;34m=\u001b[0m\u001b[0mlineSep\u001b[0m\u001b[0;34m,\u001b[0m\u001b[0;34m\u001b[0m\u001b[0;34m\u001b[0m\u001b[0m\n\u001b[1;32m   1863\u001b[0m         )\n\u001b[0;32m-> 1864\u001b[0;31m         \u001b[0mself\u001b[0m\u001b[0;34m.\u001b[0m\u001b[0m_jwrite\u001b[0m\u001b[0;34m.\u001b[0m\u001b[0mcsv\u001b[0m\u001b[0;34m(\u001b[0m\u001b[0mpath\u001b[0m\u001b[0;34m)\u001b[0m\u001b[0;34m\u001b[0m\u001b[0;34m\u001b[0m\u001b[0m\n\u001b[0m\u001b[1;32m   1865\u001b[0m \u001b[0;34m\u001b[0m\u001b[0m\n\u001b[1;32m   1866\u001b[0m     def orc(\n",
            "\u001b[0;32m/usr/local/lib/python3.10/dist-packages/py4j/java_gateway.py\u001b[0m in \u001b[0;36m__call__\u001b[0;34m(self, *args)\u001b[0m\n\u001b[1;32m   1320\u001b[0m \u001b[0;34m\u001b[0m\u001b[0m\n\u001b[1;32m   1321\u001b[0m         \u001b[0manswer\u001b[0m \u001b[0;34m=\u001b[0m \u001b[0mself\u001b[0m\u001b[0;34m.\u001b[0m\u001b[0mgateway_client\u001b[0m\u001b[0;34m.\u001b[0m\u001b[0msend_command\u001b[0m\u001b[0;34m(\u001b[0m\u001b[0mcommand\u001b[0m\u001b[0;34m)\u001b[0m\u001b[0;34m\u001b[0m\u001b[0;34m\u001b[0m\u001b[0m\n\u001b[0;32m-> 1322\u001b[0;31m         return_value = get_return_value(\n\u001b[0m\u001b[1;32m   1323\u001b[0m             answer, self.gateway_client, self.target_id, self.name)\n\u001b[1;32m   1324\u001b[0m \u001b[0;34m\u001b[0m\u001b[0m\n",
            "\u001b[0;32m/usr/local/lib/python3.10/dist-packages/pyspark/errors/exceptions/captured.py\u001b[0m in \u001b[0;36mdeco\u001b[0;34m(*a, **kw)\u001b[0m\n\u001b[1;32m    183\u001b[0m                 \u001b[0;31m# Hide where the exception came from that shows a non-Pythonic\u001b[0m\u001b[0;34m\u001b[0m\u001b[0;34m\u001b[0m\u001b[0m\n\u001b[1;32m    184\u001b[0m                 \u001b[0;31m# JVM exception message.\u001b[0m\u001b[0;34m\u001b[0m\u001b[0;34m\u001b[0m\u001b[0m\n\u001b[0;32m--> 185\u001b[0;31m                 \u001b[0;32mraise\u001b[0m \u001b[0mconverted\u001b[0m \u001b[0;32mfrom\u001b[0m \u001b[0;32mNone\u001b[0m\u001b[0;34m\u001b[0m\u001b[0;34m\u001b[0m\u001b[0m\n\u001b[0m\u001b[1;32m    186\u001b[0m             \u001b[0;32melse\u001b[0m\u001b[0;34m:\u001b[0m\u001b[0;34m\u001b[0m\u001b[0;34m\u001b[0m\u001b[0m\n\u001b[1;32m    187\u001b[0m                 \u001b[0;32mraise\u001b[0m\u001b[0;34m\u001b[0m\u001b[0;34m\u001b[0m\u001b[0m\n",
            "\u001b[0;31mAnalysisException\u001b[0m: [PATH_ALREADY_EXISTS] Path file:/content/drive/MyDrive/data_practices/pyspark/data/csv_1 already exists. Set mode as \"overwrite\" to overwrite the existing path."
          ]
        }
      ]
    },
    {
      "cell_type": "code",
      "source": [
        "help(df.write.csv)"
      ],
      "metadata": {
        "colab": {
          "base_uri": "https://localhost:8080/"
        },
        "id": "jQzTTsa5XFBD",
        "outputId": "a1eba880-45fd-4c56-9e5f-7c7109e047ef"
      },
      "execution_count": null,
      "outputs": [
        {
          "output_type": "stream",
          "name": "stdout",
          "text": [
            "Help on method csv in module pyspark.sql.readwriter:\n",
            "\n",
            "csv(path: str, mode: Optional[str] = None, compression: Optional[str] = None, sep: Optional[str] = None, quote: Optional[str] = None, escape: Optional[str] = None, header: Union[bool, str, NoneType] = None, nullValue: Optional[str] = None, escapeQuotes: Union[bool, str, NoneType] = None, quoteAll: Union[bool, str, NoneType] = None, dateFormat: Optional[str] = None, timestampFormat: Optional[str] = None, ignoreLeadingWhiteSpace: Union[bool, str, NoneType] = None, ignoreTrailingWhiteSpace: Union[bool, str, NoneType] = None, charToEscapeQuoteEscaping: Optional[str] = None, encoding: Optional[str] = None, emptyValue: Optional[str] = None, lineSep: Optional[str] = None) -> None method of pyspark.sql.readwriter.DataFrameWriter instance\n",
            "    Saves the content of the :class:`DataFrame` in CSV format at the specified path.\n",
            "    \n",
            "    .. versionadded:: 2.0.0\n",
            "    \n",
            "    .. versionchanged:: 3.4.0\n",
            "        Supports Spark Connect.\n",
            "    \n",
            "    Parameters\n",
            "    ----------\n",
            "    path : str\n",
            "        the path in any Hadoop supported file system\n",
            "    mode : str, optional\n",
            "        specifies the behavior of the save operation when data already exists.\n",
            "    \n",
            "        * ``append``: Append contents of this :class:`DataFrame` to existing data.\n",
            "        * ``overwrite``: Overwrite existing data.\n",
            "        * ``ignore``: Silently ignore this operation if data already exists.\n",
            "        * ``error`` or ``errorifexists`` (default case): Throw an exception if data already \\\n",
            "            exists.\n",
            "    \n",
            "    Other Parameters\n",
            "    ----------------\n",
            "    Extra options\n",
            "        For the extra options, refer to\n",
            "        `Data Source Option <https://spark.apache.org/docs/latest/sql-data-sources-csv.html#data-source-option>`_\n",
            "        for the version you use.\n",
            "    \n",
            "        .. # noqa\n",
            "    \n",
            "    Examples\n",
            "    --------\n",
            "    Write a DataFrame into a CSV file and read it back.\n",
            "    \n",
            "    >>> import tempfile\n",
            "    >>> with tempfile.TemporaryDirectory() as d:\n",
            "    ...     # Write a DataFrame into a CSV file\n",
            "    ...     df = spark.createDataFrame([{\"age\": 100, \"name\": \"Hyukjin Kwon\"}])\n",
            "    ...     df.write.csv(d, mode=\"overwrite\")\n",
            "    ...\n",
            "    ...     # Read the CSV file as a DataFrame with 'nullValue' option set to 'Hyukjin Kwon'.\n",
            "    ...     spark.read.schema(df.schema).format(\"csv\").option(\n",
            "    ...         \"nullValue\", \"Hyukjin Kwon\").load(d).show()\n",
            "    +---+----+\n",
            "    |age|name|\n",
            "    +---+----+\n",
            "    |100|NULL|\n",
            "    +---+----+\n",
            "\n"
          ]
        }
      ]
    },
    {
      "cell_type": "code",
      "source": [
        "df.write.csv(path=\"/content/drive/MyDrive/data_practices/pyspark/data/csv_1\",header=True,mode='overwrite')\n",
        "df = spark.read.csv(path=\"/content/drive/MyDrive/data_practices/pyspark/data/csv_1\",header=True)\n",
        "df.show()"
      ],
      "metadata": {
        "colab": {
          "base_uri": "https://localhost:8080/"
        },
        "id": "W8efhjHTZcfJ",
        "outputId": "028715d2-fe55-411c-97ae-b7b01ca94ea7"
      },
      "execution_count": null,
      "outputs": [
        {
          "output_type": "stream",
          "name": "stdout",
          "text": [
            "+---+-----+---+\n",
            "| id| name|age|\n",
            "+---+-----+---+\n",
            "|  1|milan| 56|\n",
            "|  2|rahul| 26|\n",
            "|  3|mihir| 34|\n",
            "|  4|  jay| 21|\n",
            "+---+-----+---+\n",
            "\n"
          ]
        }
      ]
    },
    {
      "cell_type": "code",
      "source": [
        "df.write.csv(path=\"/content/drive/MyDrive/data_practices/pyspark/data/csv_1\",header=True,mode='append')\n",
        "df = spark.read.csv(path=\"/content/drive/MyDrive/data_practices/pyspark/data/csv_1\",header=True)\n",
        "df.show()"
      ],
      "metadata": {
        "colab": {
          "base_uri": "https://localhost:8080/"
        },
        "id": "xf5Q_Lz9acpl",
        "outputId": "bfc83dda-c371-4d1a-ac82-6a774f7d96da"
      },
      "execution_count": null,
      "outputs": [
        {
          "output_type": "stream",
          "name": "stdout",
          "text": [
            "+---+-----+---+\n",
            "| id| name|age|\n",
            "+---+-----+---+\n",
            "|  1|milan| 56|\n",
            "|  2|rahul| 26|\n",
            "|  3|mihir| 34|\n",
            "|  4|  jay| 21|\n",
            "|  1|milan| 56|\n",
            "|  2|rahul| 26|\n",
            "|  3|mihir| 34|\n",
            "|  4|  jay| 21|\n",
            "+---+-----+---+\n",
            "\n"
          ]
        }
      ]
    },
    {
      "cell_type": "markdown",
      "source": [
        "# **Read JSON FILE**"
      ],
      "metadata": {
        "id": "7CryOoA6dJmz"
      }
    },
    {
      "cell_type": "code",
      "source": [
        "dj = spark.read.json('/content/drive/MyDrive/data_practices/pyspark/data/file1.json', multiLine=True)\n",
        "dj.show()"
      ],
      "metadata": {
        "colab": {
          "base_uri": "https://localhost:8080/"
        },
        "id": "bPtgySf8ag8v",
        "outputId": "a7ed598f-043b-4042-c20d-a7f5f9205810"
      },
      "execution_count": 36,
      "outputs": [
        {
          "output_type": "stream",
          "name": "stdout",
          "text": [
            "+--------------------+----------------+----------------+-----------------+-------+\n",
            "|                 bio|              id|        language|             name|version|\n",
            "+--------------------+----------------+----------------+-----------------+-------+\n",
            "|Donec lobortis el...|V59OF92YF627HFY0|          Sindhi|    Adeel Solangi|    6.1|\n",
            "|Aliquam sollicitu...|ENTOCR13RSCLZ6KU|          Sindhi|    Afzal Ghaffar|   1.88|\n",
            "|Vestibulum pharet...|IAKPO3R4761JDRVG|          Sindhi|    Aamir Solangi|   7.27|\n",
            "|Donec lobortis el...|5ZVOEPMJUI4MB4EN|          Uyghur|    Abla Dilmurat|   2.53|\n",
            "|Vivamus id faucib...|6VTI8X6LL0MMPJCC|          Uyghur|         Adil Eli|   6.49|\n",
            "|Duis commodo orci...|F2KEU5L7EHYSYFTT|          Uyghur|      Adile Qadir|    1.9|\n",
            "|Vivamus id faucib...|LO6DVTZLRK68528I|          Uyghur|Abdukerim Ibrahim|    5.9|\n",
            "|Etiam malesuada b...|LJRIULRNJFCNZJAJ|          Sindhi|        Adil Abro|   9.32|\n",
            "|Fusce eu ultrices...|JMCL0CXNXHPL1GBC|        Galician| Afonso Vilarchán|   5.21|\n",
            "|Nam laoreet, nunc...|KU4T500C830697CW|         Maltese|    Mark Schembri|   3.17|\n",
            "|Pellentesque mass...|XOF91ZR7MHV1TXRS|        Galician|    Antía Sixirei|   6.44|\n",
            "|Duis commodo orci...|FTSNV411G5MKLPDT|          Uyghur|   Aygul Mutellip|    9.1|\n",
            "|Nunc aliquet soda...|OJMWMEEQWMLDU29P|          Sindhi|     Awais Shaikh|   1.59|\n",
            "|Vestibulum ante i...|5G646V7E6TJW8X2M|          Sindhi|    Ambreen Ahmed|   2.35|\n",
            "|Nullam ac sodales...|Z53AJY7WUYPLAWC9|        Galician|      Celtia Anes|   8.34|\n",
            "|Phasellus tincidu...|N1AS6UFULO6WGTLB|         Maltese|    George Mifsud|   7.47|\n",
            "|Curabitur ultrici...|70RODUVRD95CLOJL|          Uyghur|     Aytürk Qasim|   1.32|\n",
            "|Maecenas non arcu...|VBLI24FKF7VV6BWE|Sesotho sa Leboa|       Dialè Meso|   6.29|\n",
            "|Integer vehicula,...|4VRLON0GPEZYFCVL|        Galician|    Breixo Galáns|   1.62|\n",
            "|Ut viverra quis e...|5DRDI1QLRGLP29RC|        Galician|     Bieito Lorme|   4.45|\n",
            "+--------------------+----------------+----------------+-----------------+-------+\n",
            "only showing top 20 rows\n",
            "\n"
          ]
        }
      ]
    },
    {
      "cell_type": "code",
      "source": [
        "dj.printSchema()\n"
      ],
      "metadata": {
        "colab": {
          "base_uri": "https://localhost:8080/"
        },
        "id": "ikENz8ChlUvt",
        "outputId": "e73c6e39-5842-4714-e017-100af7e40566"
      },
      "execution_count": null,
      "outputs": [
        {
          "output_type": "stream",
          "name": "stdout",
          "text": [
            "root\n",
            " |-- bio: string (nullable = true)\n",
            " |-- id: string (nullable = true)\n",
            " |-- language: string (nullable = true)\n",
            " |-- name: string (nullable = true)\n",
            " |-- version: double (nullable = true)\n",
            "\n"
          ]
        }
      ]
    },
    {
      "cell_type": "code",
      "source": [
        "dj = spark.read.json(path='/content/drive/MyDrive/data_practices/pyspark/data/file1.json', multiLine=True)\n",
        "dj.show()"
      ],
      "metadata": {
        "colab": {
          "base_uri": "https://localhost:8080/"
        },
        "id": "-chMsGuinY4R",
        "outputId": "0a987cbc-f2f3-4d8a-f5f4-d2ecb3d635c3"
      },
      "execution_count": null,
      "outputs": [
        {
          "output_type": "stream",
          "name": "stdout",
          "text": [
            "+--------------------+----------------+----------------+-----------------+-------+\n",
            "|                 bio|              id|        language|             name|version|\n",
            "+--------------------+----------------+----------------+-----------------+-------+\n",
            "|Donec lobortis el...|V59OF92YF627HFY0|          Sindhi|    Adeel Solangi|    6.1|\n",
            "|Aliquam sollicitu...|ENTOCR13RSCLZ6KU|          Sindhi|    Afzal Ghaffar|   1.88|\n",
            "|Vestibulum pharet...|IAKPO3R4761JDRVG|          Sindhi|    Aamir Solangi|   7.27|\n",
            "|Donec lobortis el...|5ZVOEPMJUI4MB4EN|          Uyghur|    Abla Dilmurat|   2.53|\n",
            "|Vivamus id faucib...|6VTI8X6LL0MMPJCC|          Uyghur|         Adil Eli|   6.49|\n",
            "|Duis commodo orci...|F2KEU5L7EHYSYFTT|          Uyghur|      Adile Qadir|    1.9|\n",
            "|Vivamus id faucib...|LO6DVTZLRK68528I|          Uyghur|Abdukerim Ibrahim|    5.9|\n",
            "|Etiam malesuada b...|LJRIULRNJFCNZJAJ|          Sindhi|        Adil Abro|   9.32|\n",
            "|Fusce eu ultrices...|JMCL0CXNXHPL1GBC|        Galician| Afonso Vilarchán|   5.21|\n",
            "|Nam laoreet, nunc...|KU4T500C830697CW|         Maltese|    Mark Schembri|   3.17|\n",
            "|Pellentesque mass...|XOF91ZR7MHV1TXRS|        Galician|    Antía Sixirei|   6.44|\n",
            "|Duis commodo orci...|FTSNV411G5MKLPDT|          Uyghur|   Aygul Mutellip|    9.1|\n",
            "|Nunc aliquet soda...|OJMWMEEQWMLDU29P|          Sindhi|     Awais Shaikh|   1.59|\n",
            "|Vestibulum ante i...|5G646V7E6TJW8X2M|          Sindhi|    Ambreen Ahmed|   2.35|\n",
            "|Nullam ac sodales...|Z53AJY7WUYPLAWC9|        Galician|      Celtia Anes|   8.34|\n",
            "|Phasellus tincidu...|N1AS6UFULO6WGTLB|         Maltese|    George Mifsud|   7.47|\n",
            "|Curabitur ultrici...|70RODUVRD95CLOJL|          Uyghur|     Aytürk Qasim|   1.32|\n",
            "|Maecenas non arcu...|VBLI24FKF7VV6BWE|Sesotho sa Leboa|       Dialè Meso|   6.29|\n",
            "|Integer vehicula,...|4VRLON0GPEZYFCVL|        Galician|    Breixo Galáns|   1.62|\n",
            "|Ut viverra quis e...|5DRDI1QLRGLP29RC|        Galician|     Bieito Lorme|   4.45|\n",
            "+--------------------+----------------+----------------+-----------------+-------+\n",
            "only showing top 20 rows\n",
            "\n"
          ]
        }
      ]
    },
    {
      "cell_type": "markdown",
      "source": [
        "Multiple Json files reading"
      ],
      "metadata": {
        "id": "SYvxmk8BCTbz"
      }
    },
    {
      "cell_type": "code",
      "source": [
        "multi_json = spark.read.json(path='/content/drive/MyDrive/data_practices/pyspark/data/*.json', multiLine=True)\n",
        "multi_json.show()"
      ],
      "metadata": {
        "colab": {
          "base_uri": "https://localhost:8080/"
        },
        "id": "QtS2ic82-oCM",
        "outputId": "d5bf7cde-5bb2-44cb-ccf4-48f3a5310d3a"
      },
      "execution_count": null,
      "outputs": [
        {
          "output_type": "stream",
          "name": "stdout",
          "text": [
            "+--------------------+----------------+----------------+-----------------+------+-------+\n",
            "|                 bio|              id|        language|             name|people|version|\n",
            "+--------------------+----------------+----------------+-----------------+------+-------+\n",
            "|Donec lobortis el...|V59OF92YF627HFY0|          Sindhi|    Adeel Solangi|  NULL|    6.1|\n",
            "|Aliquam sollicitu...|ENTOCR13RSCLZ6KU|          Sindhi|    Afzal Ghaffar|  NULL|   1.88|\n",
            "|Vestibulum pharet...|IAKPO3R4761JDRVG|          Sindhi|    Aamir Solangi|  NULL|   7.27|\n",
            "|Donec lobortis el...|5ZVOEPMJUI4MB4EN|          Uyghur|    Abla Dilmurat|  NULL|   2.53|\n",
            "|Vivamus id faucib...|6VTI8X6LL0MMPJCC|          Uyghur|         Adil Eli|  NULL|   6.49|\n",
            "|Duis commodo orci...|F2KEU5L7EHYSYFTT|          Uyghur|      Adile Qadir|  NULL|    1.9|\n",
            "|Vivamus id faucib...|LO6DVTZLRK68528I|          Uyghur|Abdukerim Ibrahim|  NULL|    5.9|\n",
            "|Etiam malesuada b...|LJRIULRNJFCNZJAJ|          Sindhi|        Adil Abro|  NULL|   9.32|\n",
            "|Fusce eu ultrices...|JMCL0CXNXHPL1GBC|        Galician| Afonso Vilarchán|  NULL|   5.21|\n",
            "|Nam laoreet, nunc...|KU4T500C830697CW|         Maltese|    Mark Schembri|  NULL|   3.17|\n",
            "|Pellentesque mass...|XOF91ZR7MHV1TXRS|        Galician|    Antía Sixirei|  NULL|   6.44|\n",
            "|Duis commodo orci...|FTSNV411G5MKLPDT|          Uyghur|   Aygul Mutellip|  NULL|    9.1|\n",
            "|Nunc aliquet soda...|OJMWMEEQWMLDU29P|          Sindhi|     Awais Shaikh|  NULL|   1.59|\n",
            "|Vestibulum ante i...|5G646V7E6TJW8X2M|          Sindhi|    Ambreen Ahmed|  NULL|   2.35|\n",
            "|Nullam ac sodales...|Z53AJY7WUYPLAWC9|        Galician|      Celtia Anes|  NULL|   8.34|\n",
            "|Phasellus tincidu...|N1AS6UFULO6WGTLB|         Maltese|    George Mifsud|  NULL|   7.47|\n",
            "|Curabitur ultrici...|70RODUVRD95CLOJL|          Uyghur|     Aytürk Qasim|  NULL|   1.32|\n",
            "|Maecenas non arcu...|VBLI24FKF7VV6BWE|Sesotho sa Leboa|       Dialè Meso|  NULL|   6.29|\n",
            "|Integer vehicula,...|4VRLON0GPEZYFCVL|        Galician|    Breixo Galáns|  NULL|   1.62|\n",
            "|Ut viverra quis e...|5DRDI1QLRGLP29RC|        Galician|     Bieito Lorme|  NULL|   4.45|\n",
            "+--------------------+----------------+----------------+-----------------+------+-------+\n",
            "only showing top 20 rows\n",
            "\n"
          ]
        }
      ]
    },
    {
      "cell_type": "code",
      "source": [
        "multi_json = spark.read.json(path=['/content/drive/MyDrive/data_practices/pyspark/data/file1.json','/content/drive/MyDrive/data_practices/pyspark/data/sample4.json'], multiLine=True)\n",
        "multi_json.show()"
      ],
      "metadata": {
        "colab": {
          "base_uri": "https://localhost:8080/"
        },
        "id": "DVJ-ZVUB_ttp",
        "outputId": "e744b9db-8cfa-4031-c6e5-5cd3cf5677fa"
      },
      "execution_count": null,
      "outputs": [
        {
          "output_type": "stream",
          "name": "stdout",
          "text": [
            "+--------------------+----------------+----------------+-----------------+------+-------+\n",
            "|                 bio|              id|        language|             name|people|version|\n",
            "+--------------------+----------------+----------------+-----------------+------+-------+\n",
            "|Donec lobortis el...|V59OF92YF627HFY0|          Sindhi|    Adeel Solangi|  NULL|    6.1|\n",
            "|Aliquam sollicitu...|ENTOCR13RSCLZ6KU|          Sindhi|    Afzal Ghaffar|  NULL|   1.88|\n",
            "|Vestibulum pharet...|IAKPO3R4761JDRVG|          Sindhi|    Aamir Solangi|  NULL|   7.27|\n",
            "|Donec lobortis el...|5ZVOEPMJUI4MB4EN|          Uyghur|    Abla Dilmurat|  NULL|   2.53|\n",
            "|Vivamus id faucib...|6VTI8X6LL0MMPJCC|          Uyghur|         Adil Eli|  NULL|   6.49|\n",
            "|Duis commodo orci...|F2KEU5L7EHYSYFTT|          Uyghur|      Adile Qadir|  NULL|    1.9|\n",
            "|Vivamus id faucib...|LO6DVTZLRK68528I|          Uyghur|Abdukerim Ibrahim|  NULL|    5.9|\n",
            "|Etiam malesuada b...|LJRIULRNJFCNZJAJ|          Sindhi|        Adil Abro|  NULL|   9.32|\n",
            "|Fusce eu ultrices...|JMCL0CXNXHPL1GBC|        Galician| Afonso Vilarchán|  NULL|   5.21|\n",
            "|Nam laoreet, nunc...|KU4T500C830697CW|         Maltese|    Mark Schembri|  NULL|   3.17|\n",
            "|Pellentesque mass...|XOF91ZR7MHV1TXRS|        Galician|    Antía Sixirei|  NULL|   6.44|\n",
            "|Duis commodo orci...|FTSNV411G5MKLPDT|          Uyghur|   Aygul Mutellip|  NULL|    9.1|\n",
            "|Nunc aliquet soda...|OJMWMEEQWMLDU29P|          Sindhi|     Awais Shaikh|  NULL|   1.59|\n",
            "|Vestibulum ante i...|5G646V7E6TJW8X2M|          Sindhi|    Ambreen Ahmed|  NULL|   2.35|\n",
            "|Nullam ac sodales...|Z53AJY7WUYPLAWC9|        Galician|      Celtia Anes|  NULL|   8.34|\n",
            "|Phasellus tincidu...|N1AS6UFULO6WGTLB|         Maltese|    George Mifsud|  NULL|   7.47|\n",
            "|Curabitur ultrici...|70RODUVRD95CLOJL|          Uyghur|     Aytürk Qasim|  NULL|   1.32|\n",
            "|Maecenas non arcu...|VBLI24FKF7VV6BWE|Sesotho sa Leboa|       Dialè Meso|  NULL|   6.29|\n",
            "|Integer vehicula,...|4VRLON0GPEZYFCVL|        Galician|    Breixo Galáns|  NULL|   1.62|\n",
            "|Ut viverra quis e...|5DRDI1QLRGLP29RC|        Galician|     Bieito Lorme|  NULL|   4.45|\n",
            "+--------------------+----------------+----------------+-----------------+------+-------+\n",
            "only showing top 20 rows\n",
            "\n"
          ]
        }
      ]
    },
    {
      "cell_type": "code",
      "source": [
        "multi_json = spark.read.json(path='/content/drive/MyDrive/data_practices/pyspark/data/sample4.json', multiLine=True)\n",
        "multi_json.show()"
      ],
      "metadata": {
        "colab": {
          "base_uri": "https://localhost:8080/"
        },
        "id": "dJp0x4P4AJxo",
        "outputId": "87331e75-683a-4470-9c97-6a5a99a8ae36"
      },
      "execution_count": null,
      "outputs": [
        {
          "output_type": "stream",
          "name": "stdout",
          "text": [
            "+---+---------+------+--------+----------+\n",
            "|age|firstName|gender|lastName|    number|\n",
            "+---+---------+------+--------+----------+\n",
            "| 28|      Joe|  male| Jackson|7349282382|\n",
            "| 32|    James|  male|   Smith|5678568567|\n",
            "| 24|    Emily|female|   Jones| 456754675|\n",
            "| 28|      Joe|  male| Jackson|7349282382|\n",
            "| 32|    James|  male|   Smith|5678568567|\n",
            "| 24|    Emily|female|   Jones| 456754675|\n",
            "+---+---------+------+--------+----------+\n",
            "\n"
          ]
        }
      ]
    },
    {
      "cell_type": "code",
      "source": [
        "multi_json = spark.read.json(path=['/content/drive/MyDrive/data_practices/pyspark/data/sample4.json','/content/drive/MyDrive/data_practices/pyspark/data/file1.json'], multiLine=True)\n",
        "multi_json.show()"
      ],
      "metadata": {
        "colab": {
          "base_uri": "https://localhost:8080/"
        },
        "id": "pj7iG0c9A0CT",
        "outputId": "797854b7-a5de-4599-a20c-42d8dddea6ae"
      },
      "execution_count": null,
      "outputs": [
        {
          "output_type": "stream",
          "name": "stdout",
          "text": [
            "+----+--------------------+---------+------+----------------+----------------+--------+-----------------+------+-------+\n",
            "| age|                 bio|firstName|gender|              id|        language|lastName|             name|number|version|\n",
            "+----+--------------------+---------+------+----------------+----------------+--------+-----------------+------+-------+\n",
            "|NULL|Donec lobortis el...|     NULL|  NULL|V59OF92YF627HFY0|          Sindhi|    NULL|    Adeel Solangi|  NULL|    6.1|\n",
            "|NULL|Aliquam sollicitu...|     NULL|  NULL|ENTOCR13RSCLZ6KU|          Sindhi|    NULL|    Afzal Ghaffar|  NULL|   1.88|\n",
            "|NULL|Vestibulum pharet...|     NULL|  NULL|IAKPO3R4761JDRVG|          Sindhi|    NULL|    Aamir Solangi|  NULL|   7.27|\n",
            "|NULL|Donec lobortis el...|     NULL|  NULL|5ZVOEPMJUI4MB4EN|          Uyghur|    NULL|    Abla Dilmurat|  NULL|   2.53|\n",
            "|NULL|Vivamus id faucib...|     NULL|  NULL|6VTI8X6LL0MMPJCC|          Uyghur|    NULL|         Adil Eli|  NULL|   6.49|\n",
            "|NULL|Duis commodo orci...|     NULL|  NULL|F2KEU5L7EHYSYFTT|          Uyghur|    NULL|      Adile Qadir|  NULL|    1.9|\n",
            "|NULL|Vivamus id faucib...|     NULL|  NULL|LO6DVTZLRK68528I|          Uyghur|    NULL|Abdukerim Ibrahim|  NULL|    5.9|\n",
            "|NULL|Etiam malesuada b...|     NULL|  NULL|LJRIULRNJFCNZJAJ|          Sindhi|    NULL|        Adil Abro|  NULL|   9.32|\n",
            "|NULL|Fusce eu ultrices...|     NULL|  NULL|JMCL0CXNXHPL1GBC|        Galician|    NULL| Afonso Vilarchán|  NULL|   5.21|\n",
            "|NULL|Nam laoreet, nunc...|     NULL|  NULL|KU4T500C830697CW|         Maltese|    NULL|    Mark Schembri|  NULL|   3.17|\n",
            "|NULL|Pellentesque mass...|     NULL|  NULL|XOF91ZR7MHV1TXRS|        Galician|    NULL|    Antía Sixirei|  NULL|   6.44|\n",
            "|NULL|Duis commodo orci...|     NULL|  NULL|FTSNV411G5MKLPDT|          Uyghur|    NULL|   Aygul Mutellip|  NULL|    9.1|\n",
            "|NULL|Nunc aliquet soda...|     NULL|  NULL|OJMWMEEQWMLDU29P|          Sindhi|    NULL|     Awais Shaikh|  NULL|   1.59|\n",
            "|NULL|Vestibulum ante i...|     NULL|  NULL|5G646V7E6TJW8X2M|          Sindhi|    NULL|    Ambreen Ahmed|  NULL|   2.35|\n",
            "|NULL|Nullam ac sodales...|     NULL|  NULL|Z53AJY7WUYPLAWC9|        Galician|    NULL|      Celtia Anes|  NULL|   8.34|\n",
            "|NULL|Phasellus tincidu...|     NULL|  NULL|N1AS6UFULO6WGTLB|         Maltese|    NULL|    George Mifsud|  NULL|   7.47|\n",
            "|NULL|Curabitur ultrici...|     NULL|  NULL|70RODUVRD95CLOJL|          Uyghur|    NULL|     Aytürk Qasim|  NULL|   1.32|\n",
            "|NULL|Maecenas non arcu...|     NULL|  NULL|VBLI24FKF7VV6BWE|Sesotho sa Leboa|    NULL|       Dialè Meso|  NULL|   6.29|\n",
            "|NULL|Integer vehicula,...|     NULL|  NULL|4VRLON0GPEZYFCVL|        Galician|    NULL|    Breixo Galáns|  NULL|   1.62|\n",
            "|NULL|Ut viverra quis e...|     NULL|  NULL|5DRDI1QLRGLP29RC|        Galician|    NULL|     Bieito Lorme|  NULL|   4.45|\n",
            "+----+--------------------+---------+------+----------------+----------------+--------+-----------------+------+-------+\n",
            "only showing top 20 rows\n",
            "\n"
          ]
        }
      ]
    },
    {
      "cell_type": "code",
      "source": [
        "multi_json = spark.read.json(path=['/content/drive/MyDrive/data_practices/pyspark/data/sample4.json','/content/drive/MyDrive/data_practices/pyspark/data/new.json'], multiLine=True)\n",
        "multi_json.show()"
      ],
      "metadata": {
        "colab": {
          "base_uri": "https://localhost:8080/"
        },
        "id": "l0EGQ-_mA0YG",
        "outputId": "967f520f-43eb-4ac9-c88a-3d7fb5810ed5"
      },
      "execution_count": null,
      "outputs": [
        {
          "output_type": "stream",
          "name": "stdout",
          "text": [
            "+----+--------------------+-------------+------+----------------+--------+--------+----------+-------+\n",
            "| age|                 bio|    firstName|gender|              id|language|lastName|    number|version|\n",
            "+----+--------------------+-------------+------+----------------+--------+--------+----------+-------+\n",
            "|NULL|Donec lobortis el...|Adeel Solangi|  NULL|V59OF92YF627HFY0|  Sindhi|    NULL|      NULL|    6.1|\n",
            "|NULL|Aliquam sollicitu...|Afzal Ghaffar|  NULL|ENTOCR13RSCLZ6KU|  Sindhi|    NULL|      NULL|   1.88|\n",
            "|NULL|Vestibulum pharet...|Aamir Solangi|  NULL|IAKPO3R4761JDRVG|  Sindhi|    NULL|      NULL|   7.27|\n",
            "|NULL|Donec lobortis el...|Abla Dilmurat|  NULL|5ZVOEPMJUI4MB4EN|  Uyghur|    NULL|      NULL|   2.53|\n",
            "|  28|                NULL|          Joe|  male|            NULL|    NULL| Jackson|7349282382|   NULL|\n",
            "|  32|                NULL|        James|  male|            NULL|    NULL|   Smith|5678568567|   NULL|\n",
            "|  24|                NULL|        Emily|female|            NULL|    NULL|   Jones| 456754675|   NULL|\n",
            "|  28|                NULL|          Joe|  male|            NULL|    NULL| Jackson|7349282382|   NULL|\n",
            "|  32|                NULL|        James|  male|            NULL|    NULL|   Smith|5678568567|   NULL|\n",
            "|  24|                NULL|        Emily|female|            NULL|    NULL|   Jones| 456754675|   NULL|\n",
            "+----+--------------------+-------------+------+----------------+--------+--------+----------+-------+\n",
            "\n"
          ]
        }
      ]
    },
    {
      "cell_type": "code",
      "source": [
        "multi_json.printSchema()"
      ],
      "metadata": {
        "colab": {
          "base_uri": "https://localhost:8080/"
        },
        "id": "go_QGnecBHJG",
        "outputId": "c1f770d4-4301-4215-a823-8f01816ee8d2"
      },
      "execution_count": null,
      "outputs": [
        {
          "output_type": "stream",
          "name": "stdout",
          "text": [
            "root\n",
            " |-- age: long (nullable = true)\n",
            " |-- bio: string (nullable = true)\n",
            " |-- firstName: string (nullable = true)\n",
            " |-- gender: string (nullable = true)\n",
            " |-- id: string (nullable = true)\n",
            " |-- language: string (nullable = true)\n",
            " |-- lastName: string (nullable = true)\n",
            " |-- number: string (nullable = true)\n",
            " |-- version: double (nullable = true)\n",
            "\n"
          ]
        }
      ]
    },
    {
      "cell_type": "markdown",
      "source": [
        "Write DataFrame into Json"
      ],
      "metadata": {
        "id": "OFY0FLQ2EVwg"
      }
    },
    {
      "cell_type": "code",
      "source": [
        "wt=[(1,'milan',56),(2,'rahul',26),(3,'mihir',34),(4,'jay',21)]\n",
        "schema=['id','name','age']\n",
        "wd = spark.createDataFrame(data=wt,schema=schema)\n",
        "wd.show()"
      ],
      "metadata": {
        "colab": {
          "base_uri": "https://localhost:8080/"
        },
        "id": "8njqWulyCi9a",
        "outputId": "71f4a1f6-1a21-4231-9e64-8092ed47b4a4"
      },
      "execution_count": null,
      "outputs": [
        {
          "output_type": "stream",
          "name": "stdout",
          "text": [
            "+---+-----+---+\n",
            "| id| name|age|\n",
            "+---+-----+---+\n",
            "|  1|milan| 56|\n",
            "|  2|rahul| 26|\n",
            "|  3|mihir| 34|\n",
            "|  4|  jay| 21|\n",
            "+---+-----+---+\n",
            "\n"
          ]
        }
      ]
    },
    {
      "cell_type": "code",
      "source": [
        "wd.write.json(\"/content/drive/MyDrive/data_practices/pyspark/data/js\")\n",
        "wd.show()"
      ],
      "metadata": {
        "colab": {
          "base_uri": "https://localhost:8080/"
        },
        "id": "4-E0M764HC_D",
        "outputId": "a2293c9e-691e-4f61-8b9b-31fb5ff08bc1"
      },
      "execution_count": null,
      "outputs": [
        {
          "output_type": "stream",
          "name": "stdout",
          "text": [
            "+---+-----+---+\n",
            "| id| name|age|\n",
            "+---+-----+---+\n",
            "|  1|milan| 56|\n",
            "|  2|rahul| 26|\n",
            "|  3|mihir| 34|\n",
            "|  4|  jay| 21|\n",
            "+---+-----+---+\n",
            "\n"
          ]
        }
      ]
    },
    {
      "cell_type": "code",
      "source": [
        "wd.write.json(\"/content/drive/MyDrive/data_practices/pyspark/data/js\",mode=\"append\")\n",
        "wd.show()"
      ],
      "metadata": {
        "colab": {
          "base_uri": "https://localhost:8080/"
        },
        "id": "c4d89GmvHS9W",
        "outputId": "e8f73108-ee5c-4125-99ef-a9ed5d30fa3e"
      },
      "execution_count": null,
      "outputs": [
        {
          "output_type": "stream",
          "name": "stdout",
          "text": [
            "+---+-----+---+\n",
            "| id| name|age|\n",
            "+---+-----+---+\n",
            "|  1|milan| 56|\n",
            "|  2|rahul| 26|\n",
            "|  3|mihir| 34|\n",
            "|  4|  jay| 21|\n",
            "+---+-----+---+\n",
            "\n"
          ]
        }
      ]
    },
    {
      "cell_type": "code",
      "source": [
        "wd.write.json(\"/content/drive/MyDrive/data_practices/pyspark/data/js\",mode=\"overwrite\")\n",
        "wd.show()"
      ],
      "metadata": {
        "colab": {
          "base_uri": "https://localhost:8080/"
        },
        "id": "RiGNaPYwHeii",
        "outputId": "7f5ddbc3-2f01-421a-91a5-71f95bf90dc4"
      },
      "execution_count": null,
      "outputs": [
        {
          "output_type": "stream",
          "name": "stdout",
          "text": [
            "+---+-----+---+\n",
            "| id| name|age|\n",
            "+---+-----+---+\n",
            "|  1|milan| 56|\n",
            "|  2|rahul| 26|\n",
            "|  3|mihir| 34|\n",
            "|  4|  jay| 21|\n",
            "+---+-----+---+\n",
            "\n"
          ]
        }
      ]
    }
  ]
}