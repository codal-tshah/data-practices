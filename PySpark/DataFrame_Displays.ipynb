{
  "nbformat": 4,
  "nbformat_minor": 0,
  "metadata": {
    "colab": {
      "provenance": [],
      "mount_file_id": "1dSVfD8ey3QjCkxMfYmnEAcBrpGd14n_c",
      "authorship_tag": "ABX9TyNXeTDXnWYK8gjQn3I/9/hz",
      "include_colab_link": true
    },
    "kernelspec": {
      "name": "python3",
      "display_name": "Python 3"
    },
    "language_info": {
      "name": "python"
    }
  },
  "cells": [
    {
      "cell_type": "markdown",
      "metadata": {
        "id": "view-in-github",
        "colab_type": "text"
      },
      "source": [
        "<a href=\"https://colab.research.google.com/github/codal-tshah/data-practices-2024/blob/16_apr/PySpark/DataFrame_Displays.ipynb\" target=\"_parent\"><img src=\"https://colab.research.google.com/assets/colab-badge.svg\" alt=\"Open In Colab\"/></a>"
      ]
    },
    {
      "cell_type": "code",
      "source": [
        "from google.colab import drive\n",
        "drive.mount('/content/drive')"
      ],
      "metadata": {
        "colab": {
          "base_uri": "https://localhost:8080/"
        },
        "id": "deZ7F-HLLJuo",
        "outputId": "115cf71a-1d92-450c-892e-505c37fe7664"
      },
      "execution_count": null,
      "outputs": [
        {
          "output_type": "stream",
          "name": "stdout",
          "text": [
            "Mounted at /content/drive\n"
          ]
        }
      ]
    },
    {
      "cell_type": "code",
      "execution_count": 5,
      "metadata": {
        "colab": {
          "base_uri": "https://localhost:8080/"
        },
        "id": "FKjf_qm6K7vc",
        "outputId": "e814a5ce-c122-49bb-e943-a1c3a601054a"
      },
      "outputs": [
        {
          "output_type": "stream",
          "name": "stdout",
          "text": [
            "Collecting pyspark\n",
            "  Downloading pyspark-3.5.1.tar.gz (317.0 MB)\n",
            "\u001b[2K     \u001b[90m━━━━━━━━━━━━━━━━━━━━━━━━━━━━━━━━━━━━━━━━\u001b[0m \u001b[32m317.0/317.0 MB\u001b[0m \u001b[31m1.1 MB/s\u001b[0m eta \u001b[36m0:00:00\u001b[0m\n",
            "\u001b[?25h  Preparing metadata (setup.py) ... \u001b[?25l\u001b[?25hdone\n",
            "Requirement already satisfied: py4j==0.10.9.7 in /usr/local/lib/python3.10/dist-packages (from pyspark) (0.10.9.7)\n",
            "Building wheels for collected packages: pyspark\n",
            "  Building wheel for pyspark (setup.py) ... \u001b[?25l\u001b[?25hdone\n",
            "  Created wheel for pyspark: filename=pyspark-3.5.1-py2.py3-none-any.whl size=317488491 sha256=bc6fa9f8f5a576e23e03731155059c25b378034eaf473ece9fc16501bde24c0c\n",
            "  Stored in directory: /root/.cache/pip/wheels/80/1d/60/2c256ed38dddce2fdd93be545214a63e02fbd8d74fb0b7f3a6\n",
            "Successfully built pyspark\n",
            "Installing collected packages: pyspark\n",
            "Successfully installed pyspark-3.5.1\n"
          ]
        }
      ],
      "source": [
        "!pip install pyspark"
      ]
    },
    {
      "cell_type": "code",
      "source": [
        "from pyspark import *\n",
        "from pyspark.sql import DataFrame\n",
        "help(DataFrame.write)"
      ],
      "metadata": {
        "colab": {
          "base_uri": "https://localhost:8080/"
        },
        "id": "mvGIQbxxiZ1G",
        "outputId": "0c752532-04a5-4640-8dea-c11ccce0b510"
      },
      "execution_count": 7,
      "outputs": [
        {
          "output_type": "stream",
          "name": "stdout",
          "text": [
            "Help on property:\n",
            "\n",
            "    Interface for saving the content of the non-streaming :class:`DataFrame` out into external\n",
            "    storage.\n",
            "    \n",
            "    .. versionadded:: 1.4.0\n",
            "    \n",
            "    .. versionchanged:: 3.4.0\n",
            "        Supports Spark Connect.\n",
            "    \n",
            "    Returns\n",
            "    -------\n",
            "    :class:`DataFrameWriter`\n",
            "    \n",
            "    Examples\n",
            "    --------\n",
            "    >>> df = spark.createDataFrame([(2, \"Alice\"), (5, \"Bob\")], schema=[\"age\", \"name\"])\n",
            "    >>> type(df.write)\n",
            "    <class '...readwriter.DataFrameWriter'>\n",
            "    \n",
            "    Write the DataFrame as a table.\n",
            "    \n",
            "    >>> _ = spark.sql(\"DROP TABLE IF EXISTS tab2\")\n",
            "    >>> df.write.saveAsTable(\"tab2\")\n",
            "    >>> _ = spark.sql(\"DROP TABLE tab2\")\n",
            "\n"
          ]
        }
      ]
    },
    {
      "cell_type": "code",
      "source": [
        "from pyspark.context import SparkContext\n",
        "from pyspark.sql.session import SparkSession\n",
        "sc = SparkContext.getOrCreate();\n",
        "spark = SparkSession(sc)"
      ],
      "metadata": {
        "id": "T9wfyF76ijd9"
      },
      "execution_count": 14,
      "outputs": []
    },
    {
      "cell_type": "code",
      "source": [
        "data=[(1,'milanlshefwegdwegd;uwed;wevdiewv',56),(2,'rad;dbewiubdiuwehul',26),(3,'miqhdwwgdlwgdiwegdygweydghir',34),(4,'jay',21)]\n",
        "schema=['id','name','age']\n",
        "df = spark.createDataFrame(data=data,schema=schema)\n",
        "df.show()"
      ],
      "metadata": {
        "colab": {
          "base_uri": "https://localhost:8080/"
        },
        "id": "jnOXHVKRb0Rj",
        "outputId": "04eabee5-dbfd-4dba-c8b6-7160ba703998"
      },
      "execution_count": null,
      "outputs": [
        {
          "output_type": "stream",
          "name": "stdout",
          "text": [
            "+---+--------------------+---+\n",
            "| id|                name|age|\n",
            "+---+--------------------+---+\n",
            "|  1|milanlshefwegdweg...| 56|\n",
            "|  2| rad;dbewiubdiuwehul| 26|\n",
            "|  3|miqhdwwgdlwgdiweg...| 34|\n",
            "|  4|                 jay| 21|\n",
            "+---+--------------------+---+\n",
            "\n"
          ]
        }
      ]
    },
    {
      "cell_type": "markdown",
      "source": [
        "show()"
      ],
      "metadata": {
        "id": "1t2OvHdQ4ULK"
      }
    },
    {
      "cell_type": "code",
      "source": [
        "df.show(truncate=False)"
      ],
      "metadata": {
        "colab": {
          "base_uri": "https://localhost:8080/"
        },
        "id": "dZs97g_HiYnu",
        "outputId": "526013ed-4b7c-4f06-f29f-34810e7b3af8"
      },
      "execution_count": null,
      "outputs": [
        {
          "output_type": "stream",
          "name": "stdout",
          "text": [
            "+---+--------------------------------+---+\n",
            "|id |name                            |age|\n",
            "+---+--------------------------------+---+\n",
            "|1  |milanlshefwegdwegd;uwed;wevdiewv|56 |\n",
            "|2  |rad;dbewiubdiuwehul             |26 |\n",
            "|3  |miqhdwwgdlwgdiwegdygweydghir    |34 |\n",
            "|4  |jay                             |21 |\n",
            "+---+--------------------------------+---+\n",
            "\n"
          ]
        }
      ]
    },
    {
      "cell_type": "code",
      "source": [
        "df.show(truncate=12)"
      ],
      "metadata": {
        "colab": {
          "base_uri": "https://localhost:8080/"
        },
        "id": "6EJNA7XyitqN",
        "outputId": "4c986963-bb35-41e2-e9c7-307c85c26352"
      },
      "execution_count": null,
      "outputs": [
        {
          "output_type": "stream",
          "name": "stdout",
          "text": [
            "+---+------------+---+\n",
            "| id|        name|age|\n",
            "+---+------------+---+\n",
            "|  1|milanlshe...| 56|\n",
            "|  2|rad;dbewi...| 26|\n",
            "|  3|miqhdwwgd...| 34|\n",
            "|  4|         jay| 21|\n",
            "+---+------------+---+\n",
            "\n"
          ]
        }
      ]
    },
    {
      "cell_type": "code",
      "source": [
        "df.show(n=2,truncate=False)"
      ],
      "metadata": {
        "colab": {
          "base_uri": "https://localhost:8080/"
        },
        "id": "mnX0lxDfiyql",
        "outputId": "0800625f-3198-4fcf-9941-7570cffdeaad"
      },
      "execution_count": null,
      "outputs": [
        {
          "output_type": "stream",
          "name": "stdout",
          "text": [
            "+---+--------------------------------+---+\n",
            "|id |name                            |age|\n",
            "+---+--------------------------------+---+\n",
            "|1  |milanlshefwegdwegd;uwed;wevdiewv|56 |\n",
            "|2  |rad;dbewiubdiuwehul             |26 |\n",
            "+---+--------------------------------+---+\n",
            "only showing top 2 rows\n",
            "\n"
          ]
        }
      ]
    },
    {
      "cell_type": "code",
      "source": [
        "df.show(n=2, vertical=True)"
      ],
      "metadata": {
        "colab": {
          "base_uri": "https://localhost:8080/"
        },
        "id": "W0okxiP4ptHa",
        "outputId": "93057fb5-5093-457d-e211-f39a446d5aec"
      },
      "execution_count": null,
      "outputs": [
        {
          "output_type": "stream",
          "name": "stdout",
          "text": [
            "-RECORD 0--------------------\n",
            " id   | 1                    \n",
            " name | milanlshefwegdweg... \n",
            " age  | 56                   \n",
            "-RECORD 1--------------------\n",
            " id   | 2                    \n",
            " name | rad;dbewiubdiuwehul  \n",
            " age  | 26                   \n",
            "only showing top 2 rows\n",
            "\n"
          ]
        }
      ]
    },
    {
      "cell_type": "markdown",
      "source": [
        "withColumn()"
      ],
      "metadata": {
        "id": "7uVSRQ0W4WbC"
      }
    },
    {
      "cell_type": "code",
      "source": [
        "display(df)"
      ],
      "metadata": {
        "colab": {
          "base_uri": "https://localhost:8080/",
          "height": 34
        },
        "id": "7CHHyKMO4YUr",
        "outputId": "77553151-c731-4d84-b41e-38cc27b5fdf6"
      },
      "execution_count": null,
      "outputs": [
        {
          "output_type": "display_data",
          "data": {
            "text/plain": [
              "DataFrame[id: bigint, name: string, age: bigint]"
            ]
          },
          "metadata": {}
        }
      ]
    },
    {
      "cell_type": "code",
      "source": [
        "df.show()"
      ],
      "metadata": {
        "colab": {
          "base_uri": "https://localhost:8080/"
        },
        "id": "0LFPqUH65AWK",
        "outputId": "353b3a85-7ea0-4267-8ee6-4077923c0347"
      },
      "execution_count": null,
      "outputs": [
        {
          "output_type": "stream",
          "name": "stdout",
          "text": [
            "+---+--------------------+---+\n",
            "| id|                name|age|\n",
            "+---+--------------------+---+\n",
            "|  1|milanlshefwegdweg...| 56|\n",
            "|  2| rad;dbewiubdiuwehul| 26|\n",
            "|  3|miqhdwwgdlwgdiweg...| 34|\n",
            "|  4|                 jay| 21|\n",
            "+---+--------------------+---+\n",
            "\n"
          ]
        }
      ]
    },
    {
      "cell_type": "code",
      "source": [
        "from pyspark.sql.functions import col, lit\n",
        "df1 = df.withColumn(colName = 'age',col=col('age').cast('Integer'))\n",
        "df1.show()\n",
        "df1.printSchema()"
      ],
      "metadata": {
        "colab": {
          "base_uri": "https://localhost:8080/"
        },
        "id": "GB-GFCsM4hXz",
        "outputId": "78f65dfa-f7a0-4b5f-9b84-7a446d889949"
      },
      "execution_count": null,
      "outputs": [
        {
          "output_type": "stream",
          "name": "stdout",
          "text": [
            "+---+--------------------+---+\n",
            "| id|                name|age|\n",
            "+---+--------------------+---+\n",
            "|  1|milanlshefwegdweg...| 56|\n",
            "|  2| rad;dbewiubdiuwehul| 26|\n",
            "|  3|miqhdwwgdlwgdiweg...| 34|\n",
            "|  4|                 jay| 21|\n",
            "+---+--------------------+---+\n",
            "\n",
            "root\n",
            " |-- id: long (nullable = true)\n",
            " |-- name: string (nullable = true)\n",
            " |-- age: integer (nullable = true)\n",
            "\n"
          ]
        }
      ]
    },
    {
      "cell_type": "code",
      "source": [
        "df2 = df1.withColumn('age',col('age')-2)\n",
        "df2.show()"
      ],
      "metadata": {
        "colab": {
          "base_uri": "https://localhost:8080/"
        },
        "id": "SMDArI625T0v",
        "outputId": "7cf42b11-f718-43a7-f543-9f5043688a33"
      },
      "execution_count": null,
      "outputs": [
        {
          "output_type": "stream",
          "name": "stdout",
          "text": [
            "+---+--------------------+---+\n",
            "| id|                name|age|\n",
            "+---+--------------------+---+\n",
            "|  1|milanlshefwegdweg...| 54|\n",
            "|  2| rad;dbewiubdiuwehul| 24|\n",
            "|  3|miqhdwwgdlwgdiweg...| 32|\n",
            "|  4|                 jay| 19|\n",
            "+---+--------------------+---+\n",
            "\n"
          ]
        }
      ]
    },
    {
      "cell_type": "code",
      "source": [
        "df3 = df1.withColumn('new_age',col('age')-15)\n",
        "df3.show()"
      ],
      "metadata": {
        "colab": {
          "base_uri": "https://localhost:8080/"
        },
        "id": "WV7UX9Uv5tgb",
        "outputId": "162a7854-bc2c-4715-a9e5-fd0a605884d5"
      },
      "execution_count": null,
      "outputs": [
        {
          "output_type": "stream",
          "name": "stdout",
          "text": [
            "+---+--------------------+---+-------+\n",
            "| id|                name|age|new_age|\n",
            "+---+--------------------+---+-------+\n",
            "|  1|milanlshefwegdweg...| 56|     41|\n",
            "|  2| rad;dbewiubdiuwehul| 26|     11|\n",
            "|  3|miqhdwwgdlwgdiweg...| 34|     19|\n",
            "|  4|                 jay| 21|      6|\n",
            "+---+--------------------+---+-------+\n",
            "\n"
          ]
        }
      ]
    },
    {
      "cell_type": "code",
      "source": [
        "df3 = df3.withColumn('country', lit(('USA')))\n",
        "df3.show()"
      ],
      "metadata": {
        "colab": {
          "base_uri": "https://localhost:8080/"
        },
        "id": "ldPpss2P55XF",
        "outputId": "d178b5f3-d73d-4c93-8492-e86bc432a84d"
      },
      "execution_count": null,
      "outputs": [
        {
          "output_type": "stream",
          "name": "stdout",
          "text": [
            "+---+--------------------+---+-------+-------+\n",
            "| id|                name|age|new_age|country|\n",
            "+---+--------------------+---+-------+-------+\n",
            "|  1|milanlshefwegdweg...| 56|     41|    USA|\n",
            "|  2| rad;dbewiubdiuwehul| 26|     11|    USA|\n",
            "|  3|miqhdwwgdlwgdiweg...| 34|     19|    USA|\n",
            "|  4|                 jay| 21|      6|    USA|\n",
            "+---+--------------------+---+-------+-------+\n",
            "\n"
          ]
        }
      ]
    },
    {
      "cell_type": "markdown",
      "source": [
        "withColumnRenamed()"
      ],
      "metadata": {
        "id": "ROTgRGll6vM7"
      }
    },
    {
      "cell_type": "code",
      "source": [
        "df4 = df3.withColumnRenamed('age', 'persons_age')\n",
        "df4.show()"
      ],
      "metadata": {
        "colab": {
          "base_uri": "https://localhost:8080/"
        },
        "id": "lH0vaYJa6RUf",
        "outputId": "1660f46e-a020-472a-8698-909a6dc64d25"
      },
      "execution_count": null,
      "outputs": [
        {
          "output_type": "stream",
          "name": "stdout",
          "text": [
            "+---+--------------------+-----------+-------+-------+\n",
            "| id|                name|persons_age|new_age|country|\n",
            "+---+--------------------+-----------+-------+-------+\n",
            "|  1|milanlshefwegdweg...|         56|     41|    USA|\n",
            "|  2| rad;dbewiubdiuwehul|         26|     11|    USA|\n",
            "|  3|miqhdwwgdlwgdiweg...|         34|     19|    USA|\n",
            "|  4|                 jay|         21|      6|    USA|\n",
            "+---+--------------------+-----------+-------+-------+\n",
            "\n"
          ]
        }
      ]
    },
    {
      "cell_type": "markdown",
      "source": [
        "# **StructType() & StructField()**"
      ],
      "metadata": {
        "id": "d_sUx2DZPTm9"
      }
    },
    {
      "cell_type": "code",
      "source": [
        "from pyspark.sql.types import *"
      ],
      "metadata": {
        "id": "BuHaByJMSj8v"
      },
      "execution_count": 17,
      "outputs": []
    },
    {
      "cell_type": "code",
      "source": [
        "d = [(1,'lqwgdlyqwgdlgqlgd'),(2,'lqwugdqydqwlyd')]\n",
        "d2 = spark.createDataFrame(d)\n",
        "d2.show()\n",
        "print(d2.describe())"
      ],
      "metadata": {
        "colab": {
          "base_uri": "https://localhost:8080/"
        },
        "id": "bgVuZEzwQpCr",
        "outputId": "9347cfeb-1c42-4613-89af-1408b533d53a"
      },
      "execution_count": 21,
      "outputs": [
        {
          "output_type": "stream",
          "name": "stdout",
          "text": [
            "+---+-----------------+\n",
            "| _1|               _2|\n",
            "+---+-----------------+\n",
            "|  1|lqwgdlyqwgdlgqlgd|\n",
            "|  2|   lqwugdqydqwlyd|\n",
            "+---+-----------------+\n",
            "\n",
            "DataFrame[summary: string, _1: string, _2: string]\n"
          ]
        }
      ]
    },
    {
      "cell_type": "code",
      "source": [
        "d = [(1,'mihit','lqwgdlyqwgdlgqlgd'),(2,'hiren','lqwugdqydqwlyd')]\n",
        "schema = StructType([\\\n",
        "                     StructField(name='id', dataType=IntegerType()),\\\n",
        "                     StructField(name='name', dataType=StringType()),\\\n",
        "                     StructField(name='description', dataType=StringType())])\n",
        "d2 = spark.createDataFrame(d, schema)\n",
        "d2.show()\n",
        "d2.printSchema()"
      ],
      "metadata": {
        "colab": {
          "base_uri": "https://localhost:8080/"
        },
        "id": "Fb9Bf0jGRn80",
        "outputId": "593ffa96-8e3a-4338-b900-5736118fe707"
      },
      "execution_count": 25,
      "outputs": [
        {
          "output_type": "stream",
          "name": "stdout",
          "text": [
            "+---+-----+-----------------+\n",
            "| id| name|      description|\n",
            "+---+-----+-----------------+\n",
            "|  1|mihit|lqwgdlyqwgdlgqlgd|\n",
            "|  2|hiren|   lqwugdqydqwlyd|\n",
            "+---+-----+-----------------+\n",
            "\n",
            "root\n",
            " |-- id: integer (nullable = true)\n",
            " |-- name: string (nullable = true)\n",
            " |-- description: string (nullable = true)\n",
            "\n"
          ]
        }
      ]
    },
    {
      "cell_type": "code",
      "source": [
        "d = [(1,('mihit', 'vyas'),'lqwgdlyjbdwekubdqwgdlgqlgd'),(2,('hiren','patel'),'lqwluagiugaeeweweugdqydqwlyd')]\n",
        "structName = StructType([\\\n",
        "                         StructField('firstName', StringType()),\\\n",
        "                         StructField('lastName', StringType())])\n",
        "schema = StructType([\\\n",
        "                     StructField(name='id', dataType=IntegerType()),\\\n",
        "                     StructField(name='name', dataType=structName),\\\n",
        "                     StructField(name='description', dataType=StringType())])\n",
        "d2 = spark.createDataFrame(d, schema)\n",
        "d2.show()\n",
        "d2.printSchema()\n",
        "display(d2)"
      ],
      "metadata": {
        "colab": {
          "base_uri": "https://localhost:8080/",
          "height": 277
        },
        "id": "zmfhdJ6aVohw",
        "outputId": "c1f6ec94-3469-4c88-c446-d6f6cefc9e05"
      },
      "execution_count": 33,
      "outputs": [
        {
          "output_type": "stream",
          "name": "stdout",
          "text": [
            "+---+--------------+--------------------+\n",
            "| id|          name|         description|\n",
            "+---+--------------+--------------------+\n",
            "|  1| {mihit, vyas}|lqwgdlyjbdwekubdq...|\n",
            "|  2|{hiren, patel}|lqwluagiugaeewewe...|\n",
            "+---+--------------+--------------------+\n",
            "\n",
            "root\n",
            " |-- id: integer (nullable = true)\n",
            " |-- name: struct (nullable = true)\n",
            " |    |-- firstName: string (nullable = true)\n",
            " |    |-- lastName: string (nullable = true)\n",
            " |-- description: string (nullable = true)\n",
            "\n"
          ]
        },
        {
          "output_type": "display_data",
          "data": {
            "text/plain": [
              "DataFrame[id: int, name: struct<firstName:string,lastName:string>, description: string]"
            ]
          },
          "metadata": {}
        }
      ]
    },
    {
      "cell_type": "code",
      "source": [
        "import pandas as pd\n",
        "\n",
        "# Your existing code\n",
        "d = [\n",
        "    (52, ('mihit', 'vyas'), 'lqwgdlyjbdwekubdqwgdlgqlgd'),\n",
        "    (14, ('hiren', 'patel'), 'lqwluagiugaeeweweugdqydqwlyd')\n",
        "]\n",
        "\n",
        "# Define the schema\n",
        "structName = StructType([\n",
        "    StructField('firstName', StringType()),\n",
        "    StructField('lastName', StringType())\n",
        "])\n",
        "schema = StructType([\n",
        "    StructField(name='age', dataType=IntegerType()),\n",
        "    StructField(name='name', dataType=structName),\n",
        "    StructField(name='description', dataType=StringType())\n",
        "])\n",
        "\n",
        "# Create the DataFrame\n",
        "d2 = spark.createDataFrame(d, schema)\n",
        "\n",
        "# Convert DataFrame to Pandas DataFrame\n",
        "df_pd = d2.toPandas()\n",
        "\n",
        "# Display the Pandas DataFrame\n",
        "display(df_pd)\n"
      ],
      "metadata": {
        "colab": {
          "base_uri": "https://localhost:8080/",
          "height": 112
        },
        "id": "xvQqkiA0XQYQ",
        "outputId": "5b813a06-9c9e-4909-d987-8854e789f0b3"
      },
      "execution_count": 35,
      "outputs": [
        {
          "output_type": "display_data",
          "data": {
            "text/plain": [
              "   age            name                   description\n",
              "0   52   (mihit, vyas)    lqwgdlyjbdwekubdqwgdlgqlgd\n",
              "1   14  (hiren, patel)  lqwluagiugaeeweweugdqydqwlyd"
            ],
            "text/html": [
              "\n",
              "  <div id=\"df-fdc08ce1-d3a6-4db7-af67-282f13bbe31c\" class=\"colab-df-container\">\n",
              "    <div>\n",
              "<style scoped>\n",
              "    .dataframe tbody tr th:only-of-type {\n",
              "        vertical-align: middle;\n",
              "    }\n",
              "\n",
              "    .dataframe tbody tr th {\n",
              "        vertical-align: top;\n",
              "    }\n",
              "\n",
              "    .dataframe thead th {\n",
              "        text-align: right;\n",
              "    }\n",
              "</style>\n",
              "<table border=\"1\" class=\"dataframe\">\n",
              "  <thead>\n",
              "    <tr style=\"text-align: right;\">\n",
              "      <th></th>\n",
              "      <th>age</th>\n",
              "      <th>name</th>\n",
              "      <th>description</th>\n",
              "    </tr>\n",
              "  </thead>\n",
              "  <tbody>\n",
              "    <tr>\n",
              "      <th>0</th>\n",
              "      <td>52</td>\n",
              "      <td>(mihit, vyas)</td>\n",
              "      <td>lqwgdlyjbdwekubdqwgdlgqlgd</td>\n",
              "    </tr>\n",
              "    <tr>\n",
              "      <th>1</th>\n",
              "      <td>14</td>\n",
              "      <td>(hiren, patel)</td>\n",
              "      <td>lqwluagiugaeeweweugdqydqwlyd</td>\n",
              "    </tr>\n",
              "  </tbody>\n",
              "</table>\n",
              "</div>\n",
              "    <div class=\"colab-df-buttons\">\n",
              "\n",
              "  <div class=\"colab-df-container\">\n",
              "    <button class=\"colab-df-convert\" onclick=\"convertToInteractive('df-fdc08ce1-d3a6-4db7-af67-282f13bbe31c')\"\n",
              "            title=\"Convert this dataframe to an interactive table.\"\n",
              "            style=\"display:none;\">\n",
              "\n",
              "  <svg xmlns=\"http://www.w3.org/2000/svg\" height=\"24px\" viewBox=\"0 -960 960 960\">\n",
              "    <path d=\"M120-120v-720h720v720H120Zm60-500h600v-160H180v160Zm220 220h160v-160H400v160Zm0 220h160v-160H400v160ZM180-400h160v-160H180v160Zm440 0h160v-160H620v160ZM180-180h160v-160H180v160Zm440 0h160v-160H620v160Z\"/>\n",
              "  </svg>\n",
              "    </button>\n",
              "\n",
              "  <style>\n",
              "    .colab-df-container {\n",
              "      display:flex;\n",
              "      gap: 12px;\n",
              "    }\n",
              "\n",
              "    .colab-df-convert {\n",
              "      background-color: #E8F0FE;\n",
              "      border: none;\n",
              "      border-radius: 50%;\n",
              "      cursor: pointer;\n",
              "      display: none;\n",
              "      fill: #1967D2;\n",
              "      height: 32px;\n",
              "      padding: 0 0 0 0;\n",
              "      width: 32px;\n",
              "    }\n",
              "\n",
              "    .colab-df-convert:hover {\n",
              "      background-color: #E2EBFA;\n",
              "      box-shadow: 0px 1px 2px rgba(60, 64, 67, 0.3), 0px 1px 3px 1px rgba(60, 64, 67, 0.15);\n",
              "      fill: #174EA6;\n",
              "    }\n",
              "\n",
              "    .colab-df-buttons div {\n",
              "      margin-bottom: 4px;\n",
              "    }\n",
              "\n",
              "    [theme=dark] .colab-df-convert {\n",
              "      background-color: #3B4455;\n",
              "      fill: #D2E3FC;\n",
              "    }\n",
              "\n",
              "    [theme=dark] .colab-df-convert:hover {\n",
              "      background-color: #434B5C;\n",
              "      box-shadow: 0px 1px 3px 1px rgba(0, 0, 0, 0.15);\n",
              "      filter: drop-shadow(0px 1px 2px rgba(0, 0, 0, 0.3));\n",
              "      fill: #FFFFFF;\n",
              "    }\n",
              "  </style>\n",
              "\n",
              "    <script>\n",
              "      const buttonEl =\n",
              "        document.querySelector('#df-fdc08ce1-d3a6-4db7-af67-282f13bbe31c button.colab-df-convert');\n",
              "      buttonEl.style.display =\n",
              "        google.colab.kernel.accessAllowed ? 'block' : 'none';\n",
              "\n",
              "      async function convertToInteractive(key) {\n",
              "        const element = document.querySelector('#df-fdc08ce1-d3a6-4db7-af67-282f13bbe31c');\n",
              "        const dataTable =\n",
              "          await google.colab.kernel.invokeFunction('convertToInteractive',\n",
              "                                                    [key], {});\n",
              "        if (!dataTable) return;\n",
              "\n",
              "        const docLinkHtml = 'Like what you see? Visit the ' +\n",
              "          '<a target=\"_blank\" href=https://colab.research.google.com/notebooks/data_table.ipynb>data table notebook</a>'\n",
              "          + ' to learn more about interactive tables.';\n",
              "        element.innerHTML = '';\n",
              "        dataTable['output_type'] = 'display_data';\n",
              "        await google.colab.output.renderOutput(dataTable, element);\n",
              "        const docLink = document.createElement('div');\n",
              "        docLink.innerHTML = docLinkHtml;\n",
              "        element.appendChild(docLink);\n",
              "      }\n",
              "    </script>\n",
              "  </div>\n",
              "\n",
              "\n",
              "<div id=\"df-98126329-3b03-4fd8-8fd6-2dbee5ca7d70\">\n",
              "  <button class=\"colab-df-quickchart\" onclick=\"quickchart('df-98126329-3b03-4fd8-8fd6-2dbee5ca7d70')\"\n",
              "            title=\"Suggest charts\"\n",
              "            style=\"display:none;\">\n",
              "\n",
              "<svg xmlns=\"http://www.w3.org/2000/svg\" height=\"24px\"viewBox=\"0 0 24 24\"\n",
              "     width=\"24px\">\n",
              "    <g>\n",
              "        <path d=\"M19 3H5c-1.1 0-2 .9-2 2v14c0 1.1.9 2 2 2h14c1.1 0 2-.9 2-2V5c0-1.1-.9-2-2-2zM9 17H7v-7h2v7zm4 0h-2V7h2v10zm4 0h-2v-4h2v4z\"/>\n",
              "    </g>\n",
              "</svg>\n",
              "  </button>\n",
              "\n",
              "<style>\n",
              "  .colab-df-quickchart {\n",
              "      --bg-color: #E8F0FE;\n",
              "      --fill-color: #1967D2;\n",
              "      --hover-bg-color: #E2EBFA;\n",
              "      --hover-fill-color: #174EA6;\n",
              "      --disabled-fill-color: #AAA;\n",
              "      --disabled-bg-color: #DDD;\n",
              "  }\n",
              "\n",
              "  [theme=dark] .colab-df-quickchart {\n",
              "      --bg-color: #3B4455;\n",
              "      --fill-color: #D2E3FC;\n",
              "      --hover-bg-color: #434B5C;\n",
              "      --hover-fill-color: #FFFFFF;\n",
              "      --disabled-bg-color: #3B4455;\n",
              "      --disabled-fill-color: #666;\n",
              "  }\n",
              "\n",
              "  .colab-df-quickchart {\n",
              "    background-color: var(--bg-color);\n",
              "    border: none;\n",
              "    border-radius: 50%;\n",
              "    cursor: pointer;\n",
              "    display: none;\n",
              "    fill: var(--fill-color);\n",
              "    height: 32px;\n",
              "    padding: 0;\n",
              "    width: 32px;\n",
              "  }\n",
              "\n",
              "  .colab-df-quickchart:hover {\n",
              "    background-color: var(--hover-bg-color);\n",
              "    box-shadow: 0 1px 2px rgba(60, 64, 67, 0.3), 0 1px 3px 1px rgba(60, 64, 67, 0.15);\n",
              "    fill: var(--button-hover-fill-color);\n",
              "  }\n",
              "\n",
              "  .colab-df-quickchart-complete:disabled,\n",
              "  .colab-df-quickchart-complete:disabled:hover {\n",
              "    background-color: var(--disabled-bg-color);\n",
              "    fill: var(--disabled-fill-color);\n",
              "    box-shadow: none;\n",
              "  }\n",
              "\n",
              "  .colab-df-spinner {\n",
              "    border: 2px solid var(--fill-color);\n",
              "    border-color: transparent;\n",
              "    border-bottom-color: var(--fill-color);\n",
              "    animation:\n",
              "      spin 1s steps(1) infinite;\n",
              "  }\n",
              "\n",
              "  @keyframes spin {\n",
              "    0% {\n",
              "      border-color: transparent;\n",
              "      border-bottom-color: var(--fill-color);\n",
              "      border-left-color: var(--fill-color);\n",
              "    }\n",
              "    20% {\n",
              "      border-color: transparent;\n",
              "      border-left-color: var(--fill-color);\n",
              "      border-top-color: var(--fill-color);\n",
              "    }\n",
              "    30% {\n",
              "      border-color: transparent;\n",
              "      border-left-color: var(--fill-color);\n",
              "      border-top-color: var(--fill-color);\n",
              "      border-right-color: var(--fill-color);\n",
              "    }\n",
              "    40% {\n",
              "      border-color: transparent;\n",
              "      border-right-color: var(--fill-color);\n",
              "      border-top-color: var(--fill-color);\n",
              "    }\n",
              "    60% {\n",
              "      border-color: transparent;\n",
              "      border-right-color: var(--fill-color);\n",
              "    }\n",
              "    80% {\n",
              "      border-color: transparent;\n",
              "      border-right-color: var(--fill-color);\n",
              "      border-bottom-color: var(--fill-color);\n",
              "    }\n",
              "    90% {\n",
              "      border-color: transparent;\n",
              "      border-bottom-color: var(--fill-color);\n",
              "    }\n",
              "  }\n",
              "</style>\n",
              "\n",
              "  <script>\n",
              "    async function quickchart(key) {\n",
              "      const quickchartButtonEl =\n",
              "        document.querySelector('#' + key + ' button');\n",
              "      quickchartButtonEl.disabled = true;  // To prevent multiple clicks.\n",
              "      quickchartButtonEl.classList.add('colab-df-spinner');\n",
              "      try {\n",
              "        const charts = await google.colab.kernel.invokeFunction(\n",
              "            'suggestCharts', [key], {});\n",
              "      } catch (error) {\n",
              "        console.error('Error during call to suggestCharts:', error);\n",
              "      }\n",
              "      quickchartButtonEl.classList.remove('colab-df-spinner');\n",
              "      quickchartButtonEl.classList.add('colab-df-quickchart-complete');\n",
              "    }\n",
              "    (() => {\n",
              "      let quickchartButtonEl =\n",
              "        document.querySelector('#df-98126329-3b03-4fd8-8fd6-2dbee5ca7d70 button');\n",
              "      quickchartButtonEl.style.display =\n",
              "        google.colab.kernel.accessAllowed ? 'block' : 'none';\n",
              "    })();\n",
              "  </script>\n",
              "</div>\n",
              "    </div>\n",
              "  </div>\n"
            ],
            "application/vnd.google.colaboratory.intrinsic+json": {
              "type": "dataframe",
              "variable_name": "df_pd",
              "summary": "{\n  \"name\": \"df_pd\",\n  \"rows\": 2,\n  \"fields\": [\n    {\n      \"column\": \"age\",\n      \"properties\": {\n        \"dtype\": \"int32\",\n        \"num_unique_values\": 2,\n        \"samples\": [\n          14,\n          52\n        ],\n        \"semantic_type\": \"\",\n        \"description\": \"\"\n      }\n    },\n    {\n      \"column\": \"name\",\n      \"properties\": {\n        \"dtype\": \"string\",\n        \"num_unique_values\": 2,\n        \"samples\": [\n          [\n            \"hiren\",\n            \"patel\"\n          ],\n          [\n            \"mihit\",\n            \"vyas\"\n          ]\n        ],\n        \"semantic_type\": \"\",\n        \"description\": \"\"\n      }\n    },\n    {\n      \"column\": \"description\",\n      \"properties\": {\n        \"dtype\": \"string\",\n        \"num_unique_values\": 2,\n        \"samples\": [\n          \"lqwluagiugaeeweweugdqydqwlyd\",\n          \"lqwgdlyjbdwekubdqwgdlgqlgd\"\n        ],\n        \"semantic_type\": \"\",\n        \"description\": \"\"\n      }\n    }\n  ]\n}"
            }
          },
          "metadata": {}
        }
      ]
    },
    {
      "cell_type": "code",
      "source": [
        "from pyspark.sql.types import StructType, StructField, IntegerType, StringType\n",
        "\n",
        "# Define the data\n",
        "data = [\n",
        "    (45, ('John', 'Doe'), 'Lorem ipsum dolor sit amet, consectetur adipiscing elit. Sed vehicula tortor id augue accumsan, in consequat nisi gravida.'),\n",
        "    (41, ('Jane', 'Smith'), 'Nullam convallis libero non eros volutpat malesuada. Morbi ut sapien nec felis pulvinar ultricies.'),\n",
        "    (12, ('Alice', 'Johnson'), 'Vivamus venenatis, lacus ut accumsan sagittis, justo quam pretium turpis, eget elementum metus nulla eget ipsum.'),\n",
        "    (20, ('Bob', 'Brown'), 'Phasellus porttitor felis non nunc pharetra, vel mattis elit vehicula.'),\n",
        "    (30, ('Emily', 'Davis'), 'Donec quis tortor nec elit varius pharetra. Vivamus auctor orci at eros malesuada rutrum.'),\n",
        "    (30, ('Michael', 'Wilson'), 'Fusce sit amet nisi sit amet eros consectetur auctor in nec nulla.')\n",
        "]\n",
        "\n",
        "# Define the schema for the nested structure\n",
        "structName = StructType([\n",
        "    StructField('firstName', StringType()),\n",
        "    StructField('lastName', StringType())\n",
        "])\n",
        "\n",
        "# Define the schema for the DataFrame\n",
        "schema = StructType([\n",
        "    StructField('age', IntegerType()),\n",
        "    StructField('name', structName),\n",
        "    StructField('description', StringType())\n",
        "])\n",
        "\n",
        "# d2.show()\n",
        "\n",
        "# # Create the DataFrame\n",
        "d2 = spark.createDataFrame(data, schema)\n",
        "\n",
        "# # Show the DataFrame\n",
        "d2.show(truncate=False)\n",
        "df_pd = d2.toPandas()\n",
        "\n",
        "# Display the Pandas DataFrame\n",
        "display(df_pd)\n",
        "\n"
      ],
      "metadata": {
        "colab": {
          "base_uri": "https://localhost:8080/",
          "height": 448
        },
        "id": "dTsmjCAzYFRj",
        "outputId": "5c54ae3b-ca8a-4ab9-9d75-fb995c8e22b2"
      },
      "execution_count": 40,
      "outputs": [
        {
          "output_type": "stream",
          "name": "stdout",
          "text": [
            "+---+-----------------+--------------------------------------------------------------------------------------------------------------------------+\n",
            "|age|name             |description                                                                                                               |\n",
            "+---+-----------------+--------------------------------------------------------------------------------------------------------------------------+\n",
            "|45 |{John, Doe}      |Lorem ipsum dolor sit amet, consectetur adipiscing elit. Sed vehicula tortor id augue accumsan, in consequat nisi gravida.|\n",
            "|41 |{Jane, Smith}    |Nullam convallis libero non eros volutpat malesuada. Morbi ut sapien nec felis pulvinar ultricies.                        |\n",
            "|12 |{Alice, Johnson} |Vivamus venenatis, lacus ut accumsan sagittis, justo quam pretium turpis, eget elementum metus nulla eget ipsum.          |\n",
            "|20 |{Bob, Brown}     |Phasellus porttitor felis non nunc pharetra, vel mattis elit vehicula.                                                    |\n",
            "|30 |{Emily, Davis}   |Donec quis tortor nec elit varius pharetra. Vivamus auctor orci at eros malesuada rutrum.                                 |\n",
            "|30 |{Michael, Wilson}|Fusce sit amet nisi sit amet eros consectetur auctor in nec nulla.                                                        |\n",
            "+---+-----------------+--------------------------------------------------------------------------------------------------------------------------+\n",
            "\n"
          ]
        },
        {
          "output_type": "display_data",
          "data": {
            "text/plain": [
              "   age               name                                        description\n",
              "0   45        (John, Doe)  Lorem ipsum dolor sit amet, consectetur adipis...\n",
              "1   41      (Jane, Smith)  Nullam convallis libero non eros volutpat male...\n",
              "2   12   (Alice, Johnson)  Vivamus venenatis, lacus ut accumsan sagittis,...\n",
              "3   20       (Bob, Brown)  Phasellus porttitor felis non nunc pharetra, v...\n",
              "4   30     (Emily, Davis)  Donec quis tortor nec elit varius pharetra. Vi...\n",
              "5   30  (Michael, Wilson)  Fusce sit amet nisi sit amet eros consectetur ..."
            ],
            "text/html": [
              "\n",
              "  <div id=\"df-bb011a02-b352-4f1f-b5b1-78b87378400b\" class=\"colab-df-container\">\n",
              "    <div>\n",
              "<style scoped>\n",
              "    .dataframe tbody tr th:only-of-type {\n",
              "        vertical-align: middle;\n",
              "    }\n",
              "\n",
              "    .dataframe tbody tr th {\n",
              "        vertical-align: top;\n",
              "    }\n",
              "\n",
              "    .dataframe thead th {\n",
              "        text-align: right;\n",
              "    }\n",
              "</style>\n",
              "<table border=\"1\" class=\"dataframe\">\n",
              "  <thead>\n",
              "    <tr style=\"text-align: right;\">\n",
              "      <th></th>\n",
              "      <th>age</th>\n",
              "      <th>name</th>\n",
              "      <th>description</th>\n",
              "    </tr>\n",
              "  </thead>\n",
              "  <tbody>\n",
              "    <tr>\n",
              "      <th>0</th>\n",
              "      <td>45</td>\n",
              "      <td>(John, Doe)</td>\n",
              "      <td>Lorem ipsum dolor sit amet, consectetur adipis...</td>\n",
              "    </tr>\n",
              "    <tr>\n",
              "      <th>1</th>\n",
              "      <td>41</td>\n",
              "      <td>(Jane, Smith)</td>\n",
              "      <td>Nullam convallis libero non eros volutpat male...</td>\n",
              "    </tr>\n",
              "    <tr>\n",
              "      <th>2</th>\n",
              "      <td>12</td>\n",
              "      <td>(Alice, Johnson)</td>\n",
              "      <td>Vivamus venenatis, lacus ut accumsan sagittis,...</td>\n",
              "    </tr>\n",
              "    <tr>\n",
              "      <th>3</th>\n",
              "      <td>20</td>\n",
              "      <td>(Bob, Brown)</td>\n",
              "      <td>Phasellus porttitor felis non nunc pharetra, v...</td>\n",
              "    </tr>\n",
              "    <tr>\n",
              "      <th>4</th>\n",
              "      <td>30</td>\n",
              "      <td>(Emily, Davis)</td>\n",
              "      <td>Donec quis tortor nec elit varius pharetra. Vi...</td>\n",
              "    </tr>\n",
              "    <tr>\n",
              "      <th>5</th>\n",
              "      <td>30</td>\n",
              "      <td>(Michael, Wilson)</td>\n",
              "      <td>Fusce sit amet nisi sit amet eros consectetur ...</td>\n",
              "    </tr>\n",
              "  </tbody>\n",
              "</table>\n",
              "</div>\n",
              "    <div class=\"colab-df-buttons\">\n",
              "\n",
              "  <div class=\"colab-df-container\">\n",
              "    <button class=\"colab-df-convert\" onclick=\"convertToInteractive('df-bb011a02-b352-4f1f-b5b1-78b87378400b')\"\n",
              "            title=\"Convert this dataframe to an interactive table.\"\n",
              "            style=\"display:none;\">\n",
              "\n",
              "  <svg xmlns=\"http://www.w3.org/2000/svg\" height=\"24px\" viewBox=\"0 -960 960 960\">\n",
              "    <path d=\"M120-120v-720h720v720H120Zm60-500h600v-160H180v160Zm220 220h160v-160H400v160Zm0 220h160v-160H400v160ZM180-400h160v-160H180v160Zm440 0h160v-160H620v160ZM180-180h160v-160H180v160Zm440 0h160v-160H620v160Z\"/>\n",
              "  </svg>\n",
              "    </button>\n",
              "\n",
              "  <style>\n",
              "    .colab-df-container {\n",
              "      display:flex;\n",
              "      gap: 12px;\n",
              "    }\n",
              "\n",
              "    .colab-df-convert {\n",
              "      background-color: #E8F0FE;\n",
              "      border: none;\n",
              "      border-radius: 50%;\n",
              "      cursor: pointer;\n",
              "      display: none;\n",
              "      fill: #1967D2;\n",
              "      height: 32px;\n",
              "      padding: 0 0 0 0;\n",
              "      width: 32px;\n",
              "    }\n",
              "\n",
              "    .colab-df-convert:hover {\n",
              "      background-color: #E2EBFA;\n",
              "      box-shadow: 0px 1px 2px rgba(60, 64, 67, 0.3), 0px 1px 3px 1px rgba(60, 64, 67, 0.15);\n",
              "      fill: #174EA6;\n",
              "    }\n",
              "\n",
              "    .colab-df-buttons div {\n",
              "      margin-bottom: 4px;\n",
              "    }\n",
              "\n",
              "    [theme=dark] .colab-df-convert {\n",
              "      background-color: #3B4455;\n",
              "      fill: #D2E3FC;\n",
              "    }\n",
              "\n",
              "    [theme=dark] .colab-df-convert:hover {\n",
              "      background-color: #434B5C;\n",
              "      box-shadow: 0px 1px 3px 1px rgba(0, 0, 0, 0.15);\n",
              "      filter: drop-shadow(0px 1px 2px rgba(0, 0, 0, 0.3));\n",
              "      fill: #FFFFFF;\n",
              "    }\n",
              "  </style>\n",
              "\n",
              "    <script>\n",
              "      const buttonEl =\n",
              "        document.querySelector('#df-bb011a02-b352-4f1f-b5b1-78b87378400b button.colab-df-convert');\n",
              "      buttonEl.style.display =\n",
              "        google.colab.kernel.accessAllowed ? 'block' : 'none';\n",
              "\n",
              "      async function convertToInteractive(key) {\n",
              "        const element = document.querySelector('#df-bb011a02-b352-4f1f-b5b1-78b87378400b');\n",
              "        const dataTable =\n",
              "          await google.colab.kernel.invokeFunction('convertToInteractive',\n",
              "                                                    [key], {});\n",
              "        if (!dataTable) return;\n",
              "\n",
              "        const docLinkHtml = 'Like what you see? Visit the ' +\n",
              "          '<a target=\"_blank\" href=https://colab.research.google.com/notebooks/data_table.ipynb>data table notebook</a>'\n",
              "          + ' to learn more about interactive tables.';\n",
              "        element.innerHTML = '';\n",
              "        dataTable['output_type'] = 'display_data';\n",
              "        await google.colab.output.renderOutput(dataTable, element);\n",
              "        const docLink = document.createElement('div');\n",
              "        docLink.innerHTML = docLinkHtml;\n",
              "        element.appendChild(docLink);\n",
              "      }\n",
              "    </script>\n",
              "  </div>\n",
              "\n",
              "\n",
              "<div id=\"df-d8a5c70a-270a-4447-a9d5-d8fc25bcd913\">\n",
              "  <button class=\"colab-df-quickchart\" onclick=\"quickchart('df-d8a5c70a-270a-4447-a9d5-d8fc25bcd913')\"\n",
              "            title=\"Suggest charts\"\n",
              "            style=\"display:none;\">\n",
              "\n",
              "<svg xmlns=\"http://www.w3.org/2000/svg\" height=\"24px\"viewBox=\"0 0 24 24\"\n",
              "     width=\"24px\">\n",
              "    <g>\n",
              "        <path d=\"M19 3H5c-1.1 0-2 .9-2 2v14c0 1.1.9 2 2 2h14c1.1 0 2-.9 2-2V5c0-1.1-.9-2-2-2zM9 17H7v-7h2v7zm4 0h-2V7h2v10zm4 0h-2v-4h2v4z\"/>\n",
              "    </g>\n",
              "</svg>\n",
              "  </button>\n",
              "\n",
              "<style>\n",
              "  .colab-df-quickchart {\n",
              "      --bg-color: #E8F0FE;\n",
              "      --fill-color: #1967D2;\n",
              "      --hover-bg-color: #E2EBFA;\n",
              "      --hover-fill-color: #174EA6;\n",
              "      --disabled-fill-color: #AAA;\n",
              "      --disabled-bg-color: #DDD;\n",
              "  }\n",
              "\n",
              "  [theme=dark] .colab-df-quickchart {\n",
              "      --bg-color: #3B4455;\n",
              "      --fill-color: #D2E3FC;\n",
              "      --hover-bg-color: #434B5C;\n",
              "      --hover-fill-color: #FFFFFF;\n",
              "      --disabled-bg-color: #3B4455;\n",
              "      --disabled-fill-color: #666;\n",
              "  }\n",
              "\n",
              "  .colab-df-quickchart {\n",
              "    background-color: var(--bg-color);\n",
              "    border: none;\n",
              "    border-radius: 50%;\n",
              "    cursor: pointer;\n",
              "    display: none;\n",
              "    fill: var(--fill-color);\n",
              "    height: 32px;\n",
              "    padding: 0;\n",
              "    width: 32px;\n",
              "  }\n",
              "\n",
              "  .colab-df-quickchart:hover {\n",
              "    background-color: var(--hover-bg-color);\n",
              "    box-shadow: 0 1px 2px rgba(60, 64, 67, 0.3), 0 1px 3px 1px rgba(60, 64, 67, 0.15);\n",
              "    fill: var(--button-hover-fill-color);\n",
              "  }\n",
              "\n",
              "  .colab-df-quickchart-complete:disabled,\n",
              "  .colab-df-quickchart-complete:disabled:hover {\n",
              "    background-color: var(--disabled-bg-color);\n",
              "    fill: var(--disabled-fill-color);\n",
              "    box-shadow: none;\n",
              "  }\n",
              "\n",
              "  .colab-df-spinner {\n",
              "    border: 2px solid var(--fill-color);\n",
              "    border-color: transparent;\n",
              "    border-bottom-color: var(--fill-color);\n",
              "    animation:\n",
              "      spin 1s steps(1) infinite;\n",
              "  }\n",
              "\n",
              "  @keyframes spin {\n",
              "    0% {\n",
              "      border-color: transparent;\n",
              "      border-bottom-color: var(--fill-color);\n",
              "      border-left-color: var(--fill-color);\n",
              "    }\n",
              "    20% {\n",
              "      border-color: transparent;\n",
              "      border-left-color: var(--fill-color);\n",
              "      border-top-color: var(--fill-color);\n",
              "    }\n",
              "    30% {\n",
              "      border-color: transparent;\n",
              "      border-left-color: var(--fill-color);\n",
              "      border-top-color: var(--fill-color);\n",
              "      border-right-color: var(--fill-color);\n",
              "    }\n",
              "    40% {\n",
              "      border-color: transparent;\n",
              "      border-right-color: var(--fill-color);\n",
              "      border-top-color: var(--fill-color);\n",
              "    }\n",
              "    60% {\n",
              "      border-color: transparent;\n",
              "      border-right-color: var(--fill-color);\n",
              "    }\n",
              "    80% {\n",
              "      border-color: transparent;\n",
              "      border-right-color: var(--fill-color);\n",
              "      border-bottom-color: var(--fill-color);\n",
              "    }\n",
              "    90% {\n",
              "      border-color: transparent;\n",
              "      border-bottom-color: var(--fill-color);\n",
              "    }\n",
              "  }\n",
              "</style>\n",
              "\n",
              "  <script>\n",
              "    async function quickchart(key) {\n",
              "      const quickchartButtonEl =\n",
              "        document.querySelector('#' + key + ' button');\n",
              "      quickchartButtonEl.disabled = true;  // To prevent multiple clicks.\n",
              "      quickchartButtonEl.classList.add('colab-df-spinner');\n",
              "      try {\n",
              "        const charts = await google.colab.kernel.invokeFunction(\n",
              "            'suggestCharts', [key], {});\n",
              "      } catch (error) {\n",
              "        console.error('Error during call to suggestCharts:', error);\n",
              "      }\n",
              "      quickchartButtonEl.classList.remove('colab-df-spinner');\n",
              "      quickchartButtonEl.classList.add('colab-df-quickchart-complete');\n",
              "    }\n",
              "    (() => {\n",
              "      let quickchartButtonEl =\n",
              "        document.querySelector('#df-d8a5c70a-270a-4447-a9d5-d8fc25bcd913 button');\n",
              "      quickchartButtonEl.style.display =\n",
              "        google.colab.kernel.accessAllowed ? 'block' : 'none';\n",
              "    })();\n",
              "  </script>\n",
              "</div>\n",
              "    </div>\n",
              "  </div>\n"
            ],
            "application/vnd.google.colaboratory.intrinsic+json": {
              "type": "dataframe",
              "variable_name": "df_pd",
              "summary": "{\n  \"name\": \"df_pd\",\n  \"rows\": 6,\n  \"fields\": [\n    {\n      \"column\": \"age\",\n      \"properties\": {\n        \"dtype\": \"int32\",\n        \"num_unique_values\": 5,\n        \"samples\": [\n          41,\n          30,\n          12\n        ],\n        \"semantic_type\": \"\",\n        \"description\": \"\"\n      }\n    },\n    {\n      \"column\": \"name\",\n      \"properties\": {\n        \"dtype\": \"string\",\n        \"num_unique_values\": 6,\n        \"samples\": [\n          [\n            \"John\",\n            \"Doe\"\n          ],\n          [\n            \"Jane\",\n            \"Smith\"\n          ],\n          [\n            \"Michael\",\n            \"Wilson\"\n          ]\n        ],\n        \"semantic_type\": \"\",\n        \"description\": \"\"\n      }\n    },\n    {\n      \"column\": \"description\",\n      \"properties\": {\n        \"dtype\": \"string\",\n        \"num_unique_values\": 6,\n        \"samples\": [\n          \"Lorem ipsum dolor sit amet, consectetur adipiscing elit. Sed vehicula tortor id augue accumsan, in consequat nisi gravida.\",\n          \"Nullam convallis libero non eros volutpat malesuada. Morbi ut sapien nec felis pulvinar ultricies.\",\n          \"Fusce sit amet nisi sit amet eros consectetur auctor in nec nulla.\"\n        ],\n        \"semantic_type\": \"\",\n        \"description\": \"\"\n      }\n    }\n  ]\n}"
            }
          },
          "metadata": {}
        }
      ]
    },
    {
      "cell_type": "code",
      "source": [
        "from pyspark.sql.functions import *\n"
      ],
      "metadata": {
        "id": "cfiX6BnMYlWJ"
      },
      "execution_count": 41,
      "outputs": []
    },
    {
      "cell_type": "code",
      "source": [
        "d2.show()"
      ],
      "metadata": {
        "colab": {
          "base_uri": "https://localhost:8080/"
        },
        "id": "jFuZvKUbgzm1",
        "outputId": "456d524e-9f99-44fb-9c27-f06a78dafbc6"
      },
      "execution_count": 42,
      "outputs": [
        {
          "output_type": "stream",
          "name": "stdout",
          "text": [
            "+---+-----------------+--------------------+\n",
            "|age|             name|         description|\n",
            "+---+-----------------+--------------------+\n",
            "| 45|      {John, Doe}|Lorem ipsum dolor...|\n",
            "| 41|    {Jane, Smith}|Nullam convallis ...|\n",
            "| 12| {Alice, Johnson}|Vivamus venenatis...|\n",
            "| 20|     {Bob, Brown}|Phasellus porttit...|\n",
            "| 30|   {Emily, Davis}|Donec quis tortor...|\n",
            "| 30|{Michael, Wilson}|Fusce sit amet ni...|\n",
            "+---+-----------------+--------------------+\n",
            "\n"
          ]
        }
      ]
    },
    {
      "cell_type": "code",
      "source": [
        "data=[(1,('lwfuweblf', 'jfweulf'),56),(2,('lwb','jrb'),26),(3,('eedew','ww'),34),(4,('wleu','wliugf'),21)]\n",
        "schema=['id','name','age']\n",
        "df = spark.createDataFrame(data=data,schema=schema)\n",
        "df.show()"
      ],
      "metadata": {
        "colab": {
          "base_uri": "https://localhost:8080/"
        },
        "id": "6VtUMaR1hA7d",
        "outputId": "9701673d-561b-407c-c266-c5ed96994cee"
      },
      "execution_count": 50,
      "outputs": [
        {
          "output_type": "stream",
          "name": "stdout",
          "text": [
            "+---+--------------------+---+\n",
            "| id|                name|age|\n",
            "+---+--------------------+---+\n",
            "|  1|{lwfuweblf, jfweulf}| 56|\n",
            "|  2|          {lwb, jrb}| 26|\n",
            "|  3|         {eedew, ww}| 34|\n",
            "|  4|      {wleu, wliugf}| 21|\n",
            "+---+--------------------+---+\n",
            "\n"
          ]
        }
      ]
    },
    {
      "cell_type": "markdown",
      "source": [
        "# **Create PySpark ArrayType Column Using StructType**"
      ],
      "metadata": {
        "id": "Tz7m3bTGlohy"
      }
    },
    {
      "cell_type": "code",
      "source": [
        "from pyspark.sql.types import StringType, ArrayType\n",
        "arrayCol = ArrayType(StringType(),False)"
      ],
      "metadata": {
        "id": "nSjz-GS6lnfB"
      },
      "execution_count": 61,
      "outputs": []
    },
    {
      "cell_type": "code",
      "source": [
        "data = [\n",
        " (\"James,,Smith\",[\"Java\",\"Scala\",\"C++\"],[\"Spark\",\"Java\"],\"OH\",\"CA\"),\n",
        " (\"Michael,Rose,\",[\"Spark\",\"Java\",\"C++\"],[\"Spark\",\"Java\"],\"NY\",\"NJ\"),\n",
        " (\"Robert,,Williams\",[\"CSharp\",\"VB\"],[\"Spark\",\"Python\"],\"UT\",\"NV\")\n",
        "]\n",
        "\n",
        "from pyspark.sql.types import StringType, ArrayType,StructType,StructField\n",
        "schema = StructType([\n",
        "    StructField(\"name\",StringType(),True),\n",
        "    StructField(\"languagesAtSchool\",ArrayType(StringType()),True),\n",
        "    StructField(\"languagesAtWork\",ArrayType(StringType()),True),\n",
        "    StructField(\"currentState\", StringType(), True),\n",
        "    StructField(\"previousState\", StringType(), True)\n",
        "  ])\n",
        "\n",
        "df = spark.createDataFrame(data=data,schema=schema)\n",
        "df.printSchema()\n",
        "df.show()"
      ],
      "metadata": {
        "colab": {
          "base_uri": "https://localhost:8080/"
        },
        "id": "3S9Ylsq8iDdj",
        "outputId": "71bc7cbf-88db-4cd1-8b66-60e8e6cd6ec6"
      },
      "execution_count": 62,
      "outputs": [
        {
          "output_type": "stream",
          "name": "stdout",
          "text": [
            "root\n",
            " |-- name: string (nullable = true)\n",
            " |-- languagesAtSchool: array (nullable = true)\n",
            " |    |-- element: string (containsNull = true)\n",
            " |-- languagesAtWork: array (nullable = true)\n",
            " |    |-- element: string (containsNull = true)\n",
            " |-- currentState: string (nullable = true)\n",
            " |-- previousState: string (nullable = true)\n",
            "\n",
            "+----------------+------------------+---------------+------------+-------------+\n",
            "|            name| languagesAtSchool|languagesAtWork|currentState|previousState|\n",
            "+----------------+------------------+---------------+------------+-------------+\n",
            "|    James,,Smith|[Java, Scala, C++]|  [Spark, Java]|          OH|           CA|\n",
            "|   Michael,Rose,|[Spark, Java, C++]|  [Spark, Java]|          NY|           NJ|\n",
            "|Robert,,Williams|      [CSharp, VB]|[Spark, Python]|          UT|           NV|\n",
            "+----------------+------------------+---------------+------------+-------------+\n",
            "\n"
          ]
        }
      ]
    },
    {
      "cell_type": "markdown",
      "source": [
        "explode()"
      ],
      "metadata": {
        "id": "lMbY8EFOl17E"
      }
    },
    {
      "cell_type": "code",
      "source": [
        "from pyspark.sql.functions import explode, col, array\n",
        "\n",
        "# Define the data\n",
        "data = [\n",
        "    (1, ('lwfuweblf', 'jfweulf'), 56),\n",
        "    (2, ('lwb', 'jrb'), 26),\n",
        "    (3, ('eedew', 'ww'), 34),\n",
        "    (4, ('wleu', 'wliugf'), 21)\n",
        "]\n",
        "\n",
        "# Define the schema\n",
        "schema = ['id', 'name', 'age']\n",
        "\n",
        "# Create the DataFrame\n",
        "df = spark.createDataFrame(data=data, schema=schema)\n",
        "\n",
        "# Convert the 'name' column to an array\n",
        "df2 = df.withColumn('name_array', array('name._1', 'name._2'))\n",
        "\n",
        "# Explode the 'name_array' column\n",
        "df3 = df2.withColumn('names', explode(col('name_array')))\n",
        "\n",
        "df3 = df3.drop('name_array')\n",
        "\n",
        "# Show the DataFrame\n",
        "df3.show(truncate=False)\n"
      ],
      "metadata": {
        "colab": {
          "base_uri": "https://localhost:8080/"
        },
        "id": "2Z0omdL2iJkD",
        "outputId": "7803b473-01b3-47d9-9546-1f4b933102f3"
      },
      "execution_count": 60,
      "outputs": [
        {
          "output_type": "stream",
          "name": "stdout",
          "text": [
            "+---+--------------------+---+---------+\n",
            "|id |name                |age|names    |\n",
            "+---+--------------------+---+---------+\n",
            "|1  |{lwfuweblf, jfweulf}|56 |lwfuweblf|\n",
            "|1  |{lwfuweblf, jfweulf}|56 |jfweulf  |\n",
            "|2  |{lwb, jrb}          |26 |lwb      |\n",
            "|2  |{lwb, jrb}          |26 |jrb      |\n",
            "|3  |{eedew, ww}         |34 |eedew    |\n",
            "|3  |{eedew, ww}         |34 |ww       |\n",
            "|4  |{wleu, wliugf}      |21 |wleu     |\n",
            "|4  |{wleu, wliugf}      |21 |wliugf   |\n",
            "+---+--------------------+---+---------+\n",
            "\n"
          ]
        }
      ]
    },
    {
      "cell_type": "code",
      "source": [
        "df.select(df.name,explode(df.languagesAtSchool).alias(\"lang_list\")).show()"
      ],
      "metadata": {
        "colab": {
          "base_uri": "https://localhost:8080/"
        },
        "id": "LEJ1WHDZwu36",
        "outputId": "338b45b1-ce9d-495b-e37c-a28b91d67b97"
      },
      "execution_count": 70,
      "outputs": [
        {
          "output_type": "stream",
          "name": "stdout",
          "text": [
            "+----------------+---------+\n",
            "|            name|lang_list|\n",
            "+----------------+---------+\n",
            "|    James,,Smith|     Java|\n",
            "|    James,,Smith|    Scala|\n",
            "|    James,,Smith|      C++|\n",
            "|   Michael,Rose,|    Spark|\n",
            "|   Michael,Rose,|     Java|\n",
            "|   Michael,Rose,|      C++|\n",
            "|Robert,,Williams|   CSharp|\n",
            "|Robert,,Williams|       VB|\n",
            "+----------------+---------+\n",
            "\n"
          ]
        }
      ]
    },
    {
      "cell_type": "code",
      "source": [
        "df.select(df.name,explode(df.languagesAtSchool)).show()"
      ],
      "metadata": {
        "colab": {
          "base_uri": "https://localhost:8080/"
        },
        "id": "bHcT_Tllil-d",
        "outputId": "a3b35291-9e77-43fb-9742-6bf431306f9d"
      },
      "execution_count": 64,
      "outputs": [
        {
          "output_type": "stream",
          "name": "stdout",
          "text": [
            "+----------------+------+\n",
            "|            name|   col|\n",
            "+----------------+------+\n",
            "|    James,,Smith|  Java|\n",
            "|    James,,Smith| Scala|\n",
            "|    James,,Smith|   C++|\n",
            "|   Michael,Rose,| Spark|\n",
            "|   Michael,Rose,|  Java|\n",
            "|   Michael,Rose,|   C++|\n",
            "|Robert,,Williams|CSharp|\n",
            "|Robert,,Williams|    VB|\n",
            "+----------------+------+\n",
            "\n"
          ]
        }
      ]
    },
    {
      "cell_type": "markdown",
      "source": [
        "Split()"
      ],
      "metadata": {
        "id": "mqhROyRAmG69"
      }
    },
    {
      "cell_type": "code",
      "source": [
        "df.select(split(df.name,\",\").alias(\"nameAsArray\")).show()"
      ],
      "metadata": {
        "colab": {
          "base_uri": "https://localhost:8080/"
        },
        "id": "UsW4HHnjl5ux",
        "outputId": "d2454520-d038-4797-8563-851bb93c5fab"
      },
      "execution_count": 65,
      "outputs": [
        {
          "output_type": "stream",
          "name": "stdout",
          "text": [
            "+--------------------+\n",
            "|         nameAsArray|\n",
            "+--------------------+\n",
            "|    [James, , Smith]|\n",
            "|   [Michael, Rose, ]|\n",
            "|[Robert, , Williams]|\n",
            "+--------------------+\n",
            "\n"
          ]
        }
      ]
    },
    {
      "cell_type": "code",
      "source": [
        "df.select(df.name,split(df.name,\",\").alias(\"new_split\")).show()"
      ],
      "metadata": {
        "colab": {
          "base_uri": "https://localhost:8080/"
        },
        "id": "WdD0UBG4w59I",
        "outputId": "3b339205-154e-4ae7-ea1b-feeb3655bf1b"
      },
      "execution_count": 81,
      "outputs": [
        {
          "output_type": "stream",
          "name": "stdout",
          "text": [
            "+----------------+--------------------+\n",
            "|            name|           new_split|\n",
            "+----------------+--------------------+\n",
            "|    James,,Smith|    [James, , Smith]|\n",
            "|   Michael,Rose,|   [Michael, Rose, ]|\n",
            "|Robert,,Williams|[Robert, , Williams]|\n",
            "+----------------+--------------------+\n",
            "\n"
          ]
        }
      ]
    },
    {
      "cell_type": "code",
      "source": [
        "df.show()"
      ],
      "metadata": {
        "colab": {
          "base_uri": "https://localhost:8080/"
        },
        "id": "muE_n7KImq_J",
        "outputId": "54826e8b-69f6-4fbd-f3bb-2bd7b291c0ba"
      },
      "execution_count": 67,
      "outputs": [
        {
          "output_type": "stream",
          "name": "stdout",
          "text": [
            "+----------------+------------------+---------------+------------+-------------+\n",
            "|            name| languagesAtSchool|languagesAtWork|currentState|previousState|\n",
            "+----------------+------------------+---------------+------------+-------------+\n",
            "|    James,,Smith|[Java, Scala, C++]|  [Spark, Java]|          OH|           CA|\n",
            "|   Michael,Rose,|[Spark, Java, C++]|  [Spark, Java]|          NY|           NJ|\n",
            "|Robert,,Williams|      [CSharp, VB]|[Spark, Python]|          UT|           NV|\n",
            "+----------------+------------------+---------------+------------+-------------+\n",
            "\n"
          ]
        }
      ]
    },
    {
      "cell_type": "code",
      "source": [
        "df.select(df.name,array(df.currentState,df.previousState).alias(\"States\")).show()\n"
      ],
      "metadata": {
        "colab": {
          "base_uri": "https://localhost:8080/"
        },
        "id": "TxqAaacCmUwc",
        "outputId": "d7d72aa8-b701-4120-c911-c2bc98d99287"
      },
      "execution_count": 66,
      "outputs": [
        {
          "output_type": "stream",
          "name": "stdout",
          "text": [
            "+----------------+--------+\n",
            "|            name|  States|\n",
            "+----------------+--------+\n",
            "|    James,,Smith|[OH, CA]|\n",
            "|   Michael,Rose,|[NY, NJ]|\n",
            "|Robert,,Williams|[UT, NV]|\n",
            "+----------------+--------+\n",
            "\n"
          ]
        }
      ]
    },
    {
      "cell_type": "markdown",
      "source": [
        "array_contains()"
      ],
      "metadata": {
        "id": "Dp-6lidiojcC"
      }
    },
    {
      "cell_type": "code",
      "source": [
        "df.select(df.name,array_contains(df.languagesAtSchool,\"Java\")\n",
        "    .alias(\"array_contains\")).show()"
      ],
      "metadata": {
        "colab": {
          "base_uri": "https://localhost:8080/"
        },
        "id": "DX2dSjh1mfV3",
        "outputId": "87489af1-38d2-462b-8bd6-6961c0854224"
      },
      "execution_count": 68,
      "outputs": [
        {
          "output_type": "stream",
          "name": "stdout",
          "text": [
            "+----------------+--------------+\n",
            "|            name|array_contains|\n",
            "+----------------+--------------+\n",
            "|    James,,Smith|          true|\n",
            "|   Michael,Rose,|          true|\n",
            "|Robert,,Williams|         false|\n",
            "+----------------+--------------+\n",
            "\n"
          ]
        }
      ]
    },
    {
      "cell_type": "code",
      "source": [
        "df.select(df.name,explode(df.languagesAtSchool).alias(\"lang_list\"), split(df.name,\",\").alias(\"new_split\")).show()"
      ],
      "metadata": {
        "colab": {
          "base_uri": "https://localhost:8080/"
        },
        "id": "Nck4ASDdwVa8",
        "outputId": "bab79b84-17c0-4380-ec3e-ae86aaf2d83d"
      },
      "execution_count": 82,
      "outputs": [
        {
          "output_type": "stream",
          "name": "stdout",
          "text": [
            "+----------------+---------+--------------------+\n",
            "|            name|lang_list|           new_split|\n",
            "+----------------+---------+--------------------+\n",
            "|    James,,Smith|     Java|    [James, , Smith]|\n",
            "|    James,,Smith|    Scala|    [James, , Smith]|\n",
            "|    James,,Smith|      C++|    [James, , Smith]|\n",
            "|   Michael,Rose,|    Spark|   [Michael, Rose, ]|\n",
            "|   Michael,Rose,|     Java|   [Michael, Rose, ]|\n",
            "|   Michael,Rose,|      C++|   [Michael, Rose, ]|\n",
            "|Robert,,Williams|   CSharp|[Robert, , Williams]|\n",
            "|Robert,,Williams|       VB|[Robert, , Williams]|\n",
            "+----------------+---------+--------------------+\n",
            "\n"
          ]
        }
      ]
    },
    {
      "cell_type": "code",
      "source": [],
      "metadata": {
        "id": "qjMXxEbnwqD-"
      },
      "execution_count": null,
      "outputs": []
    }
  ]
}