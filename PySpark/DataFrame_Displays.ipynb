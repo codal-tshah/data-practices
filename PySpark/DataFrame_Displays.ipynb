{
  "nbformat": 4,
  "nbformat_minor": 0,
  "metadata": {
    "colab": {
      "provenance": [],
      "authorship_tag": "ABX9TyPY9AuXeAQvu4JE4oYzbMNZ",
      "include_colab_link": true
    },
    "kernelspec": {
      "name": "python3",
      "display_name": "Python 3"
    },
    "language_info": {
      "name": "python"
    }
  },
  "cells": [
    {
      "cell_type": "markdown",
      "metadata": {
        "id": "view-in-github",
        "colab_type": "text"
      },
      "source": [
        "<a href=\"https://colab.research.google.com/github/codal-tshah/data-practices-2024/blob/15_apr/PySpark/DataFrame_Displays.ipynb\" target=\"_parent\"><img src=\"https://colab.research.google.com/assets/colab-badge.svg\" alt=\"Open In Colab\"/></a>"
      ]
    },
    {
      "cell_type": "code",
      "source": [
        "from google.colab import drive\n",
        "drive.mount('/content/drive')"
      ],
      "metadata": {
        "colab": {
          "base_uri": "https://localhost:8080/"
        },
        "id": "deZ7F-HLLJuo",
        "outputId": "115cf71a-1d92-450c-892e-505c37fe7664"
      },
      "execution_count": 1,
      "outputs": [
        {
          "output_type": "stream",
          "name": "stdout",
          "text": [
            "Mounted at /content/drive\n"
          ]
        }
      ]
    },
    {
      "cell_type": "code",
      "execution_count": 2,
      "metadata": {
        "colab": {
          "base_uri": "https://localhost:8080/"
        },
        "id": "FKjf_qm6K7vc",
        "outputId": "f03b18b6-7ede-49fb-fb23-5a99d08bd4fa"
      },
      "outputs": [
        {
          "output_type": "stream",
          "name": "stdout",
          "text": [
            "Collecting pyspark\n",
            "  Downloading pyspark-3.5.1.tar.gz (317.0 MB)\n",
            "\u001b[2K     \u001b[90m━━━━━━━━━━━━━━━━━━━━━━━━━━━━━━━━━━━━━━━━\u001b[0m \u001b[32m317.0/317.0 MB\u001b[0m \u001b[31m3.7 MB/s\u001b[0m eta \u001b[36m0:00:00\u001b[0m\n",
            "\u001b[?25h  Preparing metadata (setup.py) ... \u001b[?25l\u001b[?25hdone\n",
            "Requirement already satisfied: py4j==0.10.9.7 in /usr/local/lib/python3.10/dist-packages (from pyspark) (0.10.9.7)\n",
            "Building wheels for collected packages: pyspark\n",
            "  Building wheel for pyspark (setup.py) ... \u001b[?25l\u001b[?25hdone\n",
            "  Created wheel for pyspark: filename=pyspark-3.5.1-py2.py3-none-any.whl size=317488491 sha256=896721d78dd8b0bcf787727e60a95479e8f0d6f6c4c3bac48c46adb711649c8a\n",
            "  Stored in directory: /root/.cache/pip/wheels/80/1d/60/2c256ed38dddce2fdd93be545214a63e02fbd8d74fb0b7f3a6\n",
            "Successfully built pyspark\n",
            "Installing collected packages: pyspark\n",
            "Successfully installed pyspark-3.5.1\n"
          ]
        }
      ],
      "source": [
        "!pip install pyspark"
      ]
    },
    {
      "cell_type": "code",
      "source": [
        "from pyspark import *\n",
        "from pyspark.sql import DataFrame\n",
        "help(DataFrame.write)"
      ],
      "metadata": {
        "colab": {
          "base_uri": "https://localhost:8080/"
        },
        "id": "mvGIQbxxiZ1G",
        "outputId": "4fc534c4-ea5b-40bb-b2e1-26585171cd00"
      },
      "execution_count": 4,
      "outputs": [
        {
          "output_type": "stream",
          "name": "stdout",
          "text": [
            "Help on property:\n",
            "\n",
            "    Interface for saving the content of the non-streaming :class:`DataFrame` out into external\n",
            "    storage.\n",
            "    \n",
            "    .. versionadded:: 1.4.0\n",
            "    \n",
            "    .. versionchanged:: 3.4.0\n",
            "        Supports Spark Connect.\n",
            "    \n",
            "    Returns\n",
            "    -------\n",
            "    :class:`DataFrameWriter`\n",
            "    \n",
            "    Examples\n",
            "    --------\n",
            "    >>> df = spark.createDataFrame([(2, \"Alice\"), (5, \"Bob\")], schema=[\"age\", \"name\"])\n",
            "    >>> type(df.write)\n",
            "    <class '...readwriter.DataFrameWriter'>\n",
            "    \n",
            "    Write the DataFrame as a table.\n",
            "    \n",
            "    >>> _ = spark.sql(\"DROP TABLE IF EXISTS tab2\")\n",
            "    >>> df.write.saveAsTable(\"tab2\")\n",
            "    >>> _ = spark.sql(\"DROP TABLE tab2\")\n",
            "\n"
          ]
        }
      ]
    },
    {
      "cell_type": "code",
      "source": [
        "from pyspark.context import SparkContext\n",
        "from pyspark.sql.session import SparkSession\n",
        "sc = SparkContext('local')\n",
        "spark = SparkSession(sc)"
      ],
      "metadata": {
        "id": "T9wfyF76ijd9"
      },
      "execution_count": 6,
      "outputs": []
    },
    {
      "cell_type": "code",
      "source": [
        "data=[(1,'milanlshefwegdwegd;uwed;wevdiewv',56),(2,'rad;dbewiubdiuwehul',26),(3,'miqhdwwgdlwgdiwegdygweydghir',34),(4,'jay',21)]\n",
        "schema=['id','name','age']\n",
        "df = spark.createDataFrame(data=data,schema=schema)\n",
        "df.show()"
      ],
      "metadata": {
        "colab": {
          "base_uri": "https://localhost:8080/"
        },
        "id": "jnOXHVKRb0Rj",
        "outputId": "04eabee5-dbfd-4dba-c8b6-7160ba703998"
      },
      "execution_count": 8,
      "outputs": [
        {
          "output_type": "stream",
          "name": "stdout",
          "text": [
            "+---+--------------------+---+\n",
            "| id|                name|age|\n",
            "+---+--------------------+---+\n",
            "|  1|milanlshefwegdweg...| 56|\n",
            "|  2| rad;dbewiubdiuwehul| 26|\n",
            "|  3|miqhdwwgdlwgdiweg...| 34|\n",
            "|  4|                 jay| 21|\n",
            "+---+--------------------+---+\n",
            "\n"
          ]
        }
      ]
    },
    {
      "cell_type": "markdown",
      "source": [
        "show()"
      ],
      "metadata": {
        "id": "1t2OvHdQ4ULK"
      }
    },
    {
      "cell_type": "code",
      "source": [
        "df.show(truncate=False)"
      ],
      "metadata": {
        "colab": {
          "base_uri": "https://localhost:8080/"
        },
        "id": "dZs97g_HiYnu",
        "outputId": "526013ed-4b7c-4f06-f29f-34810e7b3af8"
      },
      "execution_count": 9,
      "outputs": [
        {
          "output_type": "stream",
          "name": "stdout",
          "text": [
            "+---+--------------------------------+---+\n",
            "|id |name                            |age|\n",
            "+---+--------------------------------+---+\n",
            "|1  |milanlshefwegdwegd;uwed;wevdiewv|56 |\n",
            "|2  |rad;dbewiubdiuwehul             |26 |\n",
            "|3  |miqhdwwgdlwgdiwegdygweydghir    |34 |\n",
            "|4  |jay                             |21 |\n",
            "+---+--------------------------------+---+\n",
            "\n"
          ]
        }
      ]
    },
    {
      "cell_type": "code",
      "source": [
        "df.show(truncate=12)"
      ],
      "metadata": {
        "colab": {
          "base_uri": "https://localhost:8080/"
        },
        "id": "6EJNA7XyitqN",
        "outputId": "4c986963-bb35-41e2-e9c7-307c85c26352"
      },
      "execution_count": 10,
      "outputs": [
        {
          "output_type": "stream",
          "name": "stdout",
          "text": [
            "+---+------------+---+\n",
            "| id|        name|age|\n",
            "+---+------------+---+\n",
            "|  1|milanlshe...| 56|\n",
            "|  2|rad;dbewi...| 26|\n",
            "|  3|miqhdwwgd...| 34|\n",
            "|  4|         jay| 21|\n",
            "+---+------------+---+\n",
            "\n"
          ]
        }
      ]
    },
    {
      "cell_type": "code",
      "source": [
        "df.show(n=2,truncate=False)"
      ],
      "metadata": {
        "colab": {
          "base_uri": "https://localhost:8080/"
        },
        "id": "mnX0lxDfiyql",
        "outputId": "0800625f-3198-4fcf-9941-7570cffdeaad"
      },
      "execution_count": 11,
      "outputs": [
        {
          "output_type": "stream",
          "name": "stdout",
          "text": [
            "+---+--------------------------------+---+\n",
            "|id |name                            |age|\n",
            "+---+--------------------------------+---+\n",
            "|1  |milanlshefwegdwegd;uwed;wevdiewv|56 |\n",
            "|2  |rad;dbewiubdiuwehul             |26 |\n",
            "+---+--------------------------------+---+\n",
            "only showing top 2 rows\n",
            "\n"
          ]
        }
      ]
    },
    {
      "cell_type": "code",
      "source": [
        "df.show(n=2, vertical=True)"
      ],
      "metadata": {
        "colab": {
          "base_uri": "https://localhost:8080/"
        },
        "id": "W0okxiP4ptHa",
        "outputId": "93057fb5-5093-457d-e211-f39a446d5aec"
      },
      "execution_count": 12,
      "outputs": [
        {
          "output_type": "stream",
          "name": "stdout",
          "text": [
            "-RECORD 0--------------------\n",
            " id   | 1                    \n",
            " name | milanlshefwegdweg... \n",
            " age  | 56                   \n",
            "-RECORD 1--------------------\n",
            " id   | 2                    \n",
            " name | rad;dbewiubdiuwehul  \n",
            " age  | 26                   \n",
            "only showing top 2 rows\n",
            "\n"
          ]
        }
      ]
    },
    {
      "cell_type": "markdown",
      "source": [
        "withColumn()"
      ],
      "metadata": {
        "id": "7uVSRQ0W4WbC"
      }
    },
    {
      "cell_type": "code",
      "source": [
        "display(df)"
      ],
      "metadata": {
        "colab": {
          "base_uri": "https://localhost:8080/",
          "height": 34
        },
        "id": "7CHHyKMO4YUr",
        "outputId": "77553151-c731-4d84-b41e-38cc27b5fdf6"
      },
      "execution_count": 14,
      "outputs": [
        {
          "output_type": "display_data",
          "data": {
            "text/plain": [
              "DataFrame[id: bigint, name: string, age: bigint]"
            ]
          },
          "metadata": {}
        }
      ]
    },
    {
      "cell_type": "code",
      "source": [
        "df.show()"
      ],
      "metadata": {
        "colab": {
          "base_uri": "https://localhost:8080/"
        },
        "id": "0LFPqUH65AWK",
        "outputId": "353b3a85-7ea0-4267-8ee6-4077923c0347"
      },
      "execution_count": 16,
      "outputs": [
        {
          "output_type": "stream",
          "name": "stdout",
          "text": [
            "+---+--------------------+---+\n",
            "| id|                name|age|\n",
            "+---+--------------------+---+\n",
            "|  1|milanlshefwegdweg...| 56|\n",
            "|  2| rad;dbewiubdiuwehul| 26|\n",
            "|  3|miqhdwwgdlwgdiweg...| 34|\n",
            "|  4|                 jay| 21|\n",
            "+---+--------------------+---+\n",
            "\n"
          ]
        }
      ]
    },
    {
      "cell_type": "code",
      "source": [
        "from pyspark.sql.functions import col, lit\n",
        "df1 = df.withColumn(colName = 'age',col=col('age').cast('Integer'))\n",
        "df1.show()\n",
        "df1.printSchema()"
      ],
      "metadata": {
        "colab": {
          "base_uri": "https://localhost:8080/"
        },
        "id": "GB-GFCsM4hXz",
        "outputId": "78f65dfa-f7a0-4b5f-9b84-7a446d889949"
      },
      "execution_count": 25,
      "outputs": [
        {
          "output_type": "stream",
          "name": "stdout",
          "text": [
            "+---+--------------------+---+\n",
            "| id|                name|age|\n",
            "+---+--------------------+---+\n",
            "|  1|milanlshefwegdweg...| 56|\n",
            "|  2| rad;dbewiubdiuwehul| 26|\n",
            "|  3|miqhdwwgdlwgdiweg...| 34|\n",
            "|  4|                 jay| 21|\n",
            "+---+--------------------+---+\n",
            "\n",
            "root\n",
            " |-- id: long (nullable = true)\n",
            " |-- name: string (nullable = true)\n",
            " |-- age: integer (nullable = true)\n",
            "\n"
          ]
        }
      ]
    },
    {
      "cell_type": "code",
      "source": [
        "df2 = df1.withColumn('age',col('age')-2)\n",
        "df2.show()"
      ],
      "metadata": {
        "colab": {
          "base_uri": "https://localhost:8080/"
        },
        "id": "SMDArI625T0v",
        "outputId": "7cf42b11-f718-43a7-f543-9f5043688a33"
      },
      "execution_count": 21,
      "outputs": [
        {
          "output_type": "stream",
          "name": "stdout",
          "text": [
            "+---+--------------------+---+\n",
            "| id|                name|age|\n",
            "+---+--------------------+---+\n",
            "|  1|milanlshefwegdweg...| 54|\n",
            "|  2| rad;dbewiubdiuwehul| 24|\n",
            "|  3|miqhdwwgdlwgdiweg...| 32|\n",
            "|  4|                 jay| 19|\n",
            "+---+--------------------+---+\n",
            "\n"
          ]
        }
      ]
    },
    {
      "cell_type": "code",
      "source": [
        "df3 = df1.withColumn('new_age',col('age')-15)\n",
        "df3.show()"
      ],
      "metadata": {
        "colab": {
          "base_uri": "https://localhost:8080/"
        },
        "id": "WV7UX9Uv5tgb",
        "outputId": "162a7854-bc2c-4715-a9e5-fd0a605884d5"
      },
      "execution_count": 22,
      "outputs": [
        {
          "output_type": "stream",
          "name": "stdout",
          "text": [
            "+---+--------------------+---+-------+\n",
            "| id|                name|age|new_age|\n",
            "+---+--------------------+---+-------+\n",
            "|  1|milanlshefwegdweg...| 56|     41|\n",
            "|  2| rad;dbewiubdiuwehul| 26|     11|\n",
            "|  3|miqhdwwgdlwgdiweg...| 34|     19|\n",
            "|  4|                 jay| 21|      6|\n",
            "+---+--------------------+---+-------+\n",
            "\n"
          ]
        }
      ]
    },
    {
      "cell_type": "code",
      "source": [
        "df3 = df3.withColumn('country', lit(('USA')))\n",
        "df3.show()"
      ],
      "metadata": {
        "colab": {
          "base_uri": "https://localhost:8080/"
        },
        "id": "ldPpss2P55XF",
        "outputId": "d178b5f3-d73d-4c93-8492-e86bc432a84d"
      },
      "execution_count": 29,
      "outputs": [
        {
          "output_type": "stream",
          "name": "stdout",
          "text": [
            "+---+--------------------+---+-------+-------+\n",
            "| id|                name|age|new_age|country|\n",
            "+---+--------------------+---+-------+-------+\n",
            "|  1|milanlshefwegdweg...| 56|     41|    USA|\n",
            "|  2| rad;dbewiubdiuwehul| 26|     11|    USA|\n",
            "|  3|miqhdwwgdlwgdiweg...| 34|     19|    USA|\n",
            "|  4|                 jay| 21|      6|    USA|\n",
            "+---+--------------------+---+-------+-------+\n",
            "\n"
          ]
        }
      ]
    },
    {
      "cell_type": "markdown",
      "source": [
        "withColumnRenamed()"
      ],
      "metadata": {
        "id": "ROTgRGll6vM7"
      }
    },
    {
      "cell_type": "code",
      "source": [
        "df4 = df3.withColumnRenamed('age', 'persons_age')\n",
        "df4.show()"
      ],
      "metadata": {
        "colab": {
          "base_uri": "https://localhost:8080/"
        },
        "id": "lH0vaYJa6RUf",
        "outputId": "1660f46e-a020-472a-8698-909a6dc64d25"
      },
      "execution_count": 30,
      "outputs": [
        {
          "output_type": "stream",
          "name": "stdout",
          "text": [
            "+---+--------------------+-----------+-------+-------+\n",
            "| id|                name|persons_age|new_age|country|\n",
            "+---+--------------------+-----------+-------+-------+\n",
            "|  1|milanlshefwegdweg...|         56|     41|    USA|\n",
            "|  2| rad;dbewiubdiuwehul|         26|     11|    USA|\n",
            "|  3|miqhdwwgdlwgdiweg...|         34|     19|    USA|\n",
            "|  4|                 jay|         21|      6|    USA|\n",
            "+---+--------------------+-----------+-------+-------+\n",
            "\n"
          ]
        }
      ]
    }
  ]
}