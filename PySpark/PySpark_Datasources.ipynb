{
  "nbformat": 4,
  "nbformat_minor": 0,
  "metadata": {
    "colab": {
      "provenance": [],
      "mount_file_id": "1hxv-3V7Uf6bmB3S5mHZ8tPjJDWyKxsgX",
      "authorship_tag": "ABX9TyMu5LRh9QeDz/2+a1trxDRT",
      "include_colab_link": true
    },
    "kernelspec": {
      "name": "python3",
      "display_name": "Python 3"
    },
    "language_info": {
      "name": "python"
    }
  },
  "cells": [
    {
      "cell_type": "markdown",
      "metadata": {
        "id": "view-in-github",
        "colab_type": "text"
      },
      "source": [
        "<a href=\"https://colab.research.google.com/github/codal-tshah/data-practices-2024/blob/26_apr/PySpark/PySpark_Datasources.ipynb\" target=\"_parent\"><img src=\"https://colab.research.google.com/assets/colab-badge.svg\" alt=\"Open In Colab\"/></a>"
      ]
    },
    {
      "cell_type": "code",
      "source": [
        "!pip install pyspark"
      ],
      "metadata": {
        "colab": {
          "base_uri": "https://localhost:8080/"
        },
        "id": "RRhf-jhVByq7",
        "outputId": "cd899d8c-3669-4d89-9034-0c70d4e31627"
      },
      "execution_count": 1,
      "outputs": [
        {
          "output_type": "stream",
          "name": "stdout",
          "text": [
            "Collecting pyspark\n",
            "  Downloading pyspark-3.5.1.tar.gz (317.0 MB)\n",
            "\u001b[2K     \u001b[90m━━━━━━━━━━━━━━━━━━━━━━━━━━━━━━━━━━━━━━━━\u001b[0m \u001b[32m317.0/317.0 MB\u001b[0m \u001b[31m2.8 MB/s\u001b[0m eta \u001b[36m0:00:00\u001b[0m\n",
            "\u001b[?25h  Preparing metadata (setup.py) ... \u001b[?25l\u001b[?25hdone\n",
            "Requirement already satisfied: py4j==0.10.9.7 in /usr/local/lib/python3.10/dist-packages (from pyspark) (0.10.9.7)\n",
            "Building wheels for collected packages: pyspark\n",
            "  Building wheel for pyspark (setup.py) ... \u001b[?25l\u001b[?25hdone\n",
            "  Created wheel for pyspark: filename=pyspark-3.5.1-py2.py3-none-any.whl size=317488491 sha256=ff0d0dec70f12248cddc53280548e478d522450a4e4c4fa3588fec5e2ad617de\n",
            "  Stored in directory: /root/.cache/pip/wheels/80/1d/60/2c256ed38dddce2fdd93be545214a63e02fbd8d74fb0b7f3a6\n",
            "Successfully built pyspark\n",
            "Installing collected packages: pyspark\n",
            "Successfully installed pyspark-3.5.1\n"
          ]
        }
      ]
    },
    {
      "cell_type": "code",
      "source": [
        "from pyspark.sql.types import *\n",
        "from pyspark.sql.functions import *\n",
        "from pyspark.sql import SparkSession\n",
        "spark = SparkSession.builder.appName(\"new_app.com\").getOrCreate()\n"
      ],
      "metadata": {
        "id": "F7chhMzlB20W"
      },
      "execution_count": 2,
      "outputs": []
    },
    {
      "cell_type": "markdown",
      "source": [
        "# **Read & Write CSV Files**"
      ],
      "metadata": {
        "id": "YblzZVRL-Mjk"
      }
    },
    {
      "cell_type": "code",
      "execution_count": null,
      "metadata": {
        "id": "Lh0vThPM9uHZ",
        "colab": {
          "base_uri": "https://localhost:8080/"
        },
        "outputId": "c051b962-aebc-4392-cdb8-2c2daf181c1d"
      },
      "outputs": [
        {
          "output_type": "stream",
          "name": "stdout",
          "text": [
            "root\n",
            " |-- _c0: string (nullable = true)\n",
            " |-- _c1: string (nullable = true)\n",
            " |-- _c2: string (nullable = true)\n",
            " |-- _c3: string (nullable = true)\n",
            " |-- _c4: string (nullable = true)\n",
            " |-- _c5: string (nullable = true)\n",
            " |-- _c6: string (nullable = true)\n",
            " |-- _c7: string (nullable = true)\n",
            " |-- _c8: string (nullable = true)\n",
            " |-- _c9: string (nullable = true)\n",
            " |-- _c10: string (nullable = true)\n",
            " |-- _c11: string (nullable = true)\n",
            "\n"
          ]
        }
      ],
      "source": [
        "df = spark.read.csv(\"/content/drive/MyDrive/data_practices/pandas/data/titanic.csv\")\n",
        "df.printSchema()"
      ]
    },
    {
      "cell_type": "code",
      "source": [
        "df.show()"
      ],
      "metadata": {
        "colab": {
          "base_uri": "https://localhost:8080/"
        },
        "id": "92217OdTMvK0",
        "outputId": "06aa2e40-53a7-4b09-a7bc-af964df6d0b1"
      },
      "execution_count": null,
      "outputs": [
        {
          "output_type": "stream",
          "name": "stdout",
          "text": [
            "+-----------+--------+------+--------------------+------+----+-----+-----+----------------+-------+-----+--------+\n",
            "|        _c0|     _c1|   _c2|                 _c3|   _c4| _c5|  _c6|  _c7|             _c8|    _c9| _c10|    _c11|\n",
            "+-----------+--------+------+--------------------+------+----+-----+-----+----------------+-------+-----+--------+\n",
            "|PassengerId|Survived|Pclass|                Name|   Sex| Age|SibSp|Parch|          Ticket|   Fare|Cabin|Embarked|\n",
            "|          1|       0|     3|Braund, Mr. Owen ...|  male|  22|    1|    0|       A/5 21171|   7.25| NULL|       S|\n",
            "|          2|       1|     1|Cumings, Mrs. Joh...|female|  38|    1|    0|        PC 17599|71.2833|  C85|       C|\n",
            "|          3|       1|     3|Heikkinen, Miss. ...|female|  26|    0|    0|STON/O2. 3101282|  7.925| NULL|       S|\n",
            "|          4|       1|     1|Futrelle, Mrs. Ja...|female|  35|    1|    0|          113803|   53.1| C123|       S|\n",
            "|          5|       0|     3|Allen, Mr. Willia...|  male|  35|    0|    0|          373450|   8.05| NULL|       S|\n",
            "|          6|       0|     3|    Moran, Mr. James|  male|NULL|    0|    0|          330877| 8.4583| NULL|       Q|\n",
            "|          7|       0|     1|McCarthy, Mr. Tim...|  male|  54|    0|    0|           17463|51.8625|  E46|       S|\n",
            "|          8|       0|     3|Palsson, Master. ...|  male|   2|    3|    1|          349909| 21.075| NULL|       S|\n",
            "|          9|       1|     3|Johnson, Mrs. Osc...|female|  27|    0|    2|          347742|11.1333| NULL|       S|\n",
            "|         10|       1|     2|Nasser, Mrs. Nich...|female|  14|    1|    0|          237736|30.0708| NULL|       C|\n",
            "|         11|       1|     3|Sandstrom, Miss. ...|female|   4|    1|    1|         PP 9549|   16.7|   G6|       S|\n",
            "|         12|       1|     1|Bonnell, Miss. El...|female|  58|    0|    0|          113783|  26.55| C103|       S|\n",
            "|         13|       0|     3|Saundercock, Mr. ...|  male|  20|    0|    0|       A/5. 2151|   8.05| NULL|       S|\n",
            "|         14|       0|     3|Andersson, Mr. An...|  male|  39|    1|    5|          347082| 31.275| NULL|       S|\n",
            "|         15|       0|     3|Vestrom, Miss. Hu...|female|  14|    0|    0|          350406| 7.8542| NULL|       S|\n",
            "|         16|       1|     2|Hewlett, Mrs. (Ma...|female|  55|    0|    0|          248706|     16| NULL|       S|\n",
            "|         17|       0|     3|Rice, Master. Eugene|  male|   2|    4|    1|          382652| 29.125| NULL|       Q|\n",
            "|         18|       1|     2|Williams, Mr. Cha...|  male|NULL|    0|    0|          244373|     13| NULL|       S|\n",
            "|         19|       0|     3|Vander Planke, Mr...|female|  31|    1|    0|          345763|     18| NULL|       S|\n",
            "+-----------+--------+------+--------------------+------+----+-----+-----+----------------+-------+-----+--------+\n",
            "only showing top 20 rows\n",
            "\n"
          ]
        }
      ]
    },
    {
      "cell_type": "code",
      "source": [
        "df = spark.read.format(\"csv\").load(\"/content/drive/MyDrive/data_practices/pandas/data/titanic.csv\")\n",
        "df.printSchema()\n",
        "df.show()"
      ],
      "metadata": {
        "colab": {
          "base_uri": "https://localhost:8080/"
        },
        "id": "T3j6omWzNO-3",
        "outputId": "c5d404e1-8b99-4f9c-e6dc-1dc6eefcbc61"
      },
      "execution_count": null,
      "outputs": [
        {
          "output_type": "stream",
          "name": "stdout",
          "text": [
            "root\n",
            " |-- _c0: string (nullable = true)\n",
            " |-- _c1: string (nullable = true)\n",
            " |-- _c2: string (nullable = true)\n",
            " |-- _c3: string (nullable = true)\n",
            " |-- _c4: string (nullable = true)\n",
            " |-- _c5: string (nullable = true)\n",
            " |-- _c6: string (nullable = true)\n",
            " |-- _c7: string (nullable = true)\n",
            " |-- _c8: string (nullable = true)\n",
            " |-- _c9: string (nullable = true)\n",
            " |-- _c10: string (nullable = true)\n",
            " |-- _c11: string (nullable = true)\n",
            "\n",
            "+-----------+--------+------+--------------------+------+----+-----+-----+----------------+-------+-----+--------+\n",
            "|        _c0|     _c1|   _c2|                 _c3|   _c4| _c5|  _c6|  _c7|             _c8|    _c9| _c10|    _c11|\n",
            "+-----------+--------+------+--------------------+------+----+-----+-----+----------------+-------+-----+--------+\n",
            "|PassengerId|Survived|Pclass|                Name|   Sex| Age|SibSp|Parch|          Ticket|   Fare|Cabin|Embarked|\n",
            "|          1|       0|     3|Braund, Mr. Owen ...|  male|  22|    1|    0|       A/5 21171|   7.25| NULL|       S|\n",
            "|          2|       1|     1|Cumings, Mrs. Joh...|female|  38|    1|    0|        PC 17599|71.2833|  C85|       C|\n",
            "|          3|       1|     3|Heikkinen, Miss. ...|female|  26|    0|    0|STON/O2. 3101282|  7.925| NULL|       S|\n",
            "|          4|       1|     1|Futrelle, Mrs. Ja...|female|  35|    1|    0|          113803|   53.1| C123|       S|\n",
            "|          5|       0|     3|Allen, Mr. Willia...|  male|  35|    0|    0|          373450|   8.05| NULL|       S|\n",
            "|          6|       0|     3|    Moran, Mr. James|  male|NULL|    0|    0|          330877| 8.4583| NULL|       Q|\n",
            "|          7|       0|     1|McCarthy, Mr. Tim...|  male|  54|    0|    0|           17463|51.8625|  E46|       S|\n",
            "|          8|       0|     3|Palsson, Master. ...|  male|   2|    3|    1|          349909| 21.075| NULL|       S|\n",
            "|          9|       1|     3|Johnson, Mrs. Osc...|female|  27|    0|    2|          347742|11.1333| NULL|       S|\n",
            "|         10|       1|     2|Nasser, Mrs. Nich...|female|  14|    1|    0|          237736|30.0708| NULL|       C|\n",
            "|         11|       1|     3|Sandstrom, Miss. ...|female|   4|    1|    1|         PP 9549|   16.7|   G6|       S|\n",
            "|         12|       1|     1|Bonnell, Miss. El...|female|  58|    0|    0|          113783|  26.55| C103|       S|\n",
            "|         13|       0|     3|Saundercock, Mr. ...|  male|  20|    0|    0|       A/5. 2151|   8.05| NULL|       S|\n",
            "|         14|       0|     3|Andersson, Mr. An...|  male|  39|    1|    5|          347082| 31.275| NULL|       S|\n",
            "|         15|       0|     3|Vestrom, Miss. Hu...|female|  14|    0|    0|          350406| 7.8542| NULL|       S|\n",
            "|         16|       1|     2|Hewlett, Mrs. (Ma...|female|  55|    0|    0|          248706|     16| NULL|       S|\n",
            "|         17|       0|     3|Rice, Master. Eugene|  male|   2|    4|    1|          382652| 29.125| NULL|       Q|\n",
            "|         18|       1|     2|Williams, Mr. Cha...|  male|NULL|    0|    0|          244373|     13| NULL|       S|\n",
            "|         19|       0|     3|Vander Planke, Mr...|female|  31|    1|    0|          345763|     18| NULL|       S|\n",
            "+-----------+--------+------+--------------------+------+----+-----+-----+----------------+-------+-----+--------+\n",
            "only showing top 20 rows\n",
            "\n"
          ]
        }
      ]
    },
    {
      "cell_type": "markdown",
      "source": [
        "lets make correct header"
      ],
      "metadata": {
        "id": "uPOzBJb-NldU"
      }
    },
    {
      "cell_type": "code",
      "source": [
        "df2 = spark.read.option('header', True).csv(\"/content/drive/MyDrive/data_practices/pandas/data/titanic.csv\")\n",
        "df2.printSchema()\n",
        "df2.show()"
      ],
      "metadata": {
        "colab": {
          "base_uri": "https://localhost:8080/"
        },
        "id": "BEWKMMn7Nk57",
        "outputId": "1f1c0a2d-40b1-4da5-f88d-33cb65f1147a"
      },
      "execution_count": null,
      "outputs": [
        {
          "output_type": "stream",
          "name": "stdout",
          "text": [
            "root\n",
            " |-- PassengerId: string (nullable = true)\n",
            " |-- Survived: string (nullable = true)\n",
            " |-- Pclass: string (nullable = true)\n",
            " |-- Name: string (nullable = true)\n",
            " |-- Sex: string (nullable = true)\n",
            " |-- Age: string (nullable = true)\n",
            " |-- SibSp: string (nullable = true)\n",
            " |-- Parch: string (nullable = true)\n",
            " |-- Ticket: string (nullable = true)\n",
            " |-- Fare: string (nullable = true)\n",
            " |-- Cabin: string (nullable = true)\n",
            " |-- Embarked: string (nullable = true)\n",
            "\n",
            "+-----------+--------+------+--------------------+------+----+-----+-----+----------------+-------+-----+--------+\n",
            "|PassengerId|Survived|Pclass|                Name|   Sex| Age|SibSp|Parch|          Ticket|   Fare|Cabin|Embarked|\n",
            "+-----------+--------+------+--------------------+------+----+-----+-----+----------------+-------+-----+--------+\n",
            "|          1|       0|     3|Braund, Mr. Owen ...|  male|  22|    1|    0|       A/5 21171|   7.25| NULL|       S|\n",
            "|          2|       1|     1|Cumings, Mrs. Joh...|female|  38|    1|    0|        PC 17599|71.2833|  C85|       C|\n",
            "|          3|       1|     3|Heikkinen, Miss. ...|female|  26|    0|    0|STON/O2. 3101282|  7.925| NULL|       S|\n",
            "|          4|       1|     1|Futrelle, Mrs. Ja...|female|  35|    1|    0|          113803|   53.1| C123|       S|\n",
            "|          5|       0|     3|Allen, Mr. Willia...|  male|  35|    0|    0|          373450|   8.05| NULL|       S|\n",
            "|          6|       0|     3|    Moran, Mr. James|  male|NULL|    0|    0|          330877| 8.4583| NULL|       Q|\n",
            "|          7|       0|     1|McCarthy, Mr. Tim...|  male|  54|    0|    0|           17463|51.8625|  E46|       S|\n",
            "|          8|       0|     3|Palsson, Master. ...|  male|   2|    3|    1|          349909| 21.075| NULL|       S|\n",
            "|          9|       1|     3|Johnson, Mrs. Osc...|female|  27|    0|    2|          347742|11.1333| NULL|       S|\n",
            "|         10|       1|     2|Nasser, Mrs. Nich...|female|  14|    1|    0|          237736|30.0708| NULL|       C|\n",
            "|         11|       1|     3|Sandstrom, Miss. ...|female|   4|    1|    1|         PP 9549|   16.7|   G6|       S|\n",
            "|         12|       1|     1|Bonnell, Miss. El...|female|  58|    0|    0|          113783|  26.55| C103|       S|\n",
            "|         13|       0|     3|Saundercock, Mr. ...|  male|  20|    0|    0|       A/5. 2151|   8.05| NULL|       S|\n",
            "|         14|       0|     3|Andersson, Mr. An...|  male|  39|    1|    5|          347082| 31.275| NULL|       S|\n",
            "|         15|       0|     3|Vestrom, Miss. Hu...|female|  14|    0|    0|          350406| 7.8542| NULL|       S|\n",
            "|         16|       1|     2|Hewlett, Mrs. (Ma...|female|  55|    0|    0|          248706|     16| NULL|       S|\n",
            "|         17|       0|     3|Rice, Master. Eugene|  male|   2|    4|    1|          382652| 29.125| NULL|       Q|\n",
            "|         18|       1|     2|Williams, Mr. Cha...|  male|NULL|    0|    0|          244373|     13| NULL|       S|\n",
            "|         19|       0|     3|Vander Planke, Mr...|female|  31|    1|    0|          345763|     18| NULL|       S|\n",
            "|         20|       1|     3|Masselmani, Mrs. ...|female|NULL|    0|    0|            2649|  7.225| NULL|       C|\n",
            "+-----------+--------+------+--------------------+------+----+-----+-----+----------------+-------+-----+--------+\n",
            "only showing top 20 rows\n",
            "\n"
          ]
        }
      ]
    },
    {
      "cell_type": "markdown",
      "source": [
        "**Read Multiple CSV Files**"
      ],
      "metadata": {
        "id": "djDJDEcmOXSA"
      }
    },
    {
      "cell_type": "code",
      "source": [
        "mul_df = spark.read.option('header',True).csv([\"/content/drive/MyDrive/data_practices/pandas/data/titanic.csv\" , \"/content/drive/MyDrive/data_practices/pandas/data/air_quality_no2_long.csv\"] )\n",
        "mul_df.printSchema()\n",
        "mul_df.show()"
      ],
      "metadata": {
        "colab": {
          "base_uri": "https://localhost:8080/"
        },
        "id": "4oSkObFvNdKo",
        "outputId": "dda41924-ac53-4fcf-9972-3d112cbeb863"
      },
      "execution_count": null,
      "outputs": [
        {
          "output_type": "stream",
          "name": "stdout",
          "text": [
            "root\n",
            " |-- city: string (nullable = true)\n",
            " |-- country: string (nullable = true)\n",
            " |-- date.utc: string (nullable = true)\n",
            " |-- location: string (nullable = true)\n",
            " |-- parameter: string (nullable = true)\n",
            " |-- value: string (nullable = true)\n",
            " |-- unit: string (nullable = true)\n",
            "\n",
            "+-----+-------+--------------------+--------+---------+-----+-----+\n",
            "| city|country|            date.utc|location|parameter|value| unit|\n",
            "+-----+-------+--------------------+--------+---------+-----+-----+\n",
            "|Paris|     FR|2019-06-21 00:00:...| FR04014|      no2| 20.0|µg/m³|\n",
            "|Paris|     FR|2019-06-20 23:00:...| FR04014|      no2| 21.8|µg/m³|\n",
            "|Paris|     FR|2019-06-20 22:00:...| FR04014|      no2| 26.5|µg/m³|\n",
            "|Paris|     FR|2019-06-20 21:00:...| FR04014|      no2| 24.9|µg/m³|\n",
            "|Paris|     FR|2019-06-20 20:00:...| FR04014|      no2| 21.4|µg/m³|\n",
            "|Paris|     FR|2019-06-20 19:00:...| FR04014|      no2| 25.3|µg/m³|\n",
            "|Paris|     FR|2019-06-20 18:00:...| FR04014|      no2| 23.9|µg/m³|\n",
            "|Paris|     FR|2019-06-20 17:00:...| FR04014|      no2| 23.2|µg/m³|\n",
            "|Paris|     FR|2019-06-20 16:00:...| FR04014|      no2| 19.0|µg/m³|\n",
            "|Paris|     FR|2019-06-20 15:00:...| FR04014|      no2| 19.3|µg/m³|\n",
            "|Paris|     FR|2019-06-20 14:00:...| FR04014|      no2| 20.1|µg/m³|\n",
            "|Paris|     FR|2019-06-20 13:00:...| FR04014|      no2| 19.4|µg/m³|\n",
            "|Paris|     FR|2019-06-19 10:00:...| FR04014|      no2| 26.6|µg/m³|\n",
            "|Paris|     FR|2019-06-19 09:00:...| FR04014|      no2| 27.3|µg/m³|\n",
            "|Paris|     FR|2019-06-18 22:00:...| FR04014|      no2| 39.3|µg/m³|\n",
            "|Paris|     FR|2019-06-18 21:00:...| FR04014|      no2| 23.1|µg/m³|\n",
            "|Paris|     FR|2019-06-18 20:00:...| FR04014|      no2| 17.0|µg/m³|\n",
            "|Paris|     FR|2019-06-18 19:00:...| FR04014|      no2| 15.3|µg/m³|\n",
            "|Paris|     FR|2019-06-18 08:00:...| FR04014|      no2| 49.6|µg/m³|\n",
            "|Paris|     FR|2019-06-18 07:00:...| FR04014|      no2| 52.6|µg/m³|\n",
            "+-----+-------+--------------------+--------+---------+-----+-----+\n",
            "only showing top 20 rows\n",
            "\n"
          ]
        }
      ]
    },
    {
      "cell_type": "code",
      "source": [
        "df = spark.read.csv(\"/content/drive/MyDrive/data_practices/pandas/data\")\n",
        "df.printSchema()\n",
        "df.show()"
      ],
      "metadata": {
        "colab": {
          "base_uri": "https://localhost:8080/"
        },
        "id": "i1TYDPLMOpAv",
        "outputId": "8f50cd03-514e-45f9-d938-24221a40f0d4"
      },
      "execution_count": null,
      "outputs": [
        {
          "output_type": "stream",
          "name": "stdout",
          "text": [
            "root\n",
            " |-- _c0: string (nullable = true)\n",
            " |-- _c1: string (nullable = true)\n",
            " |-- _c2: string (nullable = true)\n",
            " |-- _c3: string (nullable = true)\n",
            " |-- _c4: string (nullable = true)\n",
            " |-- _c5: string (nullable = true)\n",
            " |-- _c6: string (nullable = true)\n",
            "\n",
            "+---------+-------+--------------------+--------+---------+-----+-----+\n",
            "|      _c0|    _c1|                 _c2|     _c3|      _c4|  _c5|  _c6|\n",
            "+---------+-------+--------------------+--------+---------+-----+-----+\n",
            "|     city|country|            date.utc|location|parameter|value| unit|\n",
            "|Antwerpen|     BE|2019-06-18 06:00:...| BETR801|     pm25| 18.0|µg/m³|\n",
            "|Antwerpen|     BE|2019-06-17 08:00:...| BETR801|     pm25|  6.5|µg/m³|\n",
            "|Antwerpen|     BE|2019-06-17 07:00:...| BETR801|     pm25| 18.5|µg/m³|\n",
            "|Antwerpen|     BE|2019-06-17 06:00:...| BETR801|     pm25| 16.0|µg/m³|\n",
            "|Antwerpen|     BE|2019-06-17 05:00:...| BETR801|     pm25|  7.5|µg/m³|\n",
            "|Antwerpen|     BE|2019-06-17 04:00:...| BETR801|     pm25|  7.5|µg/m³|\n",
            "|Antwerpen|     BE|2019-06-17 03:00:...| BETR801|     pm25|  7.0|µg/m³|\n",
            "|Antwerpen|     BE|2019-06-17 02:00:...| BETR801|     pm25|  7.0|µg/m³|\n",
            "|Antwerpen|     BE|2019-06-17 01:00:...| BETR801|     pm25|  8.0|µg/m³|\n",
            "|Antwerpen|     BE|2019-06-16 01:00:...| BETR801|     pm25| 15.0|µg/m³|\n",
            "|Antwerpen|     BE|2019-06-15 01:00:...| BETR801|     pm25| 11.0|µg/m³|\n",
            "|Antwerpen|     BE|2019-06-14 09:00:...| BETR801|     pm25| 12.0|µg/m³|\n",
            "|Antwerpen|     BE|2019-06-13 01:00:...| BETR801|     pm25|  3.0|µg/m³|\n",
            "|Antwerpen|     BE|2019-06-12 01:00:...| BETR801|     pm25| 16.0|µg/m³|\n",
            "|Antwerpen|     BE|2019-06-11 01:00:...| BETR801|     pm25|  3.5|µg/m³|\n",
            "|Antwerpen|     BE|2019-06-10 01:00:...| BETR801|     pm25|  8.5|µg/m³|\n",
            "|Antwerpen|     BE|2019-06-09 01:00:...| BETR801|     pm25|  6.0|µg/m³|\n",
            "|Antwerpen|     BE|2019-06-08 01:00:...| BETR801|     pm25|  6.5|µg/m³|\n",
            "|Antwerpen|     BE|2019-06-06 01:00:...| BETR801|     pm25|  6.5|µg/m³|\n",
            "+---------+-------+--------------------+--------+---------+-----+-----+\n",
            "only showing top 20 rows\n",
            "\n"
          ]
        }
      ]
    },
    {
      "cell_type": "code",
      "source": [
        "df3 = spark.read.options(delimiter=',').csv(\"/content/drive/MyDrive/data_practices/pandas/data/titanic.csv\")\n",
        "df3.printSchema()\n",
        "df3.show(truncate=False)"
      ],
      "metadata": {
        "colab": {
          "base_uri": "https://localhost:8080/"
        },
        "id": "rTfO7w9QSvPB",
        "outputId": "5da8a1f8-a3eb-46f6-d011-c0f20cf4fdaf"
      },
      "execution_count": null,
      "outputs": [
        {
          "output_type": "stream",
          "name": "stdout",
          "text": [
            "root\n",
            " |-- _c0: string (nullable = true)\n",
            " |-- _c1: string (nullable = true)\n",
            " |-- _c2: string (nullable = true)\n",
            " |-- _c3: string (nullable = true)\n",
            " |-- _c4: string (nullable = true)\n",
            " |-- _c5: string (nullable = true)\n",
            " |-- _c6: string (nullable = true)\n",
            " |-- _c7: string (nullable = true)\n",
            " |-- _c8: string (nullable = true)\n",
            " |-- _c9: string (nullable = true)\n",
            " |-- _c10: string (nullable = true)\n",
            " |-- _c11: string (nullable = true)\n",
            "\n",
            "+-----------+--------+------+-------------------------------------------------------+------+----+-----+-----+----------------+-------+-----+--------+\n",
            "|_c0        |_c1     |_c2   |_c3                                                    |_c4   |_c5 |_c6  |_c7  |_c8             |_c9    |_c10 |_c11    |\n",
            "+-----------+--------+------+-------------------------------------------------------+------+----+-----+-----+----------------+-------+-----+--------+\n",
            "|PassengerId|Survived|Pclass|Name                                                   |Sex   |Age |SibSp|Parch|Ticket          |Fare   |Cabin|Embarked|\n",
            "|1          |0       |3     |Braund, Mr. Owen Harris                                |male  |22  |1    |0    |A/5 21171       |7.25   |NULL |S       |\n",
            "|2          |1       |1     |Cumings, Mrs. John Bradley (Florence Briggs Thayer)    |female|38  |1    |0    |PC 17599        |71.2833|C85  |C       |\n",
            "|3          |1       |3     |Heikkinen, Miss. Laina                                 |female|26  |0    |0    |STON/O2. 3101282|7.925  |NULL |S       |\n",
            "|4          |1       |1     |Futrelle, Mrs. Jacques Heath (Lily May Peel)           |female|35  |1    |0    |113803          |53.1   |C123 |S       |\n",
            "|5          |0       |3     |Allen, Mr. William Henry                               |male  |35  |0    |0    |373450          |8.05   |NULL |S       |\n",
            "|6          |0       |3     |Moran, Mr. James                                       |male  |NULL|0    |0    |330877          |8.4583 |NULL |Q       |\n",
            "|7          |0       |1     |McCarthy, Mr. Timothy J                                |male  |54  |0    |0    |17463           |51.8625|E46  |S       |\n",
            "|8          |0       |3     |Palsson, Master. Gosta Leonard                         |male  |2   |3    |1    |349909          |21.075 |NULL |S       |\n",
            "|9          |1       |3     |Johnson, Mrs. Oscar W (Elisabeth Vilhelmina Berg)      |female|27  |0    |2    |347742          |11.1333|NULL |S       |\n",
            "|10         |1       |2     |Nasser, Mrs. Nicholas (Adele Achem)                    |female|14  |1    |0    |237736          |30.0708|NULL |C       |\n",
            "|11         |1       |3     |Sandstrom, Miss. Marguerite Rut                        |female|4   |1    |1    |PP 9549         |16.7   |G6   |S       |\n",
            "|12         |1       |1     |Bonnell, Miss. Elizabeth                               |female|58  |0    |0    |113783          |26.55  |C103 |S       |\n",
            "|13         |0       |3     |Saundercock, Mr. William Henry                         |male  |20  |0    |0    |A/5. 2151       |8.05   |NULL |S       |\n",
            "|14         |0       |3     |Andersson, Mr. Anders Johan                            |male  |39  |1    |5    |347082          |31.275 |NULL |S       |\n",
            "|15         |0       |3     |Vestrom, Miss. Hulda Amanda Adolfina                   |female|14  |0    |0    |350406          |7.8542 |NULL |S       |\n",
            "|16         |1       |2     |Hewlett, Mrs. (Mary D Kingcome)                        |female|55  |0    |0    |248706          |16     |NULL |S       |\n",
            "|17         |0       |3     |Rice, Master. Eugene                                   |male  |2   |4    |1    |382652          |29.125 |NULL |Q       |\n",
            "|18         |1       |2     |Williams, Mr. Charles Eugene                           |male  |NULL|0    |0    |244373          |13     |NULL |S       |\n",
            "|19         |0       |3     |Vander Planke, Mrs. Julius (Emelia Maria Vandemoortele)|female|31  |1    |0    |345763          |18     |NULL |S       |\n",
            "+-----------+--------+------+-------------------------------------------------------+------+----+-----+-----+----------------+-------+-----+--------+\n",
            "only showing top 20 rows\n",
            "\n"
          ]
        }
      ]
    },
    {
      "cell_type": "code",
      "source": [
        "from pyspark.sql.functions import split\n",
        "\n",
        "# Read the CSV file with the default delimiter (\",\")\n",
        "df3 = spark.read.csv(\"/content/drive/MyDrive/data_practices/pandas/data/titanic.csv\", header=True)\n",
        "\n",
        "# Split the columns based on the custom delimiter (\"++\")\n",
        "df3 = df3.select([split(col, \"|\") for col in df3.columns])\n",
        "\n",
        "# Show the DataFrame\n",
        "df3.show(truncate=False)\n"
      ],
      "metadata": {
        "colab": {
          "base_uri": "https://localhost:8080/"
        },
        "id": "fL8rV-N2UdGY",
        "outputId": "09157206-fbb1-402e-8c35-f9ab15fe40af"
      },
      "execution_count": null,
      "outputs": [
        {
          "output_type": "stream",
          "name": "stdout",
          "text": [
            "+-------------------------+----------------------+--------------------+-----------------------------------------------------------------------------------------------------------------------------------------------------------------------+--------------------+-----------------+-------------------+-------------------+--------------------------------------------------+-----------------------+-------------------+----------------------+\n",
            "|split(PassengerId, |, -1)|split(Survived, |, -1)|split(Pclass, |, -1)|split(Name, |, -1)                                                                                                                                                     |split(Sex, |, -1)   |split(Age, |, -1)|split(SibSp, |, -1)|split(Parch, |, -1)|split(Ticket, |, -1)                              |split(Fare, |, -1)     |split(Cabin, |, -1)|split(Embarked, |, -1)|\n",
            "+-------------------------+----------------------+--------------------+-----------------------------------------------------------------------------------------------------------------------------------------------------------------------+--------------------+-----------------+-------------------+-------------------+--------------------------------------------------+-----------------------+-------------------+----------------------+\n",
            "|[1, ]                    |[0, ]                 |[3, ]               |[B, r, a, u, n, d, ,,  , M, r, .,  , O, w, e, n,  , H, a, r, r, i, s, ]                                                                                                |[m, a, l, e, ]      |[2, 2, ]         |[1, ]              |[0, ]              |[A, /, 5,  , 2, 1, 1, 7, 1, ]                     |[7, ., 2, 5, ]         |NULL               |[S, ]                 |\n",
            "|[2, ]                    |[1, ]                 |[1, ]               |[C, u, m, i, n, g, s, ,,  , M, r, s, .,  , J, o, h, n,  , B, r, a, d, l, e, y,  , (, F, l, o, r, e, n, c, e,  , B, r, i, g, g, s,  , T, h, a, y, e, r, ), ]            |[f, e, m, a, l, e, ]|[3, 8, ]         |[1, ]              |[0, ]              |[P, C,  , 1, 7, 5, 9, 9, ]                        |[7, 1, ., 2, 8, 3, 3, ]|[C, 8, 5, ]        |[C, ]                 |\n",
            "|[3, ]                    |[1, ]                 |[3, ]               |[H, e, i, k, k, i, n, e, n, ,,  , M, i, s, s, .,  , L, a, i, n, a, ]                                                                                                   |[f, e, m, a, l, e, ]|[2, 6, ]         |[0, ]              |[0, ]              |[S, T, O, N, /, O, 2, .,  , 3, 1, 0, 1, 2, 8, 2, ]|[7, ., 9, 2, 5, ]      |NULL               |[S, ]                 |\n",
            "|[4, ]                    |[1, ]                 |[1, ]               |[F, u, t, r, e, l, l, e, ,,  , M, r, s, .,  , J, a, c, q, u, e, s,  , H, e, a, t, h,  , (, L, i, l, y,  , M, a, y,  , P, e, e, l, ), ]                                 |[f, e, m, a, l, e, ]|[3, 5, ]         |[1, ]              |[0, ]              |[1, 1, 3, 8, 0, 3, ]                              |[5, 3, ., 1, ]         |[C, 1, 2, 3, ]     |[S, ]                 |\n",
            "|[5, ]                    |[0, ]                 |[3, ]               |[A, l, l, e, n, ,,  , M, r, .,  , W, i, l, l, i, a, m,  , H, e, n, r, y, ]                                                                                             |[m, a, l, e, ]      |[3, 5, ]         |[0, ]              |[0, ]              |[3, 7, 3, 4, 5, 0, ]                              |[8, ., 0, 5, ]         |NULL               |[S, ]                 |\n",
            "|[6, ]                    |[0, ]                 |[3, ]               |[M, o, r, a, n, ,,  , M, r, .,  , J, a, m, e, s, ]                                                                                                                     |[m, a, l, e, ]      |NULL             |[0, ]              |[0, ]              |[3, 3, 0, 8, 7, 7, ]                              |[8, ., 4, 5, 8, 3, ]   |NULL               |[Q, ]                 |\n",
            "|[7, ]                    |[0, ]                 |[1, ]               |[M, c, C, a, r, t, h, y, ,,  , M, r, .,  , T, i, m, o, t, h, y,  , J, ]                                                                                                |[m, a, l, e, ]      |[5, 4, ]         |[0, ]              |[0, ]              |[1, 7, 4, 6, 3, ]                                 |[5, 1, ., 8, 6, 2, 5, ]|[E, 4, 6, ]        |[S, ]                 |\n",
            "|[8, ]                    |[0, ]                 |[3, ]               |[P, a, l, s, s, o, n, ,,  , M, a, s, t, e, r, .,  , G, o, s, t, a,  , L, e, o, n, a, r, d, ]                                                                           |[m, a, l, e, ]      |[2, ]            |[3, ]              |[1, ]              |[3, 4, 9, 9, 0, 9, ]                              |[2, 1, ., 0, 7, 5, ]   |NULL               |[S, ]                 |\n",
            "|[9, ]                    |[1, ]                 |[3, ]               |[J, o, h, n, s, o, n, ,,  , M, r, s, .,  , O, s, c, a, r,  , W,  , (, E, l, i, s, a, b, e, t, h,  , V, i, l, h, e, l, m, i, n, a,  , B, e, r, g, ), ]                  |[f, e, m, a, l, e, ]|[2, 7, ]         |[0, ]              |[2, ]              |[3, 4, 7, 7, 4, 2, ]                              |[1, 1, ., 1, 3, 3, 3, ]|NULL               |[S, ]                 |\n",
            "|[1, 0, ]                 |[1, ]                 |[2, ]               |[N, a, s, s, e, r, ,,  , M, r, s, .,  , N, i, c, h, o, l, a, s,  , (, A, d, e, l, e,  , A, c, h, e, m, ), ]                                                            |[f, e, m, a, l, e, ]|[1, 4, ]         |[1, ]              |[0, ]              |[2, 3, 7, 7, 3, 6, ]                              |[3, 0, ., 0, 7, 0, 8, ]|NULL               |[C, ]                 |\n",
            "|[1, 1, ]                 |[1, ]                 |[3, ]               |[S, a, n, d, s, t, r, o, m, ,,  , M, i, s, s, .,  , M, a, r, g, u, e, r, i, t, e,  , R, u, t, ]                                                                        |[f, e, m, a, l, e, ]|[4, ]            |[1, ]              |[1, ]              |[P, P,  , 9, 5, 4, 9, ]                           |[1, 6, ., 7, ]         |[G, 6, ]           |[S, ]                 |\n",
            "|[1, 2, ]                 |[1, ]                 |[1, ]               |[B, o, n, n, e, l, l, ,,  , M, i, s, s, .,  , E, l, i, z, a, b, e, t, h, ]                                                                                             |[f, e, m, a, l, e, ]|[5, 8, ]         |[0, ]              |[0, ]              |[1, 1, 3, 7, 8, 3, ]                              |[2, 6, ., 5, 5, ]      |[C, 1, 0, 3, ]     |[S, ]                 |\n",
            "|[1, 3, ]                 |[0, ]                 |[3, ]               |[S, a, u, n, d, e, r, c, o, c, k, ,,  , M, r, .,  , W, i, l, l, i, a, m,  , H, e, n, r, y, ]                                                                           |[m, a, l, e, ]      |[2, 0, ]         |[0, ]              |[0, ]              |[A, /, 5, .,  , 2, 1, 5, 1, ]                     |[8, ., 0, 5, ]         |NULL               |[S, ]                 |\n",
            "|[1, 4, ]                 |[0, ]                 |[3, ]               |[A, n, d, e, r, s, s, o, n, ,,  , M, r, .,  , A, n, d, e, r, s,  , J, o, h, a, n, ]                                                                                    |[m, a, l, e, ]      |[3, 9, ]         |[1, ]              |[5, ]              |[3, 4, 7, 0, 8, 2, ]                              |[3, 1, ., 2, 7, 5, ]   |NULL               |[S, ]                 |\n",
            "|[1, 5, ]                 |[0, ]                 |[3, ]               |[V, e, s, t, r, o, m, ,,  , M, i, s, s, .,  , H, u, l, d, a,  , A, m, a, n, d, a,  , A, d, o, l, f, i, n, a, ]                                                         |[f, e, m, a, l, e, ]|[1, 4, ]         |[0, ]              |[0, ]              |[3, 5, 0, 4, 0, 6, ]                              |[7, ., 8, 5, 4, 2, ]   |NULL               |[S, ]                 |\n",
            "|[1, 6, ]                 |[1, ]                 |[2, ]               |[H, e, w, l, e, t, t, ,,  , M, r, s, .,  , (, M, a, r, y,  , D,  , K, i, n, g, c, o, m, e, ),  , ]                                                                     |[f, e, m, a, l, e, ]|[5, 5, ]         |[0, ]              |[0, ]              |[2, 4, 8, 7, 0, 6, ]                              |[1, 6, ]               |NULL               |[S, ]                 |\n",
            "|[1, 7, ]                 |[0, ]                 |[3, ]               |[R, i, c, e, ,,  , M, a, s, t, e, r, .,  , E, u, g, e, n, e, ]                                                                                                         |[m, a, l, e, ]      |[2, ]            |[4, ]              |[1, ]              |[3, 8, 2, 6, 5, 2, ]                              |[2, 9, ., 1, 2, 5, ]   |NULL               |[Q, ]                 |\n",
            "|[1, 8, ]                 |[1, ]                 |[2, ]               |[W, i, l, l, i, a, m, s, ,,  , M, r, .,  , C, h, a, r, l, e, s,  , E, u, g, e, n, e, ]                                                                                 |[m, a, l, e, ]      |NULL             |[0, ]              |[0, ]              |[2, 4, 4, 3, 7, 3, ]                              |[1, 3, ]               |NULL               |[S, ]                 |\n",
            "|[1, 9, ]                 |[0, ]                 |[3, ]               |[V, a, n, d, e, r,  , P, l, a, n, k, e, ,,  , M, r, s, .,  , J, u, l, i, u, s,  , (, E, m, e, l, i, a,  , M, a, r, i, a,  , V, a, n, d, e, m, o, o, r, t, e, l, e, ), ]|[f, e, m, a, l, e, ]|[3, 1, ]         |[1, ]              |[0, ]              |[3, 4, 5, 7, 6, 3, ]                              |[1, 8, ]               |NULL               |[S, ]                 |\n",
            "|[2, 0, ]                 |[1, ]                 |[3, ]               |[M, a, s, s, e, l, m, a, n, i, ,,  , M, r, s, .,  , F, a, t, i, m, a, ]                                                                                                |[f, e, m, a, l, e, ]|NULL             |[0, ]              |[0, ]              |[2, 6, 4, 9, ]                                    |[7, ., 2, 2, 5, ]      |NULL               |[C, ]                 |\n",
            "+-------------------------+----------------------+--------------------+-----------------------------------------------------------------------------------------------------------------------------------------------------------------------+--------------------+-----------------+-------------------+-------------------+--------------------------------------------------+-----------------------+-------------------+----------------------+\n",
            "only showing top 20 rows\n",
            "\n"
          ]
        }
      ]
    },
    {
      "cell_type": "markdown",
      "source": [
        "**The default value set to this option is False when setting to true it automatically infers column types based on the data.**"
      ],
      "metadata": {
        "id": "G7_VFHIMXDHD"
      }
    },
    {
      "cell_type": "code",
      "source": [
        "df4 = spark.read.options(inferSchema='True',delimiter=',') \\\n",
        "  .csv(\"/content/drive/MyDrive/data_practices/pandas/data/titanic.csv\")\n"
      ],
      "metadata": {
        "id": "bMD5WBc6VrbY"
      },
      "execution_count": null,
      "outputs": []
    },
    {
      "cell_type": "markdown",
      "source": [
        "**Reading CSV files with a user-specified custom schema**"
      ],
      "metadata": {
        "id": "BEZiHSahX8WW"
      }
    },
    {
      "cell_type": "code",
      "source": [
        "schema = StructType() \\\n",
        "      .add(\"RecordNumber\",IntegerType(),True) \\\n",
        "      .add(\"Zipcode\",IntegerType(),True) \\\n",
        "      .add(\"ZipCodeType\",StringType(),True) \\\n",
        "      .add(\"City\",StringType(),True) \\\n",
        "      .add(\"State\",StringType(),True) \\\n",
        "      .add(\"LocationType\",StringType(),True) \\\n",
        "      .add(\"Lat\",DoubleType(),True) \\\n",
        "      .add(\"Long\",DoubleType(),True) \\\n",
        "      .add(\"Xaxis\",IntegerType(),True) \\\n",
        "      .add(\"Yaxis\",DoubleType(),True) \\\n",
        "      .add(\"Zaxis\",DoubleType(),True) \\\n",
        "      .add(\"WorldRegion\",StringType(),True) \\\n",
        "      .add(\"Country\",StringType(),True) \\\n",
        "      .add(\"LocationText\",StringType(),True) \\\n",
        "      .add(\"Location\",StringType(),True) \\\n",
        "      .add(\"Decommisioned\",BooleanType(),True) \\\n",
        "      .add(\"TaxReturnsFiled\",StringType(),True) \\\n",
        "      .add(\"EstimatedPopulation\",IntegerType(),True) \\\n",
        "      .add(\"TotalWages\",IntegerType(),True) \\\n",
        "      .add(\"Notes\",StringType(),True)\n",
        "\n",
        "df_with_schema = spark.read.format(\"csv\") \\\n",
        "      .option(\"header\", True) \\\n",
        "      .schema(schema) \\\n",
        "      .load(\"/content/drive/MyDrive/data_practices/pandas/data/air_quality_pm25_long.csv\")\n",
        "\n",
        "df_with_schema.show()\n",
        "df_with_schema.printSchema()"
      ],
      "metadata": {
        "colab": {
          "base_uri": "https://localhost:8080/"
        },
        "id": "8kHPjnF8XJoo",
        "outputId": "83013745-9111-4e9d-9f79-178e340d80b3"
      },
      "execution_count": null,
      "outputs": [
        {
          "output_type": "stream",
          "name": "stdout",
          "text": [
            "+------------+-------+--------------------+-------+-----+------------+----+----+-----+-----+-----+-----------+-------+------------+--------+-------------+---------------+-------------------+----------+-----+\n",
            "|RecordNumber|Zipcode|         ZipCodeType|   City|State|LocationType| Lat|Long|Xaxis|Yaxis|Zaxis|WorldRegion|Country|LocationText|Location|Decommisioned|TaxReturnsFiled|EstimatedPopulation|TotalWages|Notes|\n",
            "+------------+-------+--------------------+-------+-----+------------+----+----+-----+-----+-----+-----------+-------+------------+--------+-------------+---------------+-------------------+----------+-----+\n",
            "|        NULL|   NULL|2019-06-18 06:00:...|BETR801| pm25|        18.0|NULL|NULL| NULL| NULL| NULL|       NULL|   NULL|        NULL|    NULL|         NULL|           NULL|               NULL|      NULL| NULL|\n",
            "|        NULL|   NULL|2019-06-17 08:00:...|BETR801| pm25|         6.5|NULL|NULL| NULL| NULL| NULL|       NULL|   NULL|        NULL|    NULL|         NULL|           NULL|               NULL|      NULL| NULL|\n",
            "|        NULL|   NULL|2019-06-17 07:00:...|BETR801| pm25|        18.5|NULL|NULL| NULL| NULL| NULL|       NULL|   NULL|        NULL|    NULL|         NULL|           NULL|               NULL|      NULL| NULL|\n",
            "|        NULL|   NULL|2019-06-17 06:00:...|BETR801| pm25|        16.0|NULL|NULL| NULL| NULL| NULL|       NULL|   NULL|        NULL|    NULL|         NULL|           NULL|               NULL|      NULL| NULL|\n",
            "|        NULL|   NULL|2019-06-17 05:00:...|BETR801| pm25|         7.5|NULL|NULL| NULL| NULL| NULL|       NULL|   NULL|        NULL|    NULL|         NULL|           NULL|               NULL|      NULL| NULL|\n",
            "|        NULL|   NULL|2019-06-17 04:00:...|BETR801| pm25|         7.5|NULL|NULL| NULL| NULL| NULL|       NULL|   NULL|        NULL|    NULL|         NULL|           NULL|               NULL|      NULL| NULL|\n",
            "|        NULL|   NULL|2019-06-17 03:00:...|BETR801| pm25|         7.0|NULL|NULL| NULL| NULL| NULL|       NULL|   NULL|        NULL|    NULL|         NULL|           NULL|               NULL|      NULL| NULL|\n",
            "|        NULL|   NULL|2019-06-17 02:00:...|BETR801| pm25|         7.0|NULL|NULL| NULL| NULL| NULL|       NULL|   NULL|        NULL|    NULL|         NULL|           NULL|               NULL|      NULL| NULL|\n",
            "|        NULL|   NULL|2019-06-17 01:00:...|BETR801| pm25|         8.0|NULL|NULL| NULL| NULL| NULL|       NULL|   NULL|        NULL|    NULL|         NULL|           NULL|               NULL|      NULL| NULL|\n",
            "|        NULL|   NULL|2019-06-16 01:00:...|BETR801| pm25|        15.0|NULL|NULL| NULL| NULL| NULL|       NULL|   NULL|        NULL|    NULL|         NULL|           NULL|               NULL|      NULL| NULL|\n",
            "|        NULL|   NULL|2019-06-15 01:00:...|BETR801| pm25|        11.0|NULL|NULL| NULL| NULL| NULL|       NULL|   NULL|        NULL|    NULL|         NULL|           NULL|               NULL|      NULL| NULL|\n",
            "|        NULL|   NULL|2019-06-14 09:00:...|BETR801| pm25|        12.0|NULL|NULL| NULL| NULL| NULL|       NULL|   NULL|        NULL|    NULL|         NULL|           NULL|               NULL|      NULL| NULL|\n",
            "|        NULL|   NULL|2019-06-13 01:00:...|BETR801| pm25|         3.0|NULL|NULL| NULL| NULL| NULL|       NULL|   NULL|        NULL|    NULL|         NULL|           NULL|               NULL|      NULL| NULL|\n",
            "|        NULL|   NULL|2019-06-12 01:00:...|BETR801| pm25|        16.0|NULL|NULL| NULL| NULL| NULL|       NULL|   NULL|        NULL|    NULL|         NULL|           NULL|               NULL|      NULL| NULL|\n",
            "|        NULL|   NULL|2019-06-11 01:00:...|BETR801| pm25|         3.5|NULL|NULL| NULL| NULL| NULL|       NULL|   NULL|        NULL|    NULL|         NULL|           NULL|               NULL|      NULL| NULL|\n",
            "|        NULL|   NULL|2019-06-10 01:00:...|BETR801| pm25|         8.5|NULL|NULL| NULL| NULL| NULL|       NULL|   NULL|        NULL|    NULL|         NULL|           NULL|               NULL|      NULL| NULL|\n",
            "|        NULL|   NULL|2019-06-09 01:00:...|BETR801| pm25|         6.0|NULL|NULL| NULL| NULL| NULL|       NULL|   NULL|        NULL|    NULL|         NULL|           NULL|               NULL|      NULL| NULL|\n",
            "|        NULL|   NULL|2019-06-08 01:00:...|BETR801| pm25|         6.5|NULL|NULL| NULL| NULL| NULL|       NULL|   NULL|        NULL|    NULL|         NULL|           NULL|               NULL|      NULL| NULL|\n",
            "|        NULL|   NULL|2019-06-06 01:00:...|BETR801| pm25|         6.5|NULL|NULL| NULL| NULL| NULL|       NULL|   NULL|        NULL|    NULL|         NULL|           NULL|               NULL|      NULL| NULL|\n",
            "|        NULL|   NULL|2019-06-05 01:00:...|BETR801| pm25|        11.0|NULL|NULL| NULL| NULL| NULL|       NULL|   NULL|        NULL|    NULL|         NULL|           NULL|               NULL|      NULL| NULL|\n",
            "+------------+-------+--------------------+-------+-----+------------+----+----+-----+-----+-----+-----------+-------+------------+--------+-------------+---------------+-------------------+----------+-----+\n",
            "only showing top 20 rows\n",
            "\n",
            "root\n",
            " |-- RecordNumber: integer (nullable = true)\n",
            " |-- Zipcode: integer (nullable = true)\n",
            " |-- ZipCodeType: string (nullable = true)\n",
            " |-- City: string (nullable = true)\n",
            " |-- State: string (nullable = true)\n",
            " |-- LocationType: string (nullable = true)\n",
            " |-- Lat: double (nullable = true)\n",
            " |-- Long: double (nullable = true)\n",
            " |-- Xaxis: integer (nullable = true)\n",
            " |-- Yaxis: double (nullable = true)\n",
            " |-- Zaxis: double (nullable = true)\n",
            " |-- WorldRegion: string (nullable = true)\n",
            " |-- Country: string (nullable = true)\n",
            " |-- LocationText: string (nullable = true)\n",
            " |-- Location: string (nullable = true)\n",
            " |-- Decommisioned: boolean (nullable = true)\n",
            " |-- TaxReturnsFiled: string (nullable = true)\n",
            " |-- EstimatedPopulation: integer (nullable = true)\n",
            " |-- TotalWages: integer (nullable = true)\n",
            " |-- Notes: string (nullable = true)\n",
            "\n"
          ]
        }
      ]
    },
    {
      "cell_type": "code",
      "source": [
        "df_with_schema.write.options(header='True', delimiter=',') \\\n",
        " .csv(\"/content/drive/MyDrive/data_practices/pandas/data/air_quality_pm25_long\")"
      ],
      "metadata": {
        "id": "b7UUrRdvXbZp"
      },
      "execution_count": null,
      "outputs": []
    },
    {
      "cell_type": "code",
      "source": [
        "df_with_schema.write.mode('overwrite').csv(\"/content/drive/MyDrive/data_practices/pandas/data/air_quality_pm25_long\")"
      ],
      "metadata": {
        "id": "ZgGWn875ZXhn"
      },
      "execution_count": null,
      "outputs": []
    },
    {
      "cell_type": "code",
      "source": [
        "df_with_schema.write.option(\"header\",True) \\\n",
        " .csv(\"/content/drive/MyDrive/data_practices/pandas/data/air_quality_pm25_long\")"
      ],
      "metadata": {
        "id": "o4x6L_mLaTXJ"
      },
      "execution_count": null,
      "outputs": []
    },
    {
      "cell_type": "code",
      "source": [],
      "metadata": {
        "id": "_zH6UcliDcuT"
      },
      "execution_count": null,
      "outputs": []
    },
    {
      "cell_type": "markdown",
      "source": [
        "# **Read and Write Parquet File**"
      ],
      "metadata": {
        "id": "cMT6wtYY7Dhw"
      }
    },
    {
      "cell_type": "markdown",
      "source": [
        "Apache Parquet file is a columnar storage format available to any project in the Hadoop ecosystem, regardless of the choice of data processing framework, data model, or programming language."
      ],
      "metadata": {
        "id": "SIxO6nso74qn"
      }
    },
    {
      "cell_type": "code",
      "source": [
        "data =[(\"James \",\"\",\"Smith\",\"36636\",\"M\",3000),\n",
        "              (\"Michael \",\"Rose\",\"\",\"40288\",\"M\",4000),\n",
        "              (\"Robert \",\"\",\"Williams\",\"42114\",\"M\",4000),\n",
        "              (\"Maria \",\"Anne\",\"Jones\",\"39192\",\"F\",4000),\n",
        "              (\"Jen\",\"Mary\",\"Brown\",\"\",\"F\",-1)]\n",
        "columns=[\"firstname\",\"middlename\",\"lastname\",\"dob\",\"gender\",\"salary\"]\n",
        "df=spark.createDataFrame(data,columns)"
      ],
      "metadata": {
        "id": "56X6CYQF7ZWi"
      },
      "execution_count": 3,
      "outputs": []
    },
    {
      "cell_type": "code",
      "source": [
        "df.write.parquet(\"/content/drive/MyDrive/data_practices/pyspark/data/parquet_files_1\")"
      ],
      "metadata": {
        "id": "YIteA6vb78HU"
      },
      "execution_count": 5,
      "outputs": []
    },
    {
      "cell_type": "code",
      "source": [
        "pardf = spark.read.parquet(\"/content/drive/MyDrive/data_practices/pyspark/data/parquet_files_1\")\n",
        "pardf.show()"
      ],
      "metadata": {
        "colab": {
          "base_uri": "https://localhost:8080/"
        },
        "id": "07TIO35z8P4f",
        "outputId": "8215d294-2a53-43b4-b721-73e759b297a8"
      },
      "execution_count": 7,
      "outputs": [
        {
          "output_type": "stream",
          "name": "stdout",
          "text": [
            "+---------+----------+--------+-----+------+------+\n",
            "|firstname|middlename|lastname|  dob|gender|salary|\n",
            "+---------+----------+--------+-----+------+------+\n",
            "|  Robert |          |Williams|42114|     M|  4000|\n",
            "|   Maria |      Anne|   Jones|39192|     F|  4000|\n",
            "|      Jen|      Mary|   Brown|     |     F|    -1|\n",
            "|   James |          |   Smith|36636|     M|  3000|\n",
            "| Michael |      Rose|        |40288|     M|  4000|\n",
            "+---------+----------+--------+-----+------+------+\n",
            "\n"
          ]
        }
      ]
    },
    {
      "cell_type": "code",
      "source": [
        "df.write.mode('append').parquet(\"/content/drive/MyDrive/data_practices/pyspark/data/parquet_files_1\")\n",
        "df.write.mode('overwrite').parquet(\"/content/drive/MyDrive/data_practices/pyspark/data/parquet_files_1\")"
      ],
      "metadata": {
        "id": "mX8ycvWs8Zdp"
      },
      "execution_count": null,
      "outputs": []
    },
    {
      "cell_type": "code",
      "source": [
        "pardf.createOrReplaceTempView(\"ParquetTable\")\n"
      ],
      "metadata": {
        "id": "eYiFrJ0A80Ua"
      },
      "execution_count": 8,
      "outputs": []
    },
    {
      "cell_type": "code",
      "source": [
        "parkSQL = spark.sql(\"select * from ParquetTable where salary >= 4000 \")"
      ],
      "metadata": {
        "id": "NhsScsie83uv"
      },
      "execution_count": 9,
      "outputs": []
    },
    {
      "cell_type": "code",
      "source": [
        "df.write.partitionBy(\"gender\",\"salary\").mode(\"overwrite\").parquet(\"/content/drive/MyDrive/data_practices/pyspark/data/parquet_files_1.parquet\")\n"
      ],
      "metadata": {
        "id": "R1ciLvVC9Pl3"
      },
      "execution_count": 11,
      "outputs": []
    },
    {
      "cell_type": "code",
      "source": [
        "\n",
        "parDF2=spark.read.parquet(\"/content/drive/MyDrive/data_practices/pyspark/data/parquet_files_1.parquet/gender=M\")\n",
        "parDF2.show(truncate=False)"
      ],
      "metadata": {
        "colab": {
          "base_uri": "https://localhost:8080/"
        },
        "id": "gpiQskuw9voe",
        "outputId": "35c8ee4c-822b-474f-f803-d0c9ec810df9"
      },
      "execution_count": 12,
      "outputs": [
        {
          "output_type": "stream",
          "name": "stdout",
          "text": [
            "+---------+----------+--------+-----+------+\n",
            "|firstname|middlename|lastname|dob  |salary|\n",
            "+---------+----------+--------+-----+------+\n",
            "|Robert   |          |Williams|42114|4000  |\n",
            "|Michael  |Rose      |        |40288|4000  |\n",
            "|James    |          |Smith   |36636|3000  |\n",
            "+---------+----------+--------+-----+------+\n",
            "\n"
          ]
        }
      ]
    },
    {
      "cell_type": "code",
      "source": [
        "# Create a temporary view on partitioned Parquet file\n",
        "spark.sql(\"CREATE TEMPORARY VIEW PERSON2 USING parquet OPTIONS (path \\\"/content/drive/MyDrive/data_practices/pyspark/data/parquet_files_1.parquet/gender=F\\\")\")\n",
        "spark.sql(\"SELECT * FROM PERSON2\" ).show()"
      ],
      "metadata": {
        "colab": {
          "base_uri": "https://localhost:8080/"
        },
        "id": "WVmmcXlj92y7",
        "outputId": "6591b0c8-6569-4d9e-8fd5-cfac1710287f"
      },
      "execution_count": 13,
      "outputs": [
        {
          "output_type": "stream",
          "name": "stdout",
          "text": [
            "+---------+----------+--------+-----+------+\n",
            "|firstname|middlename|lastname|  dob|salary|\n",
            "+---------+----------+--------+-----+------+\n",
            "|   Maria |      Anne|   Jones|39192|  4000|\n",
            "|      Jen|      Mary|   Brown|     |    -1|\n",
            "+---------+----------+--------+-----+------+\n",
            "\n"
          ]
        }
      ]
    },
    {
      "cell_type": "code",
      "source": [],
      "metadata": {
        "id": "ezJLgOK5-B8V"
      },
      "execution_count": null,
      "outputs": []
    }
  ]
}