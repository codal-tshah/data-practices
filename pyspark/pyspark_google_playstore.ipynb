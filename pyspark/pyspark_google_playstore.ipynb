{
  "nbformat": 4,
  "nbformat_minor": 0,
  "metadata": {
    "colab": {
      "provenance": [],
      "mount_file_id": "1tn5mUJ5NSoA1u2sX68KCBIwenPNVsO3H",
      "authorship_tag": "ABX9TyPTYUIlWn/elpejrU0QbdUJ",
      "include_colab_link": true
    },
    "kernelspec": {
      "name": "python3",
      "display_name": "Python 3"
    },
    "language_info": {
      "name": "python"
    }
  },
  "cells": [
    {
      "cell_type": "markdown",
      "metadata": {
        "id": "view-in-github",
        "colab_type": "text"
      },
      "source": [
        "<a href=\"https://colab.research.google.com/github/codal-tshah/data-practices-2024/blob/29_apr/pyspark/pyspark_google_playstore.ipynb\" target=\"_parent\"><img src=\"https://colab.research.google.com/assets/colab-badge.svg\" alt=\"Open In Colab\"/></a>"
      ]
    },
    {
      "cell_type": "code",
      "source": [
        "!pip install pyspark"
      ],
      "metadata": {
        "colab": {
          "base_uri": "https://localhost:8080/"
        },
        "id": "XVTYQGneMm0F",
        "outputId": "54416717-cfef-40ad-cf6a-8ada415527af"
      },
      "execution_count": 1,
      "outputs": [
        {
          "output_type": "stream",
          "name": "stdout",
          "text": [
            "Collecting pyspark\n",
            "  Downloading pyspark-3.5.1.tar.gz (317.0 MB)\n",
            "\u001b[2K     \u001b[90m━━━━━━━━━━━━━━━━━━━━━━━━━━━━━━━━━━━━━━━━\u001b[0m \u001b[32m317.0/317.0 MB\u001b[0m \u001b[31m3.4 MB/s\u001b[0m eta \u001b[36m0:00:00\u001b[0m\n",
            "\u001b[?25h  Preparing metadata (setup.py) ... \u001b[?25l\u001b[?25hdone\n",
            "Requirement already satisfied: py4j==0.10.9.7 in /usr/local/lib/python3.10/dist-packages (from pyspark) (0.10.9.7)\n",
            "Building wheels for collected packages: pyspark\n",
            "  Building wheel for pyspark (setup.py) ... \u001b[?25l\u001b[?25hdone\n",
            "  Created wheel for pyspark: filename=pyspark-3.5.1-py2.py3-none-any.whl size=317488491 sha256=7f9686f003477d2d0e767fb5dbb527cb84498c332ca3e83c7bbcc1e32932f32d\n",
            "  Stored in directory: /root/.cache/pip/wheels/80/1d/60/2c256ed38dddce2fdd93be545214a63e02fbd8d74fb0b7f3a6\n",
            "Successfully built pyspark\n",
            "Installing collected packages: pyspark\n",
            "Successfully installed pyspark-3.5.1\n"
          ]
        }
      ]
    },
    {
      "cell_type": "markdown",
      "source": [
        "\n",
        "\n",
        "# *   Task to perform:\n",
        "    find out TOP 10 reviews given to the apps\n",
        "    Top paid apps\n",
        "    Top paid rating apps\n",
        "    Top 10 installs apps and distribution of type (free /paid)\n",
        "    Category wise distribution of installed apps\n",
        "    \n",
        "\n",
        "\n",
        "\n"
      ],
      "metadata": {
        "id": "AXlYMK-1ONFc"
      }
    },
    {
      "cell_type": "code",
      "execution_count": 5,
      "metadata": {
        "id": "d8rGUxViKa7_"
      },
      "outputs": [],
      "source": [
        "from pyspark.sql import *\n",
        "# from pyspark.sql.types import *\n",
        "# from pyspark.sql.functions import *\n",
        "spark = SparkSession.builder.appName(\"local.com\").getOrCreate()"
      ]
    },
    {
      "cell_type": "markdown",
      "source": [
        "**Imported CSV FILE NORMALLY**"
      ],
      "metadata": {
        "id": "gCqDcPG8QuXY"
      }
    },
    {
      "cell_type": "code",
      "source": [
        "df = spark.read.csv(\"/content/drive/MyDrive/data_practices/pyspark/data/googleplaystore.csv\")\n",
        "df.printSchema()\n",
        "df.show()"
      ],
      "metadata": {
        "colab": {
          "base_uri": "https://localhost:8080/"
        },
        "id": "vPQNWKQXPtvD",
        "outputId": "81a70294-3b21-44c0-b483-312c44c21eda"
      },
      "execution_count": 7,
      "outputs": [
        {
          "output_type": "stream",
          "name": "stdout",
          "text": [
            "root\n",
            " |-- _c0: string (nullable = true)\n",
            " |-- _c1: string (nullable = true)\n",
            " |-- _c2: string (nullable = true)\n",
            " |-- _c3: string (nullable = true)\n",
            " |-- _c4: string (nullable = true)\n",
            " |-- _c5: string (nullable = true)\n",
            " |-- _c6: string (nullable = true)\n",
            " |-- _c7: string (nullable = true)\n",
            " |-- _c8: string (nullable = true)\n",
            " |-- _c9: string (nullable = true)\n",
            " |-- _c10: string (nullable = true)\n",
            " |-- _c11: string (nullable = true)\n",
            " |-- _c12: string (nullable = true)\n",
            "\n",
            "+--------------------+--------------+------+-------+----+-----------+----+-----+--------------+--------------------+------------------+------------------+------------+\n",
            "|                 _c0|           _c1|   _c2|    _c3| _c4|        _c5| _c6|  _c7|           _c8|                 _c9|              _c10|              _c11|        _c12|\n",
            "+--------------------+--------------+------+-------+----+-----------+----+-----+--------------+--------------------+------------------+------------------+------------+\n",
            "|                 App|      Category|Rating|Reviews|Size|   Installs|Type|Price|Content Rating|              Genres|      Last Updated|       Current Ver| Android Ver|\n",
            "|Photo Editor & Ca...|ART_AND_DESIGN|   4.1|    159| 19M|    10,000+|Free|    0|      Everyone|        Art & Design|   January 7, 2018|             1.0.0|4.0.3 and up|\n",
            "| Coloring book moana|ART_AND_DESIGN|   3.9|    967| 14M|   500,000+|Free|    0|      Everyone|Art & Design;Pret...|  January 15, 2018|             2.0.0|4.0.3 and up|\n",
            "|U Launcher Lite –...|ART_AND_DESIGN|   4.7|  87510|8.7M| 5,000,000+|Free|    0|      Everyone|        Art & Design|    August 1, 2018|             1.2.4|4.0.3 and up|\n",
            "|Sketch - Draw & P...|ART_AND_DESIGN|   4.5| 215644| 25M|50,000,000+|Free|    0|          Teen|        Art & Design|      June 8, 2018|Varies with device|  4.2 and up|\n",
            "|Pixel Draw - Numb...|ART_AND_DESIGN|   4.3|    967|2.8M|   100,000+|Free|    0|      Everyone|Art & Design;Crea...|     June 20, 2018|               1.1|  4.4 and up|\n",
            "|Paper flowers ins...|ART_AND_DESIGN|   4.4|    167|5.6M|    50,000+|Free|    0|      Everyone|        Art & Design|    March 26, 2017|               1.0|  2.3 and up|\n",
            "|Smoke Effect Phot...|ART_AND_DESIGN|   3.8|    178| 19M|    50,000+|Free|    0|      Everyone|        Art & Design|    April 26, 2018|               1.1|4.0.3 and up|\n",
            "|    Infinite Painter|ART_AND_DESIGN|   4.1|  36815| 29M| 1,000,000+|Free|    0|      Everyone|        Art & Design|     June 14, 2018|          6.1.61.1|  4.2 and up|\n",
            "|Garden Coloring Book|ART_AND_DESIGN|   4.4|  13791| 33M| 1,000,000+|Free|    0|      Everyone|        Art & Design|September 20, 2017|             2.9.2|  3.0 and up|\n",
            "|Kids Paint Free -...|ART_AND_DESIGN|   4.7|    121|3.1M|    10,000+|Free|    0|      Everyone|Art & Design;Crea...|      July 3, 2018|               2.8|4.0.3 and up|\n",
            "|Text on Photo - F...|ART_AND_DESIGN|   4.4|  13880| 28M| 1,000,000+|Free|    0|      Everyone|        Art & Design|  October 27, 2017|             1.0.4|  4.1 and up|\n",
            "|Name Art Photo Ed...|ART_AND_DESIGN|   4.4|   8788| 12M| 1,000,000+|Free|    0|      Everyone|        Art & Design|     July 31, 2018|            1.0.15|  4.0 and up|\n",
            "|Tattoo Name On My...|ART_AND_DESIGN|   4.2|  44829| 20M|10,000,000+|Free|    0|          Teen|        Art & Design|     April 2, 2018|               3.8|  4.1 and up|\n",
            "|Mandala Coloring ...|ART_AND_DESIGN|   4.6|   4326| 21M|   100,000+|Free|    0|      Everyone|        Art & Design|     June 26, 2018|             1.0.4|  4.4 and up|\n",
            "|3D Color Pixel by...|ART_AND_DESIGN|   4.4|   1518| 37M|   100,000+|Free|    0|      Everyone|        Art & Design|    August 3, 2018|             1.2.3|  2.3 and up|\n",
            "|Learn To Draw Kaw...|ART_AND_DESIGN|   3.2|     55|2.7M|     5,000+|Free|    0|      Everyone|        Art & Design|      June 6, 2018|               NaN|  4.2 and up|\n",
            "|Photo Designer - ...|ART_AND_DESIGN|   4.7|   3632|5.5M|   500,000+|Free|    0|      Everyone|        Art & Design|     July 31, 2018|               3.1|  4.1 and up|\n",
            "|350 Diy Room Deco...|ART_AND_DESIGN|   4.5|     27| 17M|    10,000+|Free|    0|      Everyone|        Art & Design|  November 7, 2017|               1.0|  2.3 and up|\n",
            "|FlipaClip - Carto...|ART_AND_DESIGN|   4.3| 194216| 39M| 5,000,000+|Free|    0|      Everyone|        Art & Design|    August 3, 2018|             2.2.5|4.0.3 and up|\n",
            "+--------------------+--------------+------+-------+----+-----------+----+-----+--------------+--------------------+------------------+------------------+------------+\n",
            "only showing top 20 rows\n",
            "\n"
          ]
        }
      ]
    },
    {
      "cell_type": "markdown",
      "source": [
        "**Creating DataFrame from CSV**"
      ],
      "metadata": {
        "id": "g9SvrpqHQyRz"
      }
    },
    {
      "cell_type": "code",
      "source": [
        "from html import escape\n",
        "df = spark.read.load(\"/content/drive/MyDrive/data_practices/pyspark/data/googleplaystore.csv\",format=\"csv\",sep=\",\",escape='\"' ,header=True,inferschema='true')"
      ],
      "metadata": {
        "id": "m3wIIwMzQg8O"
      },
      "execution_count": 12,
      "outputs": []
    },
    {
      "cell_type": "code",
      "source": [
        "df.printSchema()\n",
        "df.show()"
      ],
      "metadata": {
        "colab": {
          "base_uri": "https://localhost:8080/"
        },
        "id": "f9LonGf3RIIF",
        "outputId": "bed77693-6543-4211-df39-99553f188d2a"
      },
      "execution_count": 13,
      "outputs": [
        {
          "output_type": "stream",
          "name": "stdout",
          "text": [
            "root\n",
            " |-- App: string (nullable = true)\n",
            " |-- Category: string (nullable = true)\n",
            " |-- Rating: double (nullable = true)\n",
            " |-- Reviews: string (nullable = true)\n",
            " |-- Size: string (nullable = true)\n",
            " |-- Installs: string (nullable = true)\n",
            " |-- Type: string (nullable = true)\n",
            " |-- Price: string (nullable = true)\n",
            " |-- Content Rating: string (nullable = true)\n",
            " |-- Genres: string (nullable = true)\n",
            " |-- Last Updated: string (nullable = true)\n",
            " |-- Current Ver: string (nullable = true)\n",
            " |-- Android Ver: string (nullable = true)\n",
            "\n",
            "+--------------------+--------------+------+-------+----+-----------+----+-----+--------------+--------------------+------------------+------------------+------------+\n",
            "|                 App|      Category|Rating|Reviews|Size|   Installs|Type|Price|Content Rating|              Genres|      Last Updated|       Current Ver| Android Ver|\n",
            "+--------------------+--------------+------+-------+----+-----------+----+-----+--------------+--------------------+------------------+------------------+------------+\n",
            "|Photo Editor & Ca...|ART_AND_DESIGN|   4.1|    159| 19M|    10,000+|Free|    0|      Everyone|        Art & Design|   January 7, 2018|             1.0.0|4.0.3 and up|\n",
            "| Coloring book moana|ART_AND_DESIGN|   3.9|    967| 14M|   500,000+|Free|    0|      Everyone|Art & Design;Pret...|  January 15, 2018|             2.0.0|4.0.3 and up|\n",
            "|U Launcher Lite –...|ART_AND_DESIGN|   4.7|  87510|8.7M| 5,000,000+|Free|    0|      Everyone|        Art & Design|    August 1, 2018|             1.2.4|4.0.3 and up|\n",
            "|Sketch - Draw & P...|ART_AND_DESIGN|   4.5| 215644| 25M|50,000,000+|Free|    0|          Teen|        Art & Design|      June 8, 2018|Varies with device|  4.2 and up|\n",
            "|Pixel Draw - Numb...|ART_AND_DESIGN|   4.3|    967|2.8M|   100,000+|Free|    0|      Everyone|Art & Design;Crea...|     June 20, 2018|               1.1|  4.4 and up|\n",
            "|Paper flowers ins...|ART_AND_DESIGN|   4.4|    167|5.6M|    50,000+|Free|    0|      Everyone|        Art & Design|    March 26, 2017|               1.0|  2.3 and up|\n",
            "|Smoke Effect Phot...|ART_AND_DESIGN|   3.8|    178| 19M|    50,000+|Free|    0|      Everyone|        Art & Design|    April 26, 2018|               1.1|4.0.3 and up|\n",
            "|    Infinite Painter|ART_AND_DESIGN|   4.1|  36815| 29M| 1,000,000+|Free|    0|      Everyone|        Art & Design|     June 14, 2018|          6.1.61.1|  4.2 and up|\n",
            "|Garden Coloring Book|ART_AND_DESIGN|   4.4|  13791| 33M| 1,000,000+|Free|    0|      Everyone|        Art & Design|September 20, 2017|             2.9.2|  3.0 and up|\n",
            "|Kids Paint Free -...|ART_AND_DESIGN|   4.7|    121|3.1M|    10,000+|Free|    0|      Everyone|Art & Design;Crea...|      July 3, 2018|               2.8|4.0.3 and up|\n",
            "|Text on Photo - F...|ART_AND_DESIGN|   4.4|  13880| 28M| 1,000,000+|Free|    0|      Everyone|        Art & Design|  October 27, 2017|             1.0.4|  4.1 and up|\n",
            "|Name Art Photo Ed...|ART_AND_DESIGN|   4.4|   8788| 12M| 1,000,000+|Free|    0|      Everyone|        Art & Design|     July 31, 2018|            1.0.15|  4.0 and up|\n",
            "|Tattoo Name On My...|ART_AND_DESIGN|   4.2|  44829| 20M|10,000,000+|Free|    0|          Teen|        Art & Design|     April 2, 2018|               3.8|  4.1 and up|\n",
            "|Mandala Coloring ...|ART_AND_DESIGN|   4.6|   4326| 21M|   100,000+|Free|    0|      Everyone|        Art & Design|     June 26, 2018|             1.0.4|  4.4 and up|\n",
            "|3D Color Pixel by...|ART_AND_DESIGN|   4.4|   1518| 37M|   100,000+|Free|    0|      Everyone|        Art & Design|    August 3, 2018|             1.2.3|  2.3 and up|\n",
            "|Learn To Draw Kaw...|ART_AND_DESIGN|   3.2|     55|2.7M|     5,000+|Free|    0|      Everyone|        Art & Design|      June 6, 2018|               NaN|  4.2 and up|\n",
            "|Photo Designer - ...|ART_AND_DESIGN|   4.7|   3632|5.5M|   500,000+|Free|    0|      Everyone|        Art & Design|     July 31, 2018|               3.1|  4.1 and up|\n",
            "|350 Diy Room Deco...|ART_AND_DESIGN|   4.5|     27| 17M|    10,000+|Free|    0|      Everyone|        Art & Design|  November 7, 2017|               1.0|  2.3 and up|\n",
            "|FlipaClip - Carto...|ART_AND_DESIGN|   4.3| 194216| 39M| 5,000,000+|Free|    0|      Everyone|        Art & Design|    August 3, 2018|             2.2.5|4.0.3 and up|\n",
            "|        ibis Paint X|ART_AND_DESIGN|   4.6| 224399| 31M|10,000,000+|Free|    0|      Everyone|        Art & Design|     July 30, 2018|             5.5.4|  4.1 and up|\n",
            "+--------------------+--------------+------+-------+----+-----------+----+-----+--------------+--------------------+------------------+------------------+------------+\n",
            "only showing top 20 rows\n",
            "\n"
          ]
        }
      ]
    },
    {
      "cell_type": "markdown",
      "source": [
        "count of rows"
      ],
      "metadata": {
        "id": "-bjqG5FVZd_c"
      }
    },
    {
      "cell_type": "code",
      "source": [
        "df.count()"
      ],
      "metadata": {
        "colab": {
          "base_uri": "https://localhost:8080/"
        },
        "id": "o0SCYiVGRLkS",
        "outputId": "d01741f0-ac15-41b8-a6d1-fb3599131d9a"
      },
      "execution_count": 34,
      "outputs": [
        {
          "output_type": "execute_result",
          "data": {
            "text/plain": [
              "10841"
            ]
          },
          "metadata": {},
          "execution_count": 34
        }
      ]
    },
    {
      "cell_type": "code",
      "source": [
        "len(df.columns)"
      ],
      "metadata": {
        "colab": {
          "base_uri": "https://localhost:8080/"
        },
        "id": "FY-Kl2V6Yg1N",
        "outputId": "aedcf622-a50d-40de-c6bc-8de833f995f8"
      },
      "execution_count": 22,
      "outputs": [
        {
          "output_type": "execute_result",
          "data": {
            "text/plain": [
              "13"
            ]
          },
          "metadata": {},
          "execution_count": 22
        }
      ]
    },
    {
      "cell_type": "markdown",
      "source": [
        "# Data Understanding and Cleaning"
      ],
      "metadata": {
        "id": "YqExu0cJbC1y"
      }
    },
    {
      "cell_type": "code",
      "source": [
        "df.select([count(col(Reviews)).alias(Reviews)for Reviews in df.columns]).show()"
      ],
      "metadata": {
        "colab": {
          "base_uri": "https://localhost:8080/"
        },
        "id": "7wZwfWfYdM1q",
        "outputId": "c4795eb1-5c3a-471d-d9de-aa770f89c06e"
      },
      "execution_count": 33,
      "outputs": [
        {
          "output_type": "stream",
          "name": "stdout",
          "text": [
            "+-----+--------+------+-------+-----+--------+-----+-----+--------------+------+------------+-----------+-----------+\n",
            "|  App|Category|Rating|Reviews| Size|Installs| Type|Price|Content Rating|Genres|Last Updated|Current Ver|Android Ver|\n",
            "+-----+--------+------+-------+-----+--------+-----+-----+--------------+------+------------+-----------+-----------+\n",
            "|10841|   10841| 10841|  10841|10841|   10841|10841|10841|         10840| 10841|       10841|      10840|      10840|\n",
            "+-----+--------+------+-------+-----+--------+-----+-----+--------------+------+------------+-----------+-----------+\n",
            "\n"
          ]
        }
      ]
    },
    {
      "cell_type": "markdown",
      "source": [
        "**Remove if any null value is there in data**"
      ],
      "metadata": {
        "id": "hU5njd9vfAk5"
      }
    },
    {
      "cell_type": "code",
      "source": [
        "print(\"Number of duplicate records:\", df.count() - df.dropDuplicates().count())"
      ],
      "metadata": {
        "colab": {
          "base_uri": "https://localhost:8080/"
        },
        "id": "jqRCdf0cm1uD",
        "outputId": "27055b6a-50eb-43e2-c647-692c4eaff824"
      },
      "execution_count": 87,
      "outputs": [
        {
          "output_type": "stream",
          "name": "stdout",
          "text": [
            "Number of duplicate records: 483\n"
          ]
        }
      ]
    },
    {
      "cell_type": "markdown",
      "source": [
        "**Remove some unnecessary columns**"
      ],
      "metadata": {
        "id": "UvHWo3SybFas"
      }
    },
    {
      "cell_type": "code",
      "source": [
        "df1 = df.drop('Size','Last Updated', 'Current Ver', 'Android Ver' )\n",
        "df1.printSchema()\n",
        "df1.show()"
      ],
      "metadata": {
        "colab": {
          "base_uri": "https://localhost:8080/"
        },
        "id": "el3ZmgnIef23",
        "outputId": "8c7652d7-ddcb-4c93-9f7a-c26b46a7bf06"
      },
      "execution_count": 201,
      "outputs": [
        {
          "output_type": "stream",
          "name": "stdout",
          "text": [
            "root\n",
            " |-- App: string (nullable = true)\n",
            " |-- Category: string (nullable = true)\n",
            " |-- Rating: double (nullable = true)\n",
            " |-- Reviews: string (nullable = true)\n",
            " |-- Installs: string (nullable = true)\n",
            " |-- Type: string (nullable = true)\n",
            " |-- Price: string (nullable = true)\n",
            " |-- Content Rating: string (nullable = true)\n",
            " |-- Genres: string (nullable = true)\n",
            "\n",
            "+--------------------+--------------+------+-------+-----------+----+-----+--------------+--------------------+\n",
            "|                 App|      Category|Rating|Reviews|   Installs|Type|Price|Content Rating|              Genres|\n",
            "+--------------------+--------------+------+-------+-----------+----+-----+--------------+--------------------+\n",
            "|Photo Editor & Ca...|ART_AND_DESIGN|   4.1|    159|    10,000+|Free|    0|      Everyone|        Art & Design|\n",
            "| Coloring book moana|ART_AND_DESIGN|   3.9|    967|   500,000+|Free|    0|      Everyone|Art & Design;Pret...|\n",
            "|U Launcher Lite –...|ART_AND_DESIGN|   4.7|  87510| 5,000,000+|Free|    0|      Everyone|        Art & Design|\n",
            "|Sketch - Draw & P...|ART_AND_DESIGN|   4.5| 215644|50,000,000+|Free|    0|          Teen|        Art & Design|\n",
            "|Pixel Draw - Numb...|ART_AND_DESIGN|   4.3|    967|   100,000+|Free|    0|      Everyone|Art & Design;Crea...|\n",
            "|Paper flowers ins...|ART_AND_DESIGN|   4.4|    167|    50,000+|Free|    0|      Everyone|        Art & Design|\n",
            "|Smoke Effect Phot...|ART_AND_DESIGN|   3.8|    178|    50,000+|Free|    0|      Everyone|        Art & Design|\n",
            "|    Infinite Painter|ART_AND_DESIGN|   4.1|  36815| 1,000,000+|Free|    0|      Everyone|        Art & Design|\n",
            "|Garden Coloring Book|ART_AND_DESIGN|   4.4|  13791| 1,000,000+|Free|    0|      Everyone|        Art & Design|\n",
            "|Kids Paint Free -...|ART_AND_DESIGN|   4.7|    121|    10,000+|Free|    0|      Everyone|Art & Design;Crea...|\n",
            "|Text on Photo - F...|ART_AND_DESIGN|   4.4|  13880| 1,000,000+|Free|    0|      Everyone|        Art & Design|\n",
            "|Name Art Photo Ed...|ART_AND_DESIGN|   4.4|   8788| 1,000,000+|Free|    0|      Everyone|        Art & Design|\n",
            "|Tattoo Name On My...|ART_AND_DESIGN|   4.2|  44829|10,000,000+|Free|    0|          Teen|        Art & Design|\n",
            "|Mandala Coloring ...|ART_AND_DESIGN|   4.6|   4326|   100,000+|Free|    0|      Everyone|        Art & Design|\n",
            "|3D Color Pixel by...|ART_AND_DESIGN|   4.4|   1518|   100,000+|Free|    0|      Everyone|        Art & Design|\n",
            "|Learn To Draw Kaw...|ART_AND_DESIGN|   3.2|     55|     5,000+|Free|    0|      Everyone|        Art & Design|\n",
            "|Photo Designer - ...|ART_AND_DESIGN|   4.7|   3632|   500,000+|Free|    0|      Everyone|        Art & Design|\n",
            "|350 Diy Room Deco...|ART_AND_DESIGN|   4.5|     27|    10,000+|Free|    0|      Everyone|        Art & Design|\n",
            "|FlipaClip - Carto...|ART_AND_DESIGN|   4.3| 194216| 5,000,000+|Free|    0|      Everyone|        Art & Design|\n",
            "|        ibis Paint X|ART_AND_DESIGN|   4.6| 224399|10,000,000+|Free|    0|      Everyone|        Art & Design|\n",
            "+--------------------+--------------+------+-------+-----------+----+-----+--------------+--------------------+\n",
            "only showing top 20 rows\n",
            "\n"
          ]
        }
      ]
    },
    {
      "cell_type": "code",
      "source": [
        "df1.count()"
      ],
      "metadata": {
        "colab": {
          "base_uri": "https://localhost:8080/"
        },
        "id": "NKkay3VLjQE_",
        "outputId": "27209470-4467-46be-de87-604511d7ecc6"
      },
      "execution_count": 202,
      "outputs": [
        {
          "output_type": "execute_result",
          "data": {
            "text/plain": [
              "10841"
            ]
          },
          "metadata": {},
          "execution_count": 202
        }
      ]
    },
    {
      "cell_type": "code",
      "source": [
        "unique_apps_count = df1.dropDuplicates(['App']).count()\n",
        "\n",
        "# Show the count of unique apps\n",
        "print(\"Number of unique apps:\", unique_apps_count)"
      ],
      "metadata": {
        "colab": {
          "base_uri": "https://localhost:8080/"
        },
        "id": "oc2eyvWmZB3Q",
        "outputId": "cfa0cf68-b6c4-42ed-8a77-ed3a7b1edc95"
      },
      "execution_count": 203,
      "outputs": [
        {
          "output_type": "stream",
          "name": "stdout",
          "text": [
            "Number of unique apps: 9660\n"
          ]
        }
      ]
    },
    {
      "cell_type": "code",
      "source": [
        "df1 = df1.dropDuplicates()\n",
        "df1.count()"
      ],
      "metadata": {
        "colab": {
          "base_uri": "https://localhost:8080/"
        },
        "id": "SP0b9YyuqBG3",
        "outputId": "37361160-202b-4844-c034-5d1090164fed"
      },
      "execution_count": 204,
      "outputs": [
        {
          "output_type": "execute_result",
          "data": {
            "text/plain": [
              "10356"
            ]
          },
          "metadata": {},
          "execution_count": 204
        }
      ]
    },
    {
      "cell_type": "code",
      "source": [
        "df1.show()"
      ],
      "metadata": {
        "colab": {
          "base_uri": "https://localhost:8080/"
        },
        "id": "oM-qJpmqffS0",
        "outputId": "55571f4e-bb3e-41ff-cb96-e3b70e58e046"
      },
      "execution_count": 205,
      "outputs": [
        {
          "output_type": "stream",
          "name": "stdout",
          "text": [
            "+--------------------+-------------------+------+--------+--------------+----+-----+--------------+--------------------+\n",
            "|                 App|           Category|Rating| Reviews|      Installs|Type|Price|Content Rating|              Genres|\n",
            "+--------------------+-------------------+------+--------+--------------+----+-----+--------------+--------------------+\n",
            "|            Hangouts|      COMMUNICATION|   4.0| 3419249|1,000,000,000+|Free|    0|      Everyone|       Communication|\n",
            "|            Contacts|      COMMUNICATION|   4.3|   66602|   50,000,000+|Free|    0|      Everyone|       Communication|\n",
            "|BiggerCity: Chat ...|             DATING|   4.1|     923|      100,000+|Free|    0|    Mature 17+|              Dating|\n",
            "|  Domino's Pizza USA|     FOOD_AND_DRINK|   4.7| 1032935|   10,000,000+|Free|    0|      Everyone|        Food & Drink|\n",
            "|      Subway Surfers|               GAME|   4.5|27722264|1,000,000,000+|Free|    0|  Everyone 10+|              Arcade|\n",
            "|FINAL FANTASY BRA...|               GAME|   4.6|  745684|    5,000,000+|Free|    0|          Teen|        Role Playing|\n",
            "|              Granny|               GAME|   4.5| 1138239|   50,000,000+|Free|    0|          Teen|              Arcade|\n",
            "|Microsoft PowerPoint|       PRODUCTIVITY|   4.5|  618798|  100,000,000+|Free|    0|      Everyone|        Productivity|\n",
            "|My baby Game (Bal...|          PARENTING|   3.8|    3614|    1,000,000+|Free|    0|      Everyone|Parenting;Brain G...|\n",
            "|Podcast Republic ...| NEWS_AND_MAGAZINES|   4.5|   66978|    1,000,000+|Free|    0|          Teen|    News & Magazines|\n",
            "|          Temple Run|               GAME|   4.3| 4000433|  100,000,000+|Free|    0|      Everyone|              Arcade|\n",
            "|Maps - Navigate &...|   TRAVEL_AND_LOCAL|   4.3| 9231613|1,000,000,000+|Free|    0|      Everyone|      Travel & Local|\n",
            "|             Twitter| NEWS_AND_MAGAZINES|   4.3|11657972|  500,000,000+|Free|    0|    Mature 17+|    News & Magazines|\n",
            "|               FaceQ|             FAMILY|   4.4|  591411|   10,000,000+|Free|    0|          Teen|       Entertainment|\n",
            "|     Wii U Simulator|             FAMILY|   3.4|    1178|      100,000+|Free|    0|  Everyone 10+|          Simulation|\n",
            "|Phone X Launcher,...|              TOOLS|   4.2|   54063|    5,000,000+|Free|    0|      Everyone|               Tools|\n",
            "|         Z Champions|               GAME|   4.7|   96028|    1,000,000+|Free|    0|          Teen|              Arcade|\n",
            "|               Z App|          LIFESTYLE|   2.8|     405|       50,000+|Free|    0|      Everyone|           Lifestyle|\n",
            "|Angry Birds Epic RPG|             FAMILY|   4.5| 2634605|   10,000,000+|Free|    0|      Everyone|        Role Playing|\n",
            "|Ag PhD Soybean Di...|BOOKS_AND_REFERENCE|   NaN|       0|        1,000+|Free|    0|      Everyone|   Books & Reference|\n",
            "+--------------------+-------------------+------+--------+--------------+----+-----+--------------+--------------------+\n",
            "only showing top 20 rows\n",
            "\n"
          ]
        }
      ]
    },
    {
      "cell_type": "code",
      "source": [
        "df1.select(\"Category\").distinct().count()"
      ],
      "metadata": {
        "colab": {
          "base_uri": "https://localhost:8080/"
        },
        "id": "4R-0AODLkuUa",
        "outputId": "da5c9342-2997-4017-a198-d714c29866b0"
      },
      "execution_count": 206,
      "outputs": [
        {
          "output_type": "execute_result",
          "data": {
            "text/plain": [
              "34"
            ]
          },
          "metadata": {},
          "execution_count": 206
        }
      ]
    },
    {
      "cell_type": "code",
      "source": [
        "df1.select(\"Category\").distinct().show()"
      ],
      "metadata": {
        "colab": {
          "base_uri": "https://localhost:8080/"
        },
        "id": "Qx_FIR-EkkFx",
        "outputId": "edf7a212-c0e7-4d9b-dad8-6e80d3bb40f6"
      },
      "execution_count": 207,
      "outputs": [
        {
          "output_type": "stream",
          "name": "stdout",
          "text": [
            "+-------------------+\n",
            "|           Category|\n",
            "+-------------------+\n",
            "|             EVENTS|\n",
            "|             COMICS|\n",
            "|             SPORTS|\n",
            "|            WEATHER|\n",
            "|      VIDEO_PLAYERS|\n",
            "|  AUTO_AND_VEHICLES|\n",
            "|          PARENTING|\n",
            "|      ENTERTAINMENT|\n",
            "|    PERSONALIZATION|\n",
            "| HEALTH_AND_FITNESS|\n",
            "|   TRAVEL_AND_LOCAL|\n",
            "|BOOKS_AND_REFERENCE|\n",
            "|     FOOD_AND_DRINK|\n",
            "|        PHOTOGRAPHY|\n",
            "|           BUSINESS|\n",
            "|             FAMILY|\n",
            "|           SHOPPING|\n",
            "|     HOUSE_AND_HOME|\n",
            "|               GAME|\n",
            "|                1.9|\n",
            "+-------------------+\n",
            "only showing top 20 rows\n",
            "\n"
          ]
        }
      ]
    },
    {
      "cell_type": "code",
      "source": [
        "df.select('Type').distinct().show()"
      ],
      "metadata": {
        "colab": {
          "base_uri": "https://localhost:8080/"
        },
        "id": "F3ZCXJEBqzIN",
        "outputId": "2630ece9-2d53-4f2b-eb2b-d0e0712fbe9e"
      },
      "execution_count": 208,
      "outputs": [
        {
          "output_type": "stream",
          "name": "stdout",
          "text": [
            "+----+\n",
            "|Type|\n",
            "+----+\n",
            "|   0|\n",
            "| NaN|\n",
            "|Free|\n",
            "|Paid|\n",
            "+----+\n",
            "\n"
          ]
        }
      ]
    },
    {
      "cell_type": "code",
      "source": [
        "null_type = df1.filter(col('Type')=='NaN')\n",
        "null_type.show()\n",
        "zero_value = df1.filter(col('Type')==0)\n",
        "zero_value.show()\n",
        "remove_type = ['null_type', 'zero_value']\n",
        "\n"
      ],
      "metadata": {
        "colab": {
          "base_uri": "https://localhost:8080/"
        },
        "id": "zxOTQQoPt2Z2",
        "outputId": "d3d05f60-f84f-4b4f-c496-3272576b7e81"
      },
      "execution_count": 209,
      "outputs": [
        {
          "output_type": "stream",
          "name": "stdout",
          "text": [
            "+--------------------+--------+------+-------+--------+----+-----+--------------+--------+\n",
            "|                 App|Category|Rating|Reviews|Installs|Type|Price|Content Rating|  Genres|\n",
            "+--------------------+--------+------+-------+--------+----+-----+--------------+--------+\n",
            "|Command & Conquer...|  FAMILY|   NaN|      0|       0| NaN|    0|  Everyone 10+|Strategy|\n",
            "+--------------------+--------+------+-------+--------+----+-----+--------------+--------+\n",
            "\n",
            "+--------------------+--------+------+-------+--------+----+--------+--------------+-----------------+\n",
            "|                 App|Category|Rating|Reviews|Installs|Type|   Price|Content Rating|           Genres|\n",
            "+--------------------+--------+------+-------+--------+----+--------+--------------+-----------------+\n",
            "|Life Made WI-Fi T...|     1.9|  19.0|   3.0M|    Free|   0|Everyone|          NULL|February 11, 2018|\n",
            "+--------------------+--------+------+-------+--------+----+--------+--------------+-----------------+\n",
            "\n"
          ]
        }
      ]
    },
    {
      "cell_type": "markdown",
      "source": [
        "Highest number of categories apps used"
      ],
      "metadata": {
        "id": "4Zpn9XhttV1z"
      }
    },
    {
      "cell_type": "code",
      "source": [
        "df.groupBy(\"Category\").count().orderBy(col(\"count\").desc()).show(5)"
      ],
      "metadata": {
        "colab": {
          "base_uri": "https://localhost:8080/"
        },
        "id": "n_k6idpQrIsN",
        "outputId": "bd6a5d5d-b8c9-4090-b55f-6204e4c0f73f"
      },
      "execution_count": 210,
      "outputs": [
        {
          "output_type": "stream",
          "name": "stdout",
          "text": [
            "+--------+-----+\n",
            "|Category|count|\n",
            "+--------+-----+\n",
            "|  FAMILY| 1972|\n",
            "|    GAME| 1144|\n",
            "|   TOOLS|  843|\n",
            "| MEDICAL|  463|\n",
            "|BUSINESS|  460|\n",
            "+--------+-----+\n",
            "only showing top 5 rows\n",
            "\n"
          ]
        }
      ]
    },
    {
      "cell_type": "code",
      "source": [
        "df1.show()"
      ],
      "metadata": {
        "colab": {
          "base_uri": "https://localhost:8080/"
        },
        "id": "GVp9kvvSsLSs",
        "outputId": "a2b3c9e8-9774-4bc0-8bb7-5d135d182277"
      },
      "execution_count": 211,
      "outputs": [
        {
          "output_type": "stream",
          "name": "stdout",
          "text": [
            "+--------------------+-------------------+------+--------+--------------+----+-----+--------------+--------------------+\n",
            "|                 App|           Category|Rating| Reviews|      Installs|Type|Price|Content Rating|              Genres|\n",
            "+--------------------+-------------------+------+--------+--------------+----+-----+--------------+--------------------+\n",
            "|            Hangouts|      COMMUNICATION|   4.0| 3419249|1,000,000,000+|Free|    0|      Everyone|       Communication|\n",
            "|            Contacts|      COMMUNICATION|   4.3|   66602|   50,000,000+|Free|    0|      Everyone|       Communication|\n",
            "|BiggerCity: Chat ...|             DATING|   4.1|     923|      100,000+|Free|    0|    Mature 17+|              Dating|\n",
            "|  Domino's Pizza USA|     FOOD_AND_DRINK|   4.7| 1032935|   10,000,000+|Free|    0|      Everyone|        Food & Drink|\n",
            "|      Subway Surfers|               GAME|   4.5|27722264|1,000,000,000+|Free|    0|  Everyone 10+|              Arcade|\n",
            "|FINAL FANTASY BRA...|               GAME|   4.6|  745684|    5,000,000+|Free|    0|          Teen|        Role Playing|\n",
            "|              Granny|               GAME|   4.5| 1138239|   50,000,000+|Free|    0|          Teen|              Arcade|\n",
            "|Microsoft PowerPoint|       PRODUCTIVITY|   4.5|  618798|  100,000,000+|Free|    0|      Everyone|        Productivity|\n",
            "|My baby Game (Bal...|          PARENTING|   3.8|    3614|    1,000,000+|Free|    0|      Everyone|Parenting;Brain G...|\n",
            "|Podcast Republic ...| NEWS_AND_MAGAZINES|   4.5|   66978|    1,000,000+|Free|    0|          Teen|    News & Magazines|\n",
            "|          Temple Run|               GAME|   4.3| 4000433|  100,000,000+|Free|    0|      Everyone|              Arcade|\n",
            "|Maps - Navigate &...|   TRAVEL_AND_LOCAL|   4.3| 9231613|1,000,000,000+|Free|    0|      Everyone|      Travel & Local|\n",
            "|             Twitter| NEWS_AND_MAGAZINES|   4.3|11657972|  500,000,000+|Free|    0|    Mature 17+|    News & Magazines|\n",
            "|               FaceQ|             FAMILY|   4.4|  591411|   10,000,000+|Free|    0|          Teen|       Entertainment|\n",
            "|     Wii U Simulator|             FAMILY|   3.4|    1178|      100,000+|Free|    0|  Everyone 10+|          Simulation|\n",
            "|Phone X Launcher,...|              TOOLS|   4.2|   54063|    5,000,000+|Free|    0|      Everyone|               Tools|\n",
            "|         Z Champions|               GAME|   4.7|   96028|    1,000,000+|Free|    0|          Teen|              Arcade|\n",
            "|               Z App|          LIFESTYLE|   2.8|     405|       50,000+|Free|    0|      Everyone|           Lifestyle|\n",
            "|Angry Birds Epic RPG|             FAMILY|   4.5| 2634605|   10,000,000+|Free|    0|      Everyone|        Role Playing|\n",
            "|Ag PhD Soybean Di...|BOOKS_AND_REFERENCE|   NaN|       0|        1,000+|Free|    0|      Everyone|   Books & Reference|\n",
            "+--------------------+-------------------+------+--------+--------------+----+-----+--------------+--------------------+\n",
            "only showing top 20 rows\n",
            "\n"
          ]
        }
      ]
    },
    {
      "cell_type": "code",
      "source": [
        "df1.select(\"Rating\").summary().show()"
      ],
      "metadata": {
        "colab": {
          "base_uri": "https://localhost:8080/"
        },
        "id": "2mY8fZwky_ny",
        "outputId": "de369012-bc3c-42d0-c2e6-f610c93d1051"
      },
      "execution_count": 212,
      "outputs": [
        {
          "output_type": "stream",
          "name": "stdout",
          "text": [
            "+-------+------+\n",
            "|summary|Rating|\n",
            "+-------+------+\n",
            "|  count| 10356|\n",
            "|   mean|   NaN|\n",
            "| stddev|   NaN|\n",
            "|    min|   1.0|\n",
            "|    25%|   4.1|\n",
            "|    50%|   4.4|\n",
            "|    75%|   4.6|\n",
            "|    max|   NaN|\n",
            "+-------+------+\n",
            "\n"
          ]
        }
      ]
    },
    {
      "cell_type": "code",
      "source": [
        "df1.select(\"Reviews\").summary().show()"
      ],
      "metadata": {
        "colab": {
          "base_uri": "https://localhost:8080/"
        },
        "id": "jd-ILahJzSbU",
        "outputId": "8f5c9bcc-3b52-4cb9-9640-571dc5a6c692"
      },
      "execution_count": 213,
      "outputs": [
        {
          "output_type": "stream",
          "name": "stdout",
          "text": [
            "+-------+------------------+\n",
            "|summary|           Reviews|\n",
            "+-------+------------------+\n",
            "|  count|             10356|\n",
            "|   mean| 405963.4421052632|\n",
            "| stddev|2697034.9198568026|\n",
            "|    min|                 0|\n",
            "|    25%|              32.0|\n",
            "|    50%|            1667.0|\n",
            "|    75%|           46353.0|\n",
            "|    max|              9992|\n",
            "+-------+------------------+\n",
            "\n"
          ]
        }
      ]
    },
    {
      "cell_type": "code",
      "source": [
        "df1.groupby(\"Category\").agg(avg(\"Rating\").alias(\"AveragedRating\")).show()"
      ],
      "metadata": {
        "colab": {
          "base_uri": "https://localhost:8080/"
        },
        "id": "MaiqYFq2ziEa",
        "outputId": "bede43c1-3d21-4b5b-ab82-b7acf7b8542c"
      },
      "execution_count": 214,
      "outputs": [
        {
          "output_type": "stream",
          "name": "stdout",
          "text": [
            "+-------------------+-----------------+\n",
            "|           Category|   AveragedRating|\n",
            "+-------------------+-----------------+\n",
            "|             EVENTS|              NaN|\n",
            "|             COMICS|              NaN|\n",
            "|             SPORTS|              NaN|\n",
            "|            WEATHER|              NaN|\n",
            "|      VIDEO_PLAYERS|              NaN|\n",
            "|  AUTO_AND_VEHICLES|              NaN|\n",
            "|          PARENTING|              NaN|\n",
            "|      ENTERTAINMENT|4.136036036036036|\n",
            "|    PERSONALIZATION|              NaN|\n",
            "|   TRAVEL_AND_LOCAL|              NaN|\n",
            "| HEALTH_AND_FITNESS|              NaN|\n",
            "|BOOKS_AND_REFERENCE|              NaN|\n",
            "|     FOOD_AND_DRINK|              NaN|\n",
            "|        PHOTOGRAPHY|              NaN|\n",
            "|           BUSINESS|              NaN|\n",
            "|             FAMILY|              NaN|\n",
            "|           SHOPPING|              NaN|\n",
            "|     HOUSE_AND_HOME|              NaN|\n",
            "|               GAME|              NaN|\n",
            "|                1.9|             19.0|\n",
            "+-------------------+-----------------+\n",
            "only showing top 20 rows\n",
            "\n"
          ]
        }
      ]
    },
    {
      "cell_type": "code",
      "source": [
        "df1.groupby(\"Category\").agg(count(\"Rating\").alias(\"AveragedRating\")).show()"
      ],
      "metadata": {
        "colab": {
          "base_uri": "https://localhost:8080/"
        },
        "id": "lbTqCPIZ2RR3",
        "outputId": "814b2156-3162-429e-8cde-7a6d8dc78716"
      },
      "execution_count": 215,
      "outputs": [
        {
          "output_type": "stream",
          "name": "stdout",
          "text": [
            "+-------------------+--------------+\n",
            "|           Category|AveragedRating|\n",
            "+-------------------+--------------+\n",
            "|             EVENTS|            64|\n",
            "|             COMICS|            60|\n",
            "|             SPORTS|           351|\n",
            "|            WEATHER|            82|\n",
            "|      VIDEO_PLAYERS|           175|\n",
            "|  AUTO_AND_VEHICLES|            85|\n",
            "|          PARENTING|            60|\n",
            "|      ENTERTAINMENT|           111|\n",
            "|    PERSONALIZATION|           388|\n",
            "|   TRAVEL_AND_LOCAL|           237|\n",
            "| HEALTH_AND_FITNESS|           306|\n",
            "|BOOKS_AND_REFERENCE|           230|\n",
            "|     FOOD_AND_DRINK|           124|\n",
            "|        PHOTOGRAPHY|           322|\n",
            "|           BUSINESS|           427|\n",
            "|             FAMILY|          1943|\n",
            "|           SHOPPING|           223|\n",
            "|     HOUSE_AND_HOME|            80|\n",
            "|               GAME|          1121|\n",
            "|                1.9|             1|\n",
            "+-------------------+--------------+\n",
            "only showing top 20 rows\n",
            "\n"
          ]
        }
      ]
    },
    {
      "cell_type": "code",
      "source": [
        "result = df1.groupby(\"Category\").agg(count(\"Rating\").alias(\"AveragedRating\"))\n",
        "\n",
        "# Order the result in descending order by the aggregated column \"AveragedRating\"\n",
        "result = result.orderBy(\"AveragedRating\", ascending=False)\n",
        "\n",
        "# Show the result\n",
        "result.show()\n"
      ],
      "metadata": {
        "colab": {
          "base_uri": "https://localhost:8080/"
        },
        "id": "PX6UoKnu2Qxe",
        "outputId": "e3f9f858-9a10-4bb8-a653-5b1b98407136"
      },
      "execution_count": 216,
      "outputs": [
        {
          "output_type": "stream",
          "name": "stdout",
          "text": [
            "+-------------------+--------------+\n",
            "|           Category|AveragedRating|\n",
            "+-------------------+--------------+\n",
            "|             FAMILY|          1943|\n",
            "|               GAME|          1121|\n",
            "|              TOOLS|           842|\n",
            "|           BUSINESS|           427|\n",
            "|            MEDICAL|           408|\n",
            "|       PRODUCTIVITY|           407|\n",
            "|    PERSONALIZATION|           388|\n",
            "|          LIFESTYLE|           373|\n",
            "|      COMMUNICATION|           366|\n",
            "|            FINANCE|           360|\n",
            "|             SPORTS|           351|\n",
            "|        PHOTOGRAPHY|           322|\n",
            "| HEALTH_AND_FITNESS|           306|\n",
            "|             SOCIAL|           280|\n",
            "| NEWS_AND_MAGAZINES|           264|\n",
            "|   TRAVEL_AND_LOCAL|           237|\n",
            "|BOOKS_AND_REFERENCE|           230|\n",
            "|           SHOPPING|           223|\n",
            "|             DATING|           196|\n",
            "|      VIDEO_PLAYERS|           175|\n",
            "+-------------------+--------------+\n",
            "only showing top 20 rows\n",
            "\n"
          ]
        }
      ]
    },
    {
      "cell_type": "code",
      "source": [
        "df1.printSchema()"
      ],
      "metadata": {
        "colab": {
          "base_uri": "https://localhost:8080/"
        },
        "id": "QtuqpnfwAJOB",
        "outputId": "02b3197c-353b-437e-a9cc-0cd4eeae8a5a"
      },
      "execution_count": 217,
      "outputs": [
        {
          "output_type": "stream",
          "name": "stdout",
          "text": [
            "root\n",
            " |-- App: string (nullable = true)\n",
            " |-- Category: string (nullable = true)\n",
            " |-- Rating: double (nullable = true)\n",
            " |-- Reviews: string (nullable = true)\n",
            " |-- Installs: string (nullable = true)\n",
            " |-- Type: string (nullable = true)\n",
            " |-- Price: string (nullable = true)\n",
            " |-- Content Rating: string (nullable = true)\n",
            " |-- Genres: string (nullable = true)\n",
            "\n"
          ]
        }
      ]
    },
    {
      "cell_type": "code",
      "source": [
        "df1 = df1.withColumn(\"Installs\", regexp_replace('Installs', '\\+', ''))\n",
        "df1.show()"
      ],
      "metadata": {
        "colab": {
          "base_uri": "https://localhost:8080/"
        },
        "id": "Z__gSoExBv42",
        "outputId": "f0663c7a-cbb9-43e6-97ea-27ab62470f3b"
      },
      "execution_count": 218,
      "outputs": [
        {
          "output_type": "stream",
          "name": "stdout",
          "text": [
            "+--------------------+-------------------+------+--------+-------------+----+-----+--------------+--------------------+\n",
            "|                 App|           Category|Rating| Reviews|     Installs|Type|Price|Content Rating|              Genres|\n",
            "+--------------------+-------------------+------+--------+-------------+----+-----+--------------+--------------------+\n",
            "|            Hangouts|      COMMUNICATION|   4.0| 3419249|1,000,000,000|Free|    0|      Everyone|       Communication|\n",
            "|            Contacts|      COMMUNICATION|   4.3|   66602|   50,000,000|Free|    0|      Everyone|       Communication|\n",
            "|BiggerCity: Chat ...|             DATING|   4.1|     923|      100,000|Free|    0|    Mature 17+|              Dating|\n",
            "|  Domino's Pizza USA|     FOOD_AND_DRINK|   4.7| 1032935|   10,000,000|Free|    0|      Everyone|        Food & Drink|\n",
            "|      Subway Surfers|               GAME|   4.5|27722264|1,000,000,000|Free|    0|  Everyone 10+|              Arcade|\n",
            "|FINAL FANTASY BRA...|               GAME|   4.6|  745684|    5,000,000|Free|    0|          Teen|        Role Playing|\n",
            "|              Granny|               GAME|   4.5| 1138239|   50,000,000|Free|    0|          Teen|              Arcade|\n",
            "|Microsoft PowerPoint|       PRODUCTIVITY|   4.5|  618798|  100,000,000|Free|    0|      Everyone|        Productivity|\n",
            "|My baby Game (Bal...|          PARENTING|   3.8|    3614|    1,000,000|Free|    0|      Everyone|Parenting;Brain G...|\n",
            "|Podcast Republic ...| NEWS_AND_MAGAZINES|   4.5|   66978|    1,000,000|Free|    0|          Teen|    News & Magazines|\n",
            "|          Temple Run|               GAME|   4.3| 4000433|  100,000,000|Free|    0|      Everyone|              Arcade|\n",
            "|Maps - Navigate &...|   TRAVEL_AND_LOCAL|   4.3| 9231613|1,000,000,000|Free|    0|      Everyone|      Travel & Local|\n",
            "|             Twitter| NEWS_AND_MAGAZINES|   4.3|11657972|  500,000,000|Free|    0|    Mature 17+|    News & Magazines|\n",
            "|               FaceQ|             FAMILY|   4.4|  591411|   10,000,000|Free|    0|          Teen|       Entertainment|\n",
            "|     Wii U Simulator|             FAMILY|   3.4|    1178|      100,000|Free|    0|  Everyone 10+|          Simulation|\n",
            "|Phone X Launcher,...|              TOOLS|   4.2|   54063|    5,000,000|Free|    0|      Everyone|               Tools|\n",
            "|         Z Champions|               GAME|   4.7|   96028|    1,000,000|Free|    0|          Teen|              Arcade|\n",
            "|               Z App|          LIFESTYLE|   2.8|     405|       50,000|Free|    0|      Everyone|           Lifestyle|\n",
            "|Angry Birds Epic RPG|             FAMILY|   4.5| 2634605|   10,000,000|Free|    0|      Everyone|        Role Playing|\n",
            "|Ag PhD Soybean Di...|BOOKS_AND_REFERENCE|   NaN|       0|        1,000|Free|    0|      Everyone|   Books & Reference|\n",
            "+--------------------+-------------------+------+--------+-------------+----+-----+--------------+--------------------+\n",
            "only showing top 20 rows\n",
            "\n"
          ]
        }
      ]
    },
    {
      "cell_type": "code",
      "source": [
        "df2 = df1.withColumn(\"Installs\", regexp_replace('Installs', '\\,', ''))\n",
        "df2.show()"
      ],
      "metadata": {
        "colab": {
          "base_uri": "https://localhost:8080/"
        },
        "id": "tNdK3nyfCZ5j",
        "outputId": "7adcd7e8-8bf7-43c9-d5f0-bc9c8e555806"
      },
      "execution_count": 220,
      "outputs": [
        {
          "output_type": "stream",
          "name": "stdout",
          "text": [
            "+--------------------+-------------------+------+--------+----------+----+-----+--------------+--------------------+\n",
            "|                 App|           Category|Rating| Reviews|  Installs|Type|Price|Content Rating|              Genres|\n",
            "+--------------------+-------------------+------+--------+----------+----+-----+--------------+--------------------+\n",
            "|            Hangouts|      COMMUNICATION|   4.0| 3419249|1000000000|Free|    0|      Everyone|       Communication|\n",
            "|            Contacts|      COMMUNICATION|   4.3|   66602|  50000000|Free|    0|      Everyone|       Communication|\n",
            "|BiggerCity: Chat ...|             DATING|   4.1|     923|    100000|Free|    0|    Mature 17+|              Dating|\n",
            "|  Domino's Pizza USA|     FOOD_AND_DRINK|   4.7| 1032935|  10000000|Free|    0|      Everyone|        Food & Drink|\n",
            "|      Subway Surfers|               GAME|   4.5|27722264|1000000000|Free|    0|  Everyone 10+|              Arcade|\n",
            "|FINAL FANTASY BRA...|               GAME|   4.6|  745684|   5000000|Free|    0|          Teen|        Role Playing|\n",
            "|              Granny|               GAME|   4.5| 1138239|  50000000|Free|    0|          Teen|              Arcade|\n",
            "|Microsoft PowerPoint|       PRODUCTIVITY|   4.5|  618798| 100000000|Free|    0|      Everyone|        Productivity|\n",
            "|My baby Game (Bal...|          PARENTING|   3.8|    3614|   1000000|Free|    0|      Everyone|Parenting;Brain G...|\n",
            "|Podcast Republic ...| NEWS_AND_MAGAZINES|   4.5|   66978|   1000000|Free|    0|          Teen|    News & Magazines|\n",
            "|          Temple Run|               GAME|   4.3| 4000433| 100000000|Free|    0|      Everyone|              Arcade|\n",
            "|Maps - Navigate &...|   TRAVEL_AND_LOCAL|   4.3| 9231613|1000000000|Free|    0|      Everyone|      Travel & Local|\n",
            "|             Twitter| NEWS_AND_MAGAZINES|   4.3|11657972| 500000000|Free|    0|    Mature 17+|    News & Magazines|\n",
            "|               FaceQ|             FAMILY|   4.4|  591411|  10000000|Free|    0|          Teen|       Entertainment|\n",
            "|     Wii U Simulator|             FAMILY|   3.4|    1178|    100000|Free|    0|  Everyone 10+|          Simulation|\n",
            "|Phone X Launcher,...|              TOOLS|   4.2|   54063|   5000000|Free|    0|      Everyone|               Tools|\n",
            "|         Z Champions|               GAME|   4.7|   96028|   1000000|Free|    0|          Teen|              Arcade|\n",
            "|               Z App|          LIFESTYLE|   2.8|     405|     50000|Free|    0|      Everyone|           Lifestyle|\n",
            "|Angry Birds Epic RPG|             FAMILY|   4.5| 2634605|  10000000|Free|    0|      Everyone|        Role Playing|\n",
            "|Ag PhD Soybean Di...|BOOKS_AND_REFERENCE|   NaN|       0|      1000|Free|    0|      Everyone|   Books & Reference|\n",
            "+--------------------+-------------------+------+--------+----------+----+-----+--------------+--------------------+\n",
            "only showing top 20 rows\n",
            "\n"
          ]
        }
      ]
    },
    {
      "cell_type": "code",
      "source": [
        "df2 = df2.withColumn('Installs', col('Installs').cast(IntegerType()))\n",
        "df2.printSchema()\n",
        "df2.show()"
      ],
      "metadata": {
        "colab": {
          "base_uri": "https://localhost:8080/"
        },
        "id": "mgy9XIQ9AP93",
        "outputId": "93e580ea-275c-4a03-beb9-66718faf9066"
      },
      "execution_count": 249,
      "outputs": [
        {
          "output_type": "stream",
          "name": "stdout",
          "text": [
            "root\n",
            " |-- App: string (nullable = true)\n",
            " |-- Category: string (nullable = true)\n",
            " |-- Rating: double (nullable = true)\n",
            " |-- Reviews: string (nullable = true)\n",
            " |-- Installs: integer (nullable = true)\n",
            " |-- Type: string (nullable = true)\n",
            " |-- Price: string (nullable = true)\n",
            " |-- Content Rating: string (nullable = true)\n",
            " |-- Genres: string (nullable = true)\n",
            "\n",
            "+--------------------+-------------------+------+--------+----------+----+-----+--------------+--------------------+\n",
            "|                 App|           Category|Rating| Reviews|  Installs|Type|Price|Content Rating|              Genres|\n",
            "+--------------------+-------------------+------+--------+----------+----+-----+--------------+--------------------+\n",
            "|            Hangouts|      COMMUNICATION|   4.0| 3419249|1000000000|Free|    0|      Everyone|       Communication|\n",
            "|            Contacts|      COMMUNICATION|   4.3|   66602|  50000000|Free|    0|      Everyone|       Communication|\n",
            "|BiggerCity: Chat ...|             DATING|   4.1|     923|    100000|Free|    0|    Mature 17+|              Dating|\n",
            "|  Domino's Pizza USA|     FOOD_AND_DRINK|   4.7| 1032935|  10000000|Free|    0|      Everyone|        Food & Drink|\n",
            "|      Subway Surfers|               GAME|   4.5|27722264|1000000000|Free|    0|  Everyone 10+|              Arcade|\n",
            "|FINAL FANTASY BRA...|               GAME|   4.6|  745684|   5000000|Free|    0|          Teen|        Role Playing|\n",
            "|              Granny|               GAME|   4.5| 1138239|  50000000|Free|    0|          Teen|              Arcade|\n",
            "|Microsoft PowerPoint|       PRODUCTIVITY|   4.5|  618798| 100000000|Free|    0|      Everyone|        Productivity|\n",
            "|My baby Game (Bal...|          PARENTING|   3.8|    3614|   1000000|Free|    0|      Everyone|Parenting;Brain G...|\n",
            "|Podcast Republic ...| NEWS_AND_MAGAZINES|   4.5|   66978|   1000000|Free|    0|          Teen|    News & Magazines|\n",
            "|          Temple Run|               GAME|   4.3| 4000433| 100000000|Free|    0|      Everyone|              Arcade|\n",
            "|Maps - Navigate &...|   TRAVEL_AND_LOCAL|   4.3| 9231613|1000000000|Free|    0|      Everyone|      Travel & Local|\n",
            "|             Twitter| NEWS_AND_MAGAZINES|   4.3|11657972| 500000000|Free|    0|    Mature 17+|    News & Magazines|\n",
            "|               FaceQ|             FAMILY|   4.4|  591411|  10000000|Free|    0|          Teen|       Entertainment|\n",
            "|     Wii U Simulator|             FAMILY|   3.4|    1178|    100000|Free|    0|  Everyone 10+|          Simulation|\n",
            "|Phone X Launcher,...|              TOOLS|   4.2|   54063|   5000000|Free|    0|      Everyone|               Tools|\n",
            "|         Z Champions|               GAME|   4.7|   96028|   1000000|Free|    0|          Teen|              Arcade|\n",
            "|               Z App|          LIFESTYLE|   2.8|     405|     50000|Free|    0|      Everyone|           Lifestyle|\n",
            "|Angry Birds Epic RPG|             FAMILY|   4.5| 2634605|  10000000|Free|    0|      Everyone|        Role Playing|\n",
            "|Ag PhD Soybean Di...|BOOKS_AND_REFERENCE|   NaN|       0|      1000|Free|    0|      Everyone|   Books & Reference|\n",
            "+--------------------+-------------------+------+--------+----------+----+-----+--------------+--------------------+\n",
            "only showing top 20 rows\n",
            "\n"
          ]
        }
      ]
    },
    {
      "cell_type": "code",
      "source": [
        "df3 = df2.withColumn('Rating', col('Rating').cast(FloatType()))\n",
        "df3.printSchema()\n",
        "df3.show()"
      ],
      "metadata": {
        "colab": {
          "base_uri": "https://localhost:8080/"
        },
        "id": "nlkaiFaaDGEV",
        "outputId": "89782b77-6929-463b-c946-4858f22e0420"
      },
      "execution_count": 250,
      "outputs": [
        {
          "output_type": "stream",
          "name": "stdout",
          "text": [
            "root\n",
            " |-- App: string (nullable = true)\n",
            " |-- Category: string (nullable = true)\n",
            " |-- Rating: float (nullable = true)\n",
            " |-- Reviews: string (nullable = true)\n",
            " |-- Installs: integer (nullable = true)\n",
            " |-- Type: string (nullable = true)\n",
            " |-- Price: string (nullable = true)\n",
            " |-- Content Rating: string (nullable = true)\n",
            " |-- Genres: string (nullable = true)\n",
            "\n",
            "+--------------------+-------------------+------+--------+----------+----+-----+--------------+--------------------+\n",
            "|                 App|           Category|Rating| Reviews|  Installs|Type|Price|Content Rating|              Genres|\n",
            "+--------------------+-------------------+------+--------+----------+----+-----+--------------+--------------------+\n",
            "|            Hangouts|      COMMUNICATION|   4.0| 3419249|1000000000|Free|    0|      Everyone|       Communication|\n",
            "|            Contacts|      COMMUNICATION|   4.3|   66602|  50000000|Free|    0|      Everyone|       Communication|\n",
            "|BiggerCity: Chat ...|             DATING|   4.1|     923|    100000|Free|    0|    Mature 17+|              Dating|\n",
            "|  Domino's Pizza USA|     FOOD_AND_DRINK|   4.7| 1032935|  10000000|Free|    0|      Everyone|        Food & Drink|\n",
            "|      Subway Surfers|               GAME|   4.5|27722264|1000000000|Free|    0|  Everyone 10+|              Arcade|\n",
            "|FINAL FANTASY BRA...|               GAME|   4.6|  745684|   5000000|Free|    0|          Teen|        Role Playing|\n",
            "|              Granny|               GAME|   4.5| 1138239|  50000000|Free|    0|          Teen|              Arcade|\n",
            "|Microsoft PowerPoint|       PRODUCTIVITY|   4.5|  618798| 100000000|Free|    0|      Everyone|        Productivity|\n",
            "|My baby Game (Bal...|          PARENTING|   3.8|    3614|   1000000|Free|    0|      Everyone|Parenting;Brain G...|\n",
            "|Podcast Republic ...| NEWS_AND_MAGAZINES|   4.5|   66978|   1000000|Free|    0|          Teen|    News & Magazines|\n",
            "|          Temple Run|               GAME|   4.3| 4000433| 100000000|Free|    0|      Everyone|              Arcade|\n",
            "|Maps - Navigate &...|   TRAVEL_AND_LOCAL|   4.3| 9231613|1000000000|Free|    0|      Everyone|      Travel & Local|\n",
            "|             Twitter| NEWS_AND_MAGAZINES|   4.3|11657972| 500000000|Free|    0|    Mature 17+|    News & Magazines|\n",
            "|               FaceQ|             FAMILY|   4.4|  591411|  10000000|Free|    0|          Teen|       Entertainment|\n",
            "|     Wii U Simulator|             FAMILY|   3.4|    1178|    100000|Free|    0|  Everyone 10+|          Simulation|\n",
            "|Phone X Launcher,...|              TOOLS|   4.2|   54063|   5000000|Free|    0|      Everyone|               Tools|\n",
            "|         Z Champions|               GAME|   4.7|   96028|   1000000|Free|    0|          Teen|              Arcade|\n",
            "|               Z App|          LIFESTYLE|   2.8|     405|     50000|Free|    0|      Everyone|           Lifestyle|\n",
            "|Angry Birds Epic RPG|             FAMILY|   4.5| 2634605|  10000000|Free|    0|      Everyone|        Role Playing|\n",
            "|Ag PhD Soybean Di...|BOOKS_AND_REFERENCE|   NaN|       0|      1000|Free|    0|      Everyone|   Books & Reference|\n",
            "+--------------------+-------------------+------+--------+----------+----+-----+--------------+--------------------+\n",
            "only showing top 20 rows\n",
            "\n"
          ]
        }
      ]
    },
    {
      "cell_type": "code",
      "source": [
        "df3 = df3.withColumn('Reviews', col('Reviews').cast(IntegerType()))\n",
        "df3.printSchema()\n",
        "df3.show()"
      ],
      "metadata": {
        "colab": {
          "base_uri": "https://localhost:8080/"
        },
        "id": "JTrE6R8rFb2l",
        "outputId": "3eee3db9-bd94-4750-d573-305d3987ccdb"
      },
      "execution_count": 251,
      "outputs": [
        {
          "output_type": "stream",
          "name": "stdout",
          "text": [
            "root\n",
            " |-- App: string (nullable = true)\n",
            " |-- Category: string (nullable = true)\n",
            " |-- Rating: float (nullable = true)\n",
            " |-- Reviews: integer (nullable = true)\n",
            " |-- Installs: integer (nullable = true)\n",
            " |-- Type: string (nullable = true)\n",
            " |-- Price: string (nullable = true)\n",
            " |-- Content Rating: string (nullable = true)\n",
            " |-- Genres: string (nullable = true)\n",
            "\n",
            "+--------------------+-------------------+------+--------+----------+----+-----+--------------+--------------------+\n",
            "|                 App|           Category|Rating| Reviews|  Installs|Type|Price|Content Rating|              Genres|\n",
            "+--------------------+-------------------+------+--------+----------+----+-----+--------------+--------------------+\n",
            "|            Hangouts|      COMMUNICATION|   4.0| 3419249|1000000000|Free|    0|      Everyone|       Communication|\n",
            "|            Contacts|      COMMUNICATION|   4.3|   66602|  50000000|Free|    0|      Everyone|       Communication|\n",
            "|BiggerCity: Chat ...|             DATING|   4.1|     923|    100000|Free|    0|    Mature 17+|              Dating|\n",
            "|  Domino's Pizza USA|     FOOD_AND_DRINK|   4.7| 1032935|  10000000|Free|    0|      Everyone|        Food & Drink|\n",
            "|      Subway Surfers|               GAME|   4.5|27722264|1000000000|Free|    0|  Everyone 10+|              Arcade|\n",
            "|FINAL FANTASY BRA...|               GAME|   4.6|  745684|   5000000|Free|    0|          Teen|        Role Playing|\n",
            "|              Granny|               GAME|   4.5| 1138239|  50000000|Free|    0|          Teen|              Arcade|\n",
            "|Microsoft PowerPoint|       PRODUCTIVITY|   4.5|  618798| 100000000|Free|    0|      Everyone|        Productivity|\n",
            "|My baby Game (Bal...|          PARENTING|   3.8|    3614|   1000000|Free|    0|      Everyone|Parenting;Brain G...|\n",
            "|Podcast Republic ...| NEWS_AND_MAGAZINES|   4.5|   66978|   1000000|Free|    0|          Teen|    News & Magazines|\n",
            "|          Temple Run|               GAME|   4.3| 4000433| 100000000|Free|    0|      Everyone|              Arcade|\n",
            "|Maps - Navigate &...|   TRAVEL_AND_LOCAL|   4.3| 9231613|1000000000|Free|    0|      Everyone|      Travel & Local|\n",
            "|             Twitter| NEWS_AND_MAGAZINES|   4.3|11657972| 500000000|Free|    0|    Mature 17+|    News & Magazines|\n",
            "|               FaceQ|             FAMILY|   4.4|  591411|  10000000|Free|    0|          Teen|       Entertainment|\n",
            "|     Wii U Simulator|             FAMILY|   3.4|    1178|    100000|Free|    0|  Everyone 10+|          Simulation|\n",
            "|Phone X Launcher,...|              TOOLS|   4.2|   54063|   5000000|Free|    0|      Everyone|               Tools|\n",
            "|         Z Champions|               GAME|   4.7|   96028|   1000000|Free|    0|          Teen|              Arcade|\n",
            "|               Z App|          LIFESTYLE|   2.8|     405|     50000|Free|    0|      Everyone|           Lifestyle|\n",
            "|Angry Birds Epic RPG|             FAMILY|   4.5| 2634605|  10000000|Free|    0|      Everyone|        Role Playing|\n",
            "|Ag PhD Soybean Di...|BOOKS_AND_REFERENCE|   NaN|       0|      1000|Free|    0|      Everyone|   Books & Reference|\n",
            "+--------------------+-------------------+------+--------+----------+----+-----+--------------+--------------------+\n",
            "only showing top 20 rows\n",
            "\n"
          ]
        }
      ]
    },
    {
      "cell_type": "code",
      "source": [
        "df3.orderBy('Reviews', ascending=False).show()"
      ],
      "metadata": {
        "colab": {
          "base_uri": "https://localhost:8080/"
        },
        "id": "SAIgqT3jEKYl",
        "outputId": "f983adc5-7476-4726-945b-6f157bd60d02"
      },
      "execution_count": 252,
      "outputs": [
        {
          "output_type": "stream",
          "name": "stdout",
          "text": [
            "+--------------------+-------------+------+--------+----------+----+-----+--------------+--------------------+\n",
            "|                 App|     Category|Rating| Reviews|  Installs|Type|Price|Content Rating|              Genres|\n",
            "+--------------------+-------------+------+--------+----------+----+-----+--------------+--------------------+\n",
            "|            Facebook|       SOCIAL|   4.1|78158306|1000000000|Free|    0|          Teen|              Social|\n",
            "|            Facebook|       SOCIAL|   4.1|78128208|1000000000|Free|    0|          Teen|              Social|\n",
            "|  WhatsApp Messenger|COMMUNICATION|   4.4|69119316|1000000000|Free|    0|      Everyone|       Communication|\n",
            "|  WhatsApp Messenger|COMMUNICATION|   4.4|69109672|1000000000|Free|    0|      Everyone|       Communication|\n",
            "|           Instagram|       SOCIAL|   4.5|66577446|1000000000|Free|    0|          Teen|              Social|\n",
            "|           Instagram|       SOCIAL|   4.5|66577313|1000000000|Free|    0|          Teen|              Social|\n",
            "|           Instagram|       SOCIAL|   4.5|66509917|1000000000|Free|    0|          Teen|              Social|\n",
            "|Messenger – Text ...|COMMUNICATION|   4.0|56646578|1000000000|Free|    0|      Everyone|       Communication|\n",
            "|Messenger – Text ...|COMMUNICATION|   4.0|56642847|1000000000|Free|    0|      Everyone|       Communication|\n",
            "|      Clash of Clans|         GAME|   4.6|44893888| 100000000|Free|    0|  Everyone 10+|            Strategy|\n",
            "|      Clash of Clans|         GAME|   4.6|44891723| 100000000|Free|    0|  Everyone 10+|            Strategy|\n",
            "|      Clash of Clans|       FAMILY|   4.6|44881447| 100000000|Free|    0|  Everyone 10+|            Strategy|\n",
            "|Clean Master- Spa...|        TOOLS|   4.7|42916526| 500000000|Free|    0|      Everyone|               Tools|\n",
            "|      Subway Surfers|         GAME|   4.5|27725352|1000000000|Free|    0|  Everyone 10+|              Arcade|\n",
            "|      Subway Surfers|         GAME|   4.5|27724094|1000000000|Free|    0|  Everyone 10+|              Arcade|\n",
            "|      Subway Surfers|         GAME|   4.5|27723193|1000000000|Free|    0|  Everyone 10+|              Arcade|\n",
            "|      Subway Surfers|         GAME|   4.5|27722264|1000000000|Free|    0|  Everyone 10+|              Arcade|\n",
            "|      Subway Surfers|         GAME|   4.5|27711703|1000000000|Free|    0|  Everyone 10+|              Arcade|\n",
            "|             YouTube|VIDEO_PLAYERS|   4.3|25655305|1000000000|Free|    0|          Teen|Video Players & E...|\n",
            "|             YouTube|VIDEO_PLAYERS|   4.3|25623548|1000000000|Free|    0|          Teen|Video Players & E...|\n",
            "+--------------------+-------------+------+--------+----------+----+-----+--------------+--------------------+\n",
            "only showing top 20 rows\n",
            "\n"
          ]
        }
      ]
    },
    {
      "cell_type": "markdown",
      "source": [
        "# ** top 10 reviews given to the apps**"
      ],
      "metadata": {
        "id": "pSsqnszEGGlf"
      }
    },
    {
      "cell_type": "code",
      "source": [
        "q= df3.orderBy(desc('Reviews')).select(\"App\", \"Reviews\").limit(10)\n",
        "q.show()"
      ],
      "metadata": {
        "colab": {
          "base_uri": "https://localhost:8080/"
        },
        "id": "aLA9HOIw_5-p",
        "outputId": "464c65ae-2a70-4332-c156-fb7b5afffde4"
      },
      "execution_count": 253,
      "outputs": [
        {
          "output_type": "stream",
          "name": "stdout",
          "text": [
            "+--------------------+--------+\n",
            "|                 App| Reviews|\n",
            "+--------------------+--------+\n",
            "|            Facebook|78158306|\n",
            "|            Facebook|78128208|\n",
            "|  WhatsApp Messenger|69119316|\n",
            "|  WhatsApp Messenger|69109672|\n",
            "|           Instagram|66577446|\n",
            "|           Instagram|66577313|\n",
            "|           Instagram|66509917|\n",
            "|Messenger – Text ...|56646578|\n",
            "|Messenger – Text ...|56642847|\n",
            "|      Clash of Clans|44893888|\n",
            "+--------------------+--------+\n",
            "\n"
          ]
        }
      ]
    },
    {
      "cell_type": "code",
      "source": [
        "df3.count()"
      ],
      "metadata": {
        "colab": {
          "base_uri": "https://localhost:8080/"
        },
        "id": "qOzTm0o-G_s3",
        "outputId": "dac2a7d6-fcb5-4cf8-fe10-2401dd02c154"
      },
      "execution_count": 254,
      "outputs": [
        {
          "output_type": "execute_result",
          "data": {
            "text/plain": [
              "10356"
            ]
          },
          "metadata": {},
          "execution_count": 254
        }
      ]
    },
    {
      "cell_type": "markdown",
      "source": [
        "Remove duplicates"
      ],
      "metadata": {
        "id": "aV0deP93GmRg"
      }
    },
    {
      "cell_type": "code",
      "source": [
        "df4 = df3.dropDuplicates(subset=['App','Category','Rating','Installs' ])\n",
        "df4.show()"
      ],
      "metadata": {
        "colab": {
          "base_uri": "https://localhost:8080/"
        },
        "id": "tQgRk-RkDPcH",
        "outputId": "e1387395-f0ba-4fdd-d326-88bd36d47bbc"
      },
      "execution_count": 266,
      "outputs": [
        {
          "output_type": "stream",
          "name": "stdout",
          "text": [
            "+--------------------+-------------------+------+-------+--------+----+-----+--------------+-----------------+\n",
            "|                 App|           Category|Rating|Reviews|Installs|Type|Price|Content Rating|           Genres|\n",
            "+--------------------+-------------------+------+-------+--------+----+-----+--------------+-----------------+\n",
            "|\"i DT\" Fútbol. To...|             SPORTS|   NaN|     27|     500|Free|    0|      Everyone|           Sports|\n",
            "|+Download 4 Insta...|             SOCIAL|   4.5|  40467| 1000000|Free|    0|      Everyone|           Social|\n",
            "|- Free Comics - C...|             COMICS|   3.5|    115|   10000|Free|    0|    Mature 17+|           Comics|\n",
            "|                  .R|              TOOLS|   4.5|    259|   10000|Free|    0|      Everyone|            Tools|\n",
            "|              /u/app|      COMMUNICATION|   4.7|    573|   10000|Free|    0|    Mature 17+|    Communication|\n",
            "|              058.ba| NEWS_AND_MAGAZINES|   4.4|     27|     100|Free|    0|      Everyone| News & Magazines|\n",
            "|      1. FC Köln App|             SPORTS|   4.6|   2019|  100000|Free|    0|      Everyone|           Sports|\n",
            "|10 Best Foods for...| HEALTH_AND_FITNESS|   4.0|   2490|  500000|Free|    0|  Everyone 10+| Health & Fitness|\n",
            "|10 Minutes a Day ...|             FAMILY|   4.1|    681|  100000|Free|    0|      Everyone|        Education|\n",
            "|10 WPM Amateur ha...|      COMMUNICATION|   3.5|     10|     100|Paid|$1.49|      Everyone|    Communication|\n",
            "|10,000 Quotes DB ...|BOOKS_AND_REFERENCE|   4.1|     70|     500|Paid|$0.99|      Everyone|Books & Reference|\n",
            "|100 Doors of Revenge|             FAMILY|   4.1| 105766|10000000|Free|    0|          Teen|           Puzzle|\n",
            "|     100+ C Programs|             FAMILY|   4.2|     20|    5000|Free|    0|      Everyone|        Education|\n",
            "|100000+ Messages ...|          LIFESTYLE|   3.7|    121|   10000|Free|    0|    Mature 17+|        Lifestyle|\n",
            "|101 C Programming...|             FAMILY|   4.6|    498|   50000|Free|    0|      Everyone|        Education|\n",
            "|104 Looking for a...|           BUSINESS|   4.4|  74359| 1000000|Free|    0|      Everyone|         Business|\n",
            "|                11st|           SHOPPING|   3.8|  48732|10000000|Free|    0|      Everyone|         Shopping|\n",
            "|12 Step Meditatio...|          LIFESTYLE|   4.7|    759|   50000|Free|    0|  Everyone 10+|        Lifestyle|\n",
            "|       14thStreetVet|            MEDICAL|   NaN|      0|       5|Free|    0|      Everyone|          Medical|\n",
            "|17th Edition Cabl...|BOOKS_AND_REFERENCE|   4.4|     47|    1000|Paid|$3.08|      Everyone|Books & Reference|\n",
            "+--------------------+-------------------+------+-------+--------+----+-----+--------------+-----------------+\n",
            "only showing top 20 rows\n",
            "\n"
          ]
        }
      ]
    },
    {
      "cell_type": "code",
      "source": [
        "q= df4.orderBy(desc('Reviews')).select(\"App\", \"Reviews\").limit(10)\n",
        "q.show()"
      ],
      "metadata": {
        "colab": {
          "base_uri": "https://localhost:8080/"
        },
        "id": "M1_R5HUvHPtZ",
        "outputId": "30fe4929-e8c9-437f-a0d6-de44de94abf7"
      },
      "execution_count": 256,
      "outputs": [
        {
          "output_type": "stream",
          "name": "stdout",
          "text": [
            "+--------------------+--------+\n",
            "|                 App| Reviews|\n",
            "+--------------------+--------+\n",
            "|            Facebook|78158306|\n",
            "|  WhatsApp Messenger|69119316|\n",
            "|           Instagram|66577313|\n",
            "|Messenger – Text ...|56642847|\n",
            "|      Clash of Clans|44891723|\n",
            "|      Clash of Clans|44881447|\n",
            "|Clean Master- Spa...|42916526|\n",
            "|      Subway Surfers|27722264|\n",
            "|             YouTube|25655305|\n",
            "|Security Master -...|24900999|\n",
            "+--------------------+--------+\n",
            "\n"
          ]
        }
      ]
    },
    {
      "cell_type": "markdown",
      "source": [
        "# **top paid apps**"
      ],
      "metadata": {
        "id": "V9_5Cr3mHcKP"
      }
    },
    {
      "cell_type": "code",
      "source": [
        "df4.printSchema()"
      ],
      "metadata": {
        "colab": {
          "base_uri": "https://localhost:8080/"
        },
        "id": "3DMhunRfJ5pF",
        "outputId": "52c73ab0-1f8b-4624-ac2b-15e69993c50e"
      },
      "execution_count": 258,
      "outputs": [
        {
          "output_type": "stream",
          "name": "stdout",
          "text": [
            "root\n",
            " |-- App: string (nullable = true)\n",
            " |-- Category: string (nullable = true)\n",
            " |-- Rating: float (nullable = true)\n",
            " |-- Reviews: integer (nullable = true)\n",
            " |-- Installs: integer (nullable = true)\n",
            " |-- Type: string (nullable = true)\n",
            " |-- Price: string (nullable = true)\n",
            " |-- Content Rating: string (nullable = true)\n",
            " |-- Genres: string (nullable = true)\n",
            "\n"
          ]
        }
      ]
    },
    {
      "cell_type": "code",
      "source": [
        "df5 = df4.withColumn('Price', regexp_replace('Price', '\\$', ''))\n",
        "df5.show()"
      ],
      "metadata": {
        "colab": {
          "base_uri": "https://localhost:8080/"
        },
        "id": "Zgl08NcWL6bJ",
        "outputId": "f71d2fe0-49eb-4c95-d8e7-54cbc0c26242"
      },
      "execution_count": 268,
      "outputs": [
        {
          "output_type": "stream",
          "name": "stdout",
          "text": [
            "+--------------------+-------------------+------+-------+--------+----+-----+--------------+-----------------+\n",
            "|                 App|           Category|Rating|Reviews|Installs|Type|Price|Content Rating|           Genres|\n",
            "+--------------------+-------------------+------+-------+--------+----+-----+--------------+-----------------+\n",
            "|\"i DT\" Fútbol. To...|             SPORTS|   NaN|     27|     500|Free|    0|      Everyone|           Sports|\n",
            "|+Download 4 Insta...|             SOCIAL|   4.5|  40467| 1000000|Free|    0|      Everyone|           Social|\n",
            "|- Free Comics - C...|             COMICS|   3.5|    115|   10000|Free|    0|    Mature 17+|           Comics|\n",
            "|                  .R|              TOOLS|   4.5|    259|   10000|Free|    0|      Everyone|            Tools|\n",
            "|              /u/app|      COMMUNICATION|   4.7|    573|   10000|Free|    0|    Mature 17+|    Communication|\n",
            "|              058.ba| NEWS_AND_MAGAZINES|   4.4|     27|     100|Free|    0|      Everyone| News & Magazines|\n",
            "|      1. FC Köln App|             SPORTS|   4.6|   2019|  100000|Free|    0|      Everyone|           Sports|\n",
            "|10 Best Foods for...| HEALTH_AND_FITNESS|   4.0|   2490|  500000|Free|    0|  Everyone 10+| Health & Fitness|\n",
            "|10 Minutes a Day ...|             FAMILY|   4.1|    681|  100000|Free|    0|      Everyone|        Education|\n",
            "|10 WPM Amateur ha...|      COMMUNICATION|   3.5|     10|     100|Paid| 1.49|      Everyone|    Communication|\n",
            "|10,000 Quotes DB ...|BOOKS_AND_REFERENCE|   4.1|     70|     500|Paid| 0.99|      Everyone|Books & Reference|\n",
            "|100 Doors of Revenge|             FAMILY|   4.1| 105766|10000000|Free|    0|          Teen|           Puzzle|\n",
            "|     100+ C Programs|             FAMILY|   4.2|     20|    5000|Free|    0|      Everyone|        Education|\n",
            "|100000+ Messages ...|          LIFESTYLE|   3.7|    121|   10000|Free|    0|    Mature 17+|        Lifestyle|\n",
            "|101 C Programming...|             FAMILY|   4.6|    498|   50000|Free|    0|      Everyone|        Education|\n",
            "|104 Looking for a...|           BUSINESS|   4.4|  74359| 1000000|Free|    0|      Everyone|         Business|\n",
            "|                11st|           SHOPPING|   3.8|  48732|10000000|Free|    0|      Everyone|         Shopping|\n",
            "|12 Step Meditatio...|          LIFESTYLE|   4.7|    759|   50000|Free|    0|  Everyone 10+|        Lifestyle|\n",
            "|       14thStreetVet|            MEDICAL|   NaN|      0|       5|Free|    0|      Everyone|          Medical|\n",
            "|17th Edition Cabl...|BOOKS_AND_REFERENCE|   4.4|     47|    1000|Paid| 3.08|      Everyone|Books & Reference|\n",
            "+--------------------+-------------------+------+-------+--------+----+-----+--------------+-----------------+\n",
            "only showing top 20 rows\n",
            "\n"
          ]
        }
      ]
    },
    {
      "cell_type": "code",
      "source": [
        "df5 = df5.withColumn('Price', col('Price').cast(FloatType()))\n",
        "df5.printSchema()\n",
        "df5.show()"
      ],
      "metadata": {
        "colab": {
          "base_uri": "https://localhost:8080/"
        },
        "id": "GIEE6d_GKe0e",
        "outputId": "8c4ccd2f-4f35-4499-d6e0-3d2563b8021e"
      },
      "execution_count": 270,
      "outputs": [
        {
          "output_type": "stream",
          "name": "stdout",
          "text": [
            "root\n",
            " |-- App: string (nullable = true)\n",
            " |-- Category: string (nullable = true)\n",
            " |-- Rating: float (nullable = true)\n",
            " |-- Reviews: integer (nullable = true)\n",
            " |-- Installs: integer (nullable = true)\n",
            " |-- Type: string (nullable = true)\n",
            " |-- Price: float (nullable = true)\n",
            " |-- Content Rating: string (nullable = true)\n",
            " |-- Genres: string (nullable = true)\n",
            "\n",
            "+--------------------+-------------------+------+-------+--------+----+-----+--------------+-----------------+\n",
            "|                 App|           Category|Rating|Reviews|Installs|Type|Price|Content Rating|           Genres|\n",
            "+--------------------+-------------------+------+-------+--------+----+-----+--------------+-----------------+\n",
            "|\"i DT\" Fútbol. To...|             SPORTS|   NaN|     27|     500|Free|  0.0|      Everyone|           Sports|\n",
            "|+Download 4 Insta...|             SOCIAL|   4.5|  40467| 1000000|Free|  0.0|      Everyone|           Social|\n",
            "|- Free Comics - C...|             COMICS|   3.5|    115|   10000|Free|  0.0|    Mature 17+|           Comics|\n",
            "|                  .R|              TOOLS|   4.5|    259|   10000|Free|  0.0|      Everyone|            Tools|\n",
            "|              /u/app|      COMMUNICATION|   4.7|    573|   10000|Free|  0.0|    Mature 17+|    Communication|\n",
            "|              058.ba| NEWS_AND_MAGAZINES|   4.4|     27|     100|Free|  0.0|      Everyone| News & Magazines|\n",
            "|      1. FC Köln App|             SPORTS|   4.6|   2019|  100000|Free|  0.0|      Everyone|           Sports|\n",
            "|10 Best Foods for...| HEALTH_AND_FITNESS|   4.0|   2490|  500000|Free|  0.0|  Everyone 10+| Health & Fitness|\n",
            "|10 Minutes a Day ...|             FAMILY|   4.1|    681|  100000|Free|  0.0|      Everyone|        Education|\n",
            "|10 WPM Amateur ha...|      COMMUNICATION|   3.5|     10|     100|Paid| 1.49|      Everyone|    Communication|\n",
            "|10,000 Quotes DB ...|BOOKS_AND_REFERENCE|   4.1|     70|     500|Paid| 0.99|      Everyone|Books & Reference|\n",
            "|100 Doors of Revenge|             FAMILY|   4.1| 105766|10000000|Free|  0.0|          Teen|           Puzzle|\n",
            "|     100+ C Programs|             FAMILY|   4.2|     20|    5000|Free|  0.0|      Everyone|        Education|\n",
            "|100000+ Messages ...|          LIFESTYLE|   3.7|    121|   10000|Free|  0.0|    Mature 17+|        Lifestyle|\n",
            "|101 C Programming...|             FAMILY|   4.6|    498|   50000|Free|  0.0|      Everyone|        Education|\n",
            "|104 Looking for a...|           BUSINESS|   4.4|  74359| 1000000|Free|  0.0|      Everyone|         Business|\n",
            "|                11st|           SHOPPING|   3.8|  48732|10000000|Free|  0.0|      Everyone|         Shopping|\n",
            "|12 Step Meditatio...|          LIFESTYLE|   4.7|    759|   50000|Free|  0.0|  Everyone 10+|        Lifestyle|\n",
            "|       14thStreetVet|            MEDICAL|   NaN|      0|       5|Free|  0.0|      Everyone|          Medical|\n",
            "|17th Edition Cabl...|BOOKS_AND_REFERENCE|   4.4|     47|    1000|Paid| 3.08|      Everyone|Books & Reference|\n",
            "+--------------------+-------------------+------+-------+--------+----+-----+--------------+-----------------+\n",
            "only showing top 20 rows\n",
            "\n"
          ]
        }
      ]
    },
    {
      "cell_type": "code",
      "source": [
        "top_paid = df5.filter(df5['Type']=='Paid').orderBy(desc('Price')).select('App', 'Installs', 'Price').limit(20)\n",
        "top_paid.show()"
      ],
      "metadata": {
        "colab": {
          "base_uri": "https://localhost:8080/"
        },
        "id": "0UfSguytLpLT",
        "outputId": "68417a12-a6a3-406e-9fc5-2b37f5ad24cd"
      },
      "execution_count": 275,
      "outputs": [
        {
          "output_type": "stream",
          "name": "stdout",
          "text": [
            "+--------------------+--------+------+\n",
            "|                 App|Installs| Price|\n",
            "+--------------------+--------+------+\n",
            "|I'm Rich - Trump ...|   10000| 400.0|\n",
            "|           I am Rich|    5000|399.99|\n",
            "|  I AM RICH PRO PLUS|    1000|399.99|\n",
            "|   I Am Rich Premium|   50000|399.99|\n",
            "|       I Am Rich Pro|    5000|399.99|\n",
            "|I'm Rich/Eu sou R...|       0|399.99|\n",
            "|      I am Rich Plus|   10000|399.99|\n",
            "|          I am Rich!|    1000|399.99|\n",
            "|           I am rich|  100000|399.99|\n",
            "|I am rich (Most e...|    1000|399.99|\n",
            "|  I am rich(premium)|    5000|399.99|\n",
            "|most expensive ap...|     100|399.99|\n",
            "|         💎 I'm rich|   10000|399.99|\n",
            "|         Eu Sou Rico|       0|394.99|\n",
            "|           I Am Rich|   10000|389.99|\n",
            "| I am extremely Rich|    1000|379.99|\n",
            "|       I am rich VIP|   10000|299.99|\n",
            "|        EP Cook Book|       0| 200.0|\n",
            "|       cronometra-br|       0|154.99|\n",
            "|BP Fitness Lead S...|       1|109.99|\n",
            "+--------------------+--------+------+\n",
            "\n"
          ]
        }
      ]
    },
    {
      "cell_type": "markdown",
      "source": [
        "# Top Installed apps which is paid"
      ],
      "metadata": {
        "id": "ohyqf8vhKNWw"
      }
    },
    {
      "cell_type": "code",
      "source": [
        "top_installed_paid = df4.filter(df1[\"Type\"] == \"Paid\").orderBy(desc(\"Installs\")).select(\"App\", \"Installs\").limit(20)\n",
        "top_installed_paid.show()"
      ],
      "metadata": {
        "colab": {
          "base_uri": "https://localhost:8080/"
        },
        "id": "O_FycVoJHWVJ",
        "outputId": "a54509e4-7690-4cd4-c1e7-43768df463aa"
      },
      "execution_count": 281,
      "outputs": [
        {
          "output_type": "stream",
          "name": "stdout",
          "text": [
            "+--------------------+--------+\n",
            "|                 App|Installs|\n",
            "+--------------------+--------+\n",
            "|       Hitman Sniper|10000000|\n",
            "|           Minecraft|10000000|\n",
            "| DraStic DS Emulator| 1000000|\n",
            "|Card Wars - Adven...| 1000000|\n",
            "|   Cut the Rope GOLD| 1000000|\n",
            "|             Threema| 1000000|\n",
            "| Facetune - For Free| 1000000|\n",
            "|Five Nights at Fr...| 1000000|\n",
            "| Fruit Ninja Classic| 1000000|\n",
            "|Grand Theft Auto:...| 1000000|\n",
            "|          HD Widgets| 1000000|\n",
            "|         Bloons TD 5| 1000000|\n",
            "|Infinity Dungeon VIP| 1000000|\n",
            "|League of Stickma...| 1000000|\n",
            "|Lost Journey (Dre...| 1000000|\n",
            "|Beautiful Widgets...| 1000000|\n",
            "|Sleep as Android ...| 1000000|\n",
            "|Stickman Legends:...| 1000000|\n",
            "|              Tasker| 1000000|\n",
            "|          True Skate| 1000000|\n",
            "+--------------------+--------+\n",
            "\n"
          ]
        }
      ]
    },
    {
      "cell_type": "code",
      "source": [
        "df5.show()"
      ],
      "metadata": {
        "colab": {
          "base_uri": "https://localhost:8080/"
        },
        "id": "fNnl76vdN1Br",
        "outputId": "a913a98a-53f4-4e75-8096-f2a6f693736b"
      },
      "execution_count": 282,
      "outputs": [
        {
          "output_type": "stream",
          "name": "stdout",
          "text": [
            "+--------------------+-------------------+------+-------+--------+----+-----+--------------+-----------------+\n",
            "|                 App|           Category|Rating|Reviews|Installs|Type|Price|Content Rating|           Genres|\n",
            "+--------------------+-------------------+------+-------+--------+----+-----+--------------+-----------------+\n",
            "|\"i DT\" Fútbol. To...|             SPORTS|   NaN|     27|     500|Free|  0.0|      Everyone|           Sports|\n",
            "|+Download 4 Insta...|             SOCIAL|   4.5|  40467| 1000000|Free|  0.0|      Everyone|           Social|\n",
            "|- Free Comics - C...|             COMICS|   3.5|    115|   10000|Free|  0.0|    Mature 17+|           Comics|\n",
            "|                  .R|              TOOLS|   4.5|    259|   10000|Free|  0.0|      Everyone|            Tools|\n",
            "|              /u/app|      COMMUNICATION|   4.7|    573|   10000|Free|  0.0|    Mature 17+|    Communication|\n",
            "|              058.ba| NEWS_AND_MAGAZINES|   4.4|     27|     100|Free|  0.0|      Everyone| News & Magazines|\n",
            "|      1. FC Köln App|             SPORTS|   4.6|   2019|  100000|Free|  0.0|      Everyone|           Sports|\n",
            "|10 Best Foods for...| HEALTH_AND_FITNESS|   4.0|   2490|  500000|Free|  0.0|  Everyone 10+| Health & Fitness|\n",
            "|10 Minutes a Day ...|             FAMILY|   4.1|    681|  100000|Free|  0.0|      Everyone|        Education|\n",
            "|10 WPM Amateur ha...|      COMMUNICATION|   3.5|     10|     100|Paid| 1.49|      Everyone|    Communication|\n",
            "|10,000 Quotes DB ...|BOOKS_AND_REFERENCE|   4.1|     70|     500|Paid| 0.99|      Everyone|Books & Reference|\n",
            "|100 Doors of Revenge|             FAMILY|   4.1| 105766|10000000|Free|  0.0|          Teen|           Puzzle|\n",
            "|     100+ C Programs|             FAMILY|   4.2|     20|    5000|Free|  0.0|      Everyone|        Education|\n",
            "|100000+ Messages ...|          LIFESTYLE|   3.7|    121|   10000|Free|  0.0|    Mature 17+|        Lifestyle|\n",
            "|101 C Programming...|             FAMILY|   4.6|    498|   50000|Free|  0.0|      Everyone|        Education|\n",
            "|104 Looking for a...|           BUSINESS|   4.4|  74359| 1000000|Free|  0.0|      Everyone|         Business|\n",
            "|                11st|           SHOPPING|   3.8|  48732|10000000|Free|  0.0|      Everyone|         Shopping|\n",
            "|12 Step Meditatio...|          LIFESTYLE|   4.7|    759|   50000|Free|  0.0|  Everyone 10+|        Lifestyle|\n",
            "|       14thStreetVet|            MEDICAL|   NaN|      0|       5|Free|  0.0|      Everyone|          Medical|\n",
            "|17th Edition Cabl...|BOOKS_AND_REFERENCE|   4.4|     47|    1000|Paid| 3.08|      Everyone|Books & Reference|\n",
            "+--------------------+-------------------+------+-------+--------+----+-----+--------------+-----------------+\n",
            "only showing top 20 rows\n",
            "\n"
          ]
        }
      ]
    },
    {
      "cell_type": "markdown",
      "source": [
        "# **top paid rating apps**"
      ],
      "metadata": {
        "id": "9nTRrjOFQ3RI"
      }
    },
    {
      "cell_type": "code",
      "source": [
        "df5.select(\"Rating\").distinct().show()"
      ],
      "metadata": {
        "colab": {
          "base_uri": "https://localhost:8080/"
        },
        "id": "6dOS8-7_PD5L",
        "outputId": "36015286-af9c-4d03-88b6-aff0bbd9a62a"
      },
      "execution_count": 287,
      "outputs": [
        {
          "output_type": "stream",
          "name": "stdout",
          "text": [
            "+------+\n",
            "|Rating|\n",
            "+------+\n",
            "|   5.0|\n",
            "|   2.5|\n",
            "|   3.8|\n",
            "|   2.2|\n",
            "|   4.6|\n",
            "|   3.4|\n",
            "|   4.2|\n",
            "|   1.8|\n",
            "|   3.2|\n",
            "|   2.9|\n",
            "|   2.0|\n",
            "|   3.6|\n",
            "|   3.0|\n",
            "|   1.5|\n",
            "|   2.6|\n",
            "|   3.3|\n",
            "|   2.8|\n",
            "|   4.4|\n",
            "|   3.5|\n",
            "|   1.0|\n",
            "+------+\n",
            "only showing top 20 rows\n",
            "\n"
          ]
        }
      ]
    },
    {
      "cell_type": "code",
      "source": [
        "df6 = df5.filter((col(\"Type\") == \"Paid\") & (col(\"Rating\") != \"NaN\"))\n",
        "df6.show()"
      ],
      "metadata": {
        "colab": {
          "base_uri": "https://localhost:8080/"
        },
        "id": "Wx_2JNpMPwZU",
        "outputId": "565e0490-9e85-46db-e112-c4559a0a0d5f"
      },
      "execution_count": 294,
      "outputs": [
        {
          "output_type": "stream",
          "name": "stdout",
          "text": [
            "+--------------------+-------------------+------+-------+--------+----+-----+--------------+-----------------+\n",
            "|                 App|           Category|Rating|Reviews|Installs|Type|Price|Content Rating|           Genres|\n",
            "+--------------------+-------------------+------+-------+--------+----+-----+--------------+-----------------+\n",
            "|10 WPM Amateur ha...|      COMMUNICATION|   3.5|     10|     100|Paid| 1.49|      Everyone|    Communication|\n",
            "|10,000 Quotes DB ...|BOOKS_AND_REFERENCE|   4.1|     70|     500|Paid| 0.99|      Everyone|Books & Reference|\n",
            "|17th Edition Cabl...|BOOKS_AND_REFERENCE|   4.4|     47|    1000|Paid| 3.08|      Everyone|Books & Reference|\n",
            "|2 Amateur ham rad...|      COMMUNICATION|   4.8|      6|     100|Paid| 1.49|      Everyone|    Communication|\n",
            "|2017 EMRA Antibio...|            MEDICAL|   4.4|     12|    1000|Paid|16.99|      Everyone|          Medical|\n",
            "|20WPM Amateur ham...|      COMMUNICATION|   4.3|     12|     100|Paid| 1.49|      Everyone|    Communication|\n",
            "|              211:CK|               GAME|   5.0|      8|      10|Paid| 0.99|          Teen|           Arcade|\n",
            "|30WPM Amateur ham...|             FAMILY|   5.0|      1|      10|Paid| 1.49|      Everyone|        Education|\n",
            "|500 AP World Hist...|             FAMILY|   4.7|      7|     100|Paid| 9.99|      Everyone|        Education|\n",
            "|A Manual of Acupu...|            MEDICAL|   3.5|    214|    1000|Paid|33.99|      Everyone|          Medical|\n",
            "|A41 WatchFace for...|          LIFESTYLE|   4.5|    231|    5000|Paid| 0.99|      Everyone|        Lifestyle|\n",
            "| AC DC Power Monitor|          LIFESTYLE|   5.0|      1|      10|Paid| 3.04|      Everyone|        Lifestyle|\n",
            "|ACCDB MDB DB Mana...|       PRODUCTIVITY|   3.1|     19|     500|Paid| 8.99|      Everyone|     Productivity|\n",
            "|        ADS-B Driver|              TOOLS|   5.0|      2|     100|Paid| 1.99|      Everyone|            Tools|\n",
            "|    ADWLauncher 1 EX|    PERSONALIZATION|   4.3|  28728|  500000|Paid| 2.49|      Everyone|  Personalization|\n",
            "|AG Contacts, Prem...|      COMMUNICATION|   4.5|     88|     500|Paid| 4.99|      Everyone|    Communication|\n",
            "|AG Subway Simulat...|             FAMILY|   4.5|    623|    5000|Paid| 0.99|      Everyone|       Simulation|\n",
            "|      AH Alarm Panel|              TOOLS|   3.9|      7|     100|Paid| 4.99|      Everyone|            Tools|\n",
            "|AI Draw | Art Fil...|        PHOTOGRAPHY|   3.0|     20|    1000|Paid| 2.99|      Everyone|      Photography|\n",
            "|   AJ Blue Icon Pack|    PERSONALIZATION|   5.0|      4|      50|Paid| 0.99|      Everyone|  Personalization|\n",
            "+--------------------+-------------------+------+-------+--------+----+-----+--------------+-----------------+\n",
            "only showing top 20 rows\n",
            "\n"
          ]
        }
      ]
    },
    {
      "cell_type": "code",
      "source": [
        "df6.count()"
      ],
      "metadata": {
        "colab": {
          "base_uri": "https://localhost:8080/"
        },
        "id": "4sM28geDQVpO",
        "outputId": "f28d38dd-ca37-491c-e641-e4920be0deb4"
      },
      "execution_count": 295,
      "outputs": [
        {
          "output_type": "execute_result",
          "data": {
            "text/plain": [
              "606"
            ]
          },
          "metadata": {},
          "execution_count": 295
        }
      ]
    },
    {
      "cell_type": "code",
      "source": [
        "top_paid_rating_apps = df6.filter(df1[\"Type\"] == \"Paid\").orderBy(desc(\"Rating\")).select(\"App\", \"Rating\").limit(20)\n",
        "top_paid_rating_apps.show()"
      ],
      "metadata": {
        "colab": {
          "base_uri": "https://localhost:8080/"
        },
        "id": "4N8cDHq2Jcau",
        "outputId": "d93f618b-5c3f-450c-efd2-5b9972399438"
      },
      "execution_count": 297,
      "outputs": [
        {
          "output_type": "stream",
          "name": "stdout",
          "text": [
            "+--------------------+------+\n",
            "|                 App|Rating|\n",
            "+--------------------+------+\n",
            "|AJ Gray Dark Icon...|   5.0|\n",
            "|              211:CK|   5.0|\n",
            "|30WPM Amateur ham...|   5.0|\n",
            "| AC DC Power Monitor|   5.0|\n",
            "|        ADS-B Driver|   5.0|\n",
            "|   AJ Blue Icon Pack|   5.0|\n",
            "|AP Art History Fl...|   5.0|\n",
            "|Android P Style I...|   5.0|\n",
            "|        BC MVA Fines|   5.0|\n",
            "|Hey AJ! It's Satu...|   5.0|\n",
            "|         CA Speakers|   5.0|\n",
            "|CI 174 Gray Icon ...|   5.0|\n",
            "|       Chronolink DX|   5.0|\n",
            "|    DL Image Manager|   5.0|\n",
            "|Easy Hotspot Ad Free|   5.0|\n",
            "|      FHR 5-Tier 2.0|   5.0|\n",
            "|            FO Bixby|   5.0|\n",
            "|Hey AJ! It's Bedt...|   5.0|\n",
            "|        Morse Player|   5.0|\n",
            "|             Mu.F.O.|   5.0|\n",
            "+--------------------+------+\n",
            "\n"
          ]
        }
      ]
    },
    {
      "cell_type": "markdown",
      "source": [
        "# **top 10 installs apps **"
      ],
      "metadata": {
        "id": "5fD4FCbMRKGx"
      }
    },
    {
      "cell_type": "code",
      "source": [
        "top_10_installs = df5.orderBy(desc(\"Installs\")).select(\"App\", \"Installs\", \"Type\").limit(10)\n",
        "top_10_installs.show()\n",
        "\n"
      ],
      "metadata": {
        "colab": {
          "base_uri": "https://localhost:8080/"
        },
        "id": "KJiP5MMSRBBF",
        "outputId": "5e9440ce-0154-4d7c-8356-741839c3e581"
      },
      "execution_count": 298,
      "outputs": [
        {
          "output_type": "stream",
          "name": "stdout",
          "text": [
            "+--------------------+----------+----+\n",
            "|                 App|  Installs|Type|\n",
            "+--------------------+----------+----+\n",
            "|              Google|1000000000|Free|\n",
            "|  Google Street View|1000000000|Free|\n",
            "|Google Chrome: Fa...|1000000000|Free|\n",
            "|            Facebook|1000000000|Free|\n",
            "|        Google Drive|1000000000|Free|\n",
            "|   Google Play Books|1000000000|Free|\n",
            "|   Google Play Games|1000000000|Free|\n",
            "|               Gmail|1000000000|Free|\n",
            "|   Google Play Games|1000000000|Free|\n",
            "|       Google Photos|1000000000|Free|\n",
            "+--------------------+----------+----+\n",
            "\n",
            "+----+-----+\n",
            "|Type|count|\n",
            "+----+-----+\n",
            "|   0|    1|\n",
            "| NaN|    1|\n",
            "|Free| 8997|\n",
            "|Paid|  758|\n",
            "+----+-----+\n",
            "\n"
          ]
        }
      ]
    },
    {
      "cell_type": "code",
      "source": [
        "type_distribution = df5.groupBy(\"Type\").count()\n",
        "type_distribution.show()\n"
      ],
      "metadata": {
        "colab": {
          "base_uri": "https://localhost:8080/"
        },
        "id": "G2K77GgIRT3g",
        "outputId": "22fee67a-a8d5-448e-a1a7-1b3b40693d99"
      },
      "execution_count": 299,
      "outputs": [
        {
          "output_type": "stream",
          "name": "stdout",
          "text": [
            "+----+-----+\n",
            "|Type|count|\n",
            "+----+-----+\n",
            "|   0|    1|\n",
            "| NaN|    1|\n",
            "|Free| 8997|\n",
            "|Paid|  758|\n",
            "+----+-----+\n",
            "\n"
          ]
        }
      ]
    },
    {
      "cell_type": "code",
      "source": [
        "category_distribution = df1.groupBy(\"Category\").count().orderBy(desc(\"count\"))\n",
        "category_distribution.show()"
      ],
      "metadata": {
        "colab": {
          "base_uri": "https://localhost:8080/"
        },
        "id": "OBsl7aOwRU5s",
        "outputId": "2ff3632d-1181-4ffa-94c5-074c22802afd"
      },
      "execution_count": 300,
      "outputs": [
        {
          "output_type": "stream",
          "name": "stdout",
          "text": [
            "+-------------------+-----+\n",
            "|           Category|count|\n",
            "+-------------------+-----+\n",
            "|             FAMILY| 1943|\n",
            "|               GAME| 1121|\n",
            "|              TOOLS|  842|\n",
            "|           BUSINESS|  427|\n",
            "|            MEDICAL|  408|\n",
            "|       PRODUCTIVITY|  407|\n",
            "|    PERSONALIZATION|  388|\n",
            "|          LIFESTYLE|  373|\n",
            "|      COMMUNICATION|  366|\n",
            "|            FINANCE|  360|\n",
            "|             SPORTS|  351|\n",
            "|        PHOTOGRAPHY|  322|\n",
            "| HEALTH_AND_FITNESS|  306|\n",
            "|             SOCIAL|  280|\n",
            "| NEWS_AND_MAGAZINES|  264|\n",
            "|   TRAVEL_AND_LOCAL|  237|\n",
            "|BOOKS_AND_REFERENCE|  230|\n",
            "|           SHOPPING|  223|\n",
            "|             DATING|  196|\n",
            "|      VIDEO_PLAYERS|  175|\n",
            "+-------------------+-----+\n",
            "only showing top 20 rows\n",
            "\n"
          ]
        }
      ]
    },
    {
      "cell_type": "code",
      "source": [
        "print(\"Correlation between installs and ratings:\", df6.stat.corr(\"Installs\", \"Rating\"))\n"
      ],
      "metadata": {
        "colab": {
          "base_uri": "https://localhost:8080/"
        },
        "id": "lGPg8PSARjFN",
        "outputId": "ab42c3d5-6db2-4bdf-e83e-2168ed957758"
      },
      "execution_count": 304,
      "outputs": [
        {
          "output_type": "stream",
          "name": "stdout",
          "text": [
            "Correlation between installs and ratings: 0.06048990562269225\n"
          ]
        }
      ]
    },
    {
      "cell_type": "code",
      "source": [
        "print(\"Correlation between installs and Price:\", df5.stat.corr(\"Installs\", \"Price\"))\n"
      ],
      "metadata": {
        "colab": {
          "base_uri": "https://localhost:8080/"
        },
        "id": "fyTc5CB-Rpf6",
        "outputId": "58a0cbc3-2389-4ac1-da68-cec1aa18e545"
      },
      "execution_count": 306,
      "outputs": [
        {
          "output_type": "stream",
          "name": "stdout",
          "text": [
            "Correlation between installs and Price: -0.00961491394199247\n"
          ]
        }
      ]
    }
  ]
}